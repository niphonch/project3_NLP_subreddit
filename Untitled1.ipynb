{
 "cells": [
  {
   "cell_type": "code",
   "execution_count": 1,
   "id": "1f3efbcb",
   "metadata": {},
   "outputs": [],
   "source": [
    "# Import libraries\n",
    "import pandas as pd\n",
    "import numpy as np\n",
    "import seaborn as sns\n",
    "import matplotlib.pyplot as plt\n",
    "\n",
    "from nltk.tokenize import RegexpTokenizer\n",
    "\n",
    "# sklearn libraries\n",
    "from sklearn.pipeline                import Pipeline\n",
    "from sklearn.linear_model            import LogisticRegression\n",
    "from sklearn.naive_bayes             import MultinomialNB\n",
    "from sklearn.ensemble                import RandomForestClassifier\n",
    "from sklearn.model_selection         import train_test_split, GridSearchCV\n",
    "from sklearn.feature_extraction.text import CountVectorizer, TfidfVectorizer"
   ]
  },
  {
   "cell_type": "code",
   "execution_count": 2,
   "id": "9aefef7b",
   "metadata": {},
   "outputs": [],
   "source": [
    "df1 =pd.read_csv('data/nba.csv')\n",
    "df2 =pd.read_csv('data/cfb.csv')"
   ]
  },
  {
   "cell_type": "code",
   "execution_count": 3,
   "id": "f27723d5",
   "metadata": {},
   "outputs": [
    {
     "data": {
      "text/html": [
       "<div>\n",
       "<style scoped>\n",
       "    .dataframe tbody tr th:only-of-type {\n",
       "        vertical-align: middle;\n",
       "    }\n",
       "\n",
       "    .dataframe tbody tr th {\n",
       "        vertical-align: top;\n",
       "    }\n",
       "\n",
       "    .dataframe thead th {\n",
       "        text-align: right;\n",
       "    }\n",
       "</style>\n",
       "<table border=\"1\" class=\"dataframe\">\n",
       "  <thead>\n",
       "    <tr style=\"text-align: right;\">\n",
       "      <th></th>\n",
       "      <th>approved_at_utc</th>\n",
       "      <th>subreddit</th>\n",
       "      <th>selftext</th>\n",
       "      <th>author_fullname</th>\n",
       "      <th>saved</th>\n",
       "      <th>mod_reason_title</th>\n",
       "      <th>gilded</th>\n",
       "      <th>clicked</th>\n",
       "      <th>title</th>\n",
       "      <th>link_flair_richtext</th>\n",
       "      <th>...</th>\n",
       "      <th>subreddit_subscribers</th>\n",
       "      <th>created_utc</th>\n",
       "      <th>num_crossposts</th>\n",
       "      <th>media</th>\n",
       "      <th>is_video</th>\n",
       "      <th>post_hint</th>\n",
       "      <th>preview</th>\n",
       "      <th>link_flair_template_id</th>\n",
       "      <th>call_to_action</th>\n",
       "      <th>author_cakeday</th>\n",
       "    </tr>\n",
       "  </thead>\n",
       "  <tbody>\n",
       "    <tr>\n",
       "      <th>0</th>\n",
       "      <td>NaN</td>\n",
       "      <td>nba</td>\n",
       "      <td>NaN</td>\n",
       "      <td>t2_14c5xr</td>\n",
       "      <td>False</td>\n",
       "      <td>NaN</td>\n",
       "      <td>0</td>\n",
       "      <td>False</td>\n",
       "      <td>[Slater] Steve Kerr: “In 32 years, I’ve probab...</td>\n",
       "      <td>[]</td>\n",
       "      <td>...</td>\n",
       "      <td>5277889</td>\n",
       "      <td>1.665261e+09</td>\n",
       "      <td>0</td>\n",
       "      <td>NaN</td>\n",
       "      <td>False</td>\n",
       "      <td>NaN</td>\n",
       "      <td>NaN</td>\n",
       "      <td>NaN</td>\n",
       "      <td>NaN</td>\n",
       "      <td>NaN</td>\n",
       "    </tr>\n",
       "    <tr>\n",
       "      <th>1</th>\n",
       "      <td>NaN</td>\n",
       "      <td>nba</td>\n",
       "      <td>Green says he has apologized to Jordan Poole a...</td>\n",
       "      <td>t2_zh844</td>\n",
       "      <td>False</td>\n",
       "      <td>NaN</td>\n",
       "      <td>0</td>\n",
       "      <td>False</td>\n",
       "      <td>[Andrews] Green says he has apologized to Jord...</td>\n",
       "      <td>[]</td>\n",
       "      <td>...</td>\n",
       "      <td>5277889</td>\n",
       "      <td>1.665253e+09</td>\n",
       "      <td>0</td>\n",
       "      <td>NaN</td>\n",
       "      <td>False</td>\n",
       "      <td>self</td>\n",
       "      <td>{'images': [{'source': {'url': 'https://extern...</td>\n",
       "      <td>NaN</td>\n",
       "      <td>NaN</td>\n",
       "      <td>NaN</td>\n",
       "    </tr>\n",
       "    <tr>\n",
       "      <th>2</th>\n",
       "      <td>NaN</td>\n",
       "      <td>nba</td>\n",
       "      <td>NaN</td>\n",
       "      <td>t2_13fwme</td>\n",
       "      <td>False</td>\n",
       "      <td>NaN</td>\n",
       "      <td>0</td>\n",
       "      <td>False</td>\n",
       "      <td>[Haynes] Golden State Warriors forward Draymon...</td>\n",
       "      <td>[{'e': 'text', 't': 'News'}]</td>\n",
       "      <td>...</td>\n",
       "      <td>5277889</td>\n",
       "      <td>1.665251e+09</td>\n",
       "      <td>0</td>\n",
       "      <td>{'oembed': {'provider_url': 'https://twitter.c...</td>\n",
       "      <td>False</td>\n",
       "      <td>link</td>\n",
       "      <td>{'images': [{'source': {'url': 'https://extern...</td>\n",
       "      <td>dbc12ec6-5c53-11e4-93ee-12313b0b3108</td>\n",
       "      <td>NaN</td>\n",
       "      <td>NaN</td>\n",
       "    </tr>\n",
       "    <tr>\n",
       "      <th>3</th>\n",
       "      <td>NaN</td>\n",
       "      <td>nba</td>\n",
       "      <td>NaN</td>\n",
       "      <td>t2_r7aedzx2</td>\n",
       "      <td>False</td>\n",
       "      <td>NaN</td>\n",
       "      <td>0</td>\n",
       "      <td>False</td>\n",
       "      <td>Dwight: I remember going to Kobe's house one t...</td>\n",
       "      <td>[]</td>\n",
       "      <td>...</td>\n",
       "      <td>5277889</td>\n",
       "      <td>1.665254e+09</td>\n",
       "      <td>1</td>\n",
       "      <td>{'oembed': {'provider_url': 'https://streamabl...</td>\n",
       "      <td>False</td>\n",
       "      <td>rich:video</td>\n",
       "      <td>{'images': [{'source': {'url': 'https://extern...</td>\n",
       "      <td>NaN</td>\n",
       "      <td>NaN</td>\n",
       "      <td>NaN</td>\n",
       "    </tr>\n",
       "    <tr>\n",
       "      <th>4</th>\n",
       "      <td>NaN</td>\n",
       "      <td>nba</td>\n",
       "      <td>NaN</td>\n",
       "      <td>t2_extny</td>\n",
       "      <td>False</td>\n",
       "      <td>NaN</td>\n",
       "      <td>0</td>\n",
       "      <td>False</td>\n",
       "      <td>[Slater] Steve Kerr: “For whatever reason, we’...</td>\n",
       "      <td>[]</td>\n",
       "      <td>...</td>\n",
       "      <td>5277889</td>\n",
       "      <td>1.665259e+09</td>\n",
       "      <td>0</td>\n",
       "      <td>{'oembed': {'provider_url': 'https://twitter.c...</td>\n",
       "      <td>False</td>\n",
       "      <td>link</td>\n",
       "      <td>{'images': [{'source': {'url': 'https://extern...</td>\n",
       "      <td>NaN</td>\n",
       "      <td>NaN</td>\n",
       "      <td>NaN</td>\n",
       "    </tr>\n",
       "  </tbody>\n",
       "</table>\n",
       "<p>5 rows × 112 columns</p>\n",
       "</div>"
      ],
      "text/plain": [
       "   approved_at_utc subreddit  \\\n",
       "0              NaN       nba   \n",
       "1              NaN       nba   \n",
       "2              NaN       nba   \n",
       "3              NaN       nba   \n",
       "4              NaN       nba   \n",
       "\n",
       "                                            selftext author_fullname  saved  \\\n",
       "0                                                NaN       t2_14c5xr  False   \n",
       "1  Green says he has apologized to Jordan Poole a...        t2_zh844  False   \n",
       "2                                                NaN       t2_13fwme  False   \n",
       "3                                                NaN     t2_r7aedzx2  False   \n",
       "4                                                NaN        t2_extny  False   \n",
       "\n",
       "   mod_reason_title  gilded  clicked  \\\n",
       "0               NaN       0    False   \n",
       "1               NaN       0    False   \n",
       "2               NaN       0    False   \n",
       "3               NaN       0    False   \n",
       "4               NaN       0    False   \n",
       "\n",
       "                                               title  \\\n",
       "0  [Slater] Steve Kerr: “In 32 years, I’ve probab...   \n",
       "1  [Andrews] Green says he has apologized to Jord...   \n",
       "2  [Haynes] Golden State Warriors forward Draymon...   \n",
       "3  Dwight: I remember going to Kobe's house one t...   \n",
       "4  [Slater] Steve Kerr: “For whatever reason, we’...   \n",
       "\n",
       "            link_flair_richtext  ... subreddit_subscribers   created_utc  \\\n",
       "0                            []  ...               5277889  1.665261e+09   \n",
       "1                            []  ...               5277889  1.665253e+09   \n",
       "2  [{'e': 'text', 't': 'News'}]  ...               5277889  1.665251e+09   \n",
       "3                            []  ...               5277889  1.665254e+09   \n",
       "4                            []  ...               5277889  1.665259e+09   \n",
       "\n",
       "   num_crossposts                                              media  \\\n",
       "0               0                                                NaN   \n",
       "1               0                                                NaN   \n",
       "2               0  {'oembed': {'provider_url': 'https://twitter.c...   \n",
       "3               1  {'oembed': {'provider_url': 'https://streamabl...   \n",
       "4               0  {'oembed': {'provider_url': 'https://twitter.c...   \n",
       "\n",
       "   is_video   post_hint                                            preview  \\\n",
       "0     False         NaN                                                NaN   \n",
       "1     False        self  {'images': [{'source': {'url': 'https://extern...   \n",
       "2     False        link  {'images': [{'source': {'url': 'https://extern...   \n",
       "3     False  rich:video  {'images': [{'source': {'url': 'https://extern...   \n",
       "4     False        link  {'images': [{'source': {'url': 'https://extern...   \n",
       "\n",
       "                 link_flair_template_id call_to_action  author_cakeday  \n",
       "0                                   NaN            NaN             NaN  \n",
       "1                                   NaN            NaN             NaN  \n",
       "2  dbc12ec6-5c53-11e4-93ee-12313b0b3108            NaN             NaN  \n",
       "3                                   NaN            NaN             NaN  \n",
       "4                                   NaN            NaN             NaN  \n",
       "\n",
       "[5 rows x 112 columns]"
      ]
     },
     "execution_count": 3,
     "metadata": {},
     "output_type": "execute_result"
    }
   ],
   "source": [
    "df1.head()"
   ]
  },
  {
   "cell_type": "code",
   "execution_count": 4,
   "id": "8ee23294",
   "metadata": {},
   "outputs": [
    {
     "data": {
      "text/html": [
       "<div>\n",
       "<style scoped>\n",
       "    .dataframe tbody tr th:only-of-type {\n",
       "        vertical-align: middle;\n",
       "    }\n",
       "\n",
       "    .dataframe tbody tr th {\n",
       "        vertical-align: top;\n",
       "    }\n",
       "\n",
       "    .dataframe thead th {\n",
       "        text-align: right;\n",
       "    }\n",
       "</style>\n",
       "<table border=\"1\" class=\"dataframe\">\n",
       "  <thead>\n",
       "    <tr style=\"text-align: right;\">\n",
       "      <th></th>\n",
       "      <th>approved_at_utc</th>\n",
       "      <th>subreddit</th>\n",
       "      <th>selftext</th>\n",
       "      <th>author_fullname</th>\n",
       "      <th>saved</th>\n",
       "      <th>mod_reason_title</th>\n",
       "      <th>gilded</th>\n",
       "      <th>clicked</th>\n",
       "      <th>title</th>\n",
       "      <th>link_flair_richtext</th>\n",
       "      <th>...</th>\n",
       "      <th>media</th>\n",
       "      <th>is_video</th>\n",
       "      <th>link_flair_template_id</th>\n",
       "      <th>post_hint</th>\n",
       "      <th>preview</th>\n",
       "      <th>url_overridden_by_dest</th>\n",
       "      <th>call_to_action</th>\n",
       "      <th>crosspost_parent_list</th>\n",
       "      <th>crosspost_parent</th>\n",
       "      <th>author_cakeday</th>\n",
       "    </tr>\n",
       "  </thead>\n",
       "  <tbody>\n",
       "    <tr>\n",
       "      <th>0</th>\n",
       "      <td>NaN</td>\n",
       "      <td>CFB</td>\n",
       "      <td>Scroll to bottom for FAQ.\\n\\n|Visitor|Home|Gam...</td>\n",
       "      <td>t2_561oa</td>\n",
       "      <td>False</td>\n",
       "      <td>NaN</td>\n",
       "      <td>0</td>\n",
       "      <td>False</td>\n",
       "      <td>Week 6 Game Thread and Postgame Thread Index</td>\n",
       "      <td>[]</td>\n",
       "      <td>...</td>\n",
       "      <td>NaN</td>\n",
       "      <td>False</td>\n",
       "      <td>NaN</td>\n",
       "      <td>NaN</td>\n",
       "      <td>NaN</td>\n",
       "      <td>NaN</td>\n",
       "      <td>NaN</td>\n",
       "      <td>NaN</td>\n",
       "      <td>NaN</td>\n",
       "      <td>NaN</td>\n",
       "    </tr>\n",
       "    <tr>\n",
       "      <th>1</th>\n",
       "      <td>NaN</td>\n",
       "      <td>CFB</td>\n",
       "      <td>Post any pictures, videos, or gifs of highligh...</td>\n",
       "      <td>t2_9b4ks</td>\n",
       "      <td>False</td>\n",
       "      <td>NaN</td>\n",
       "      <td>0</td>\n",
       "      <td>False</td>\n",
       "      <td>Picture/Video/GIF Thread</td>\n",
       "      <td>[{'e': 'text', 't': 'Weekly Thread'}]</td>\n",
       "      <td>...</td>\n",
       "      <td>NaN</td>\n",
       "      <td>False</td>\n",
       "      <td>5ad86fba-6c28-11e4-8e92-12313d1a20df</td>\n",
       "      <td>NaN</td>\n",
       "      <td>NaN</td>\n",
       "      <td>NaN</td>\n",
       "      <td>NaN</td>\n",
       "      <td>NaN</td>\n",
       "      <td>NaN</td>\n",
       "      <td>NaN</td>\n",
       "    </tr>\n",
       "    <tr>\n",
       "      <th>2</th>\n",
       "      <td>NaN</td>\n",
       "      <td>CFB</td>\n",
       "      <td>[Box Score provided by ESPN](http://www.espn.c...</td>\n",
       "      <td>t2_9b4ks</td>\n",
       "      <td>False</td>\n",
       "      <td>NaN</td>\n",
       "      <td>4</td>\n",
       "      <td>False</td>\n",
       "      <td>[Postgame Thread] Texas Defeats Oklahoma 49-0</td>\n",
       "      <td>[{'e': 'text', 't': 'Postgame Thread'}]</td>\n",
       "      <td>...</td>\n",
       "      <td>NaN</td>\n",
       "      <td>False</td>\n",
       "      <td>811b723e-2f8e-11e4-8c45-12313b0b2072</td>\n",
       "      <td>self</td>\n",
       "      <td>{'images': [{'source': {'url': 'https://extern...</td>\n",
       "      <td>NaN</td>\n",
       "      <td>NaN</td>\n",
       "      <td>NaN</td>\n",
       "      <td>NaN</td>\n",
       "      <td>NaN</td>\n",
       "    </tr>\n",
       "    <tr>\n",
       "      <th>3</th>\n",
       "      <td>NaN</td>\n",
       "      <td>CFB</td>\n",
       "      <td>[Box Score provided by ESPN](http://www.espn.c...</td>\n",
       "      <td>t2_3fxjnp7w</td>\n",
       "      <td>False</td>\n",
       "      <td>NaN</td>\n",
       "      <td>0</td>\n",
       "      <td>False</td>\n",
       "      <td>[Postgame Thread] Illinois Defeats Iowa 9-6</td>\n",
       "      <td>[{'e': 'text', 't': 'Postgame Thread'}]</td>\n",
       "      <td>...</td>\n",
       "      <td>NaN</td>\n",
       "      <td>False</td>\n",
       "      <td>811b723e-2f8e-11e4-8c45-12313b0b2072</td>\n",
       "      <td>self</td>\n",
       "      <td>{'images': [{'source': {'url': 'https://extern...</td>\n",
       "      <td>NaN</td>\n",
       "      <td>NaN</td>\n",
       "      <td>NaN</td>\n",
       "      <td>NaN</td>\n",
       "      <td>NaN</td>\n",
       "    </tr>\n",
       "    <tr>\n",
       "      <th>4</th>\n",
       "      <td>NaN</td>\n",
       "      <td>CFB</td>\n",
       "      <td>[Box Score provided by ESPN](http://www.espn.c...</td>\n",
       "      <td>t2_9b4ks</td>\n",
       "      <td>False</td>\n",
       "      <td>NaN</td>\n",
       "      <td>0</td>\n",
       "      <td>False</td>\n",
       "      <td>[Postgame Thread] Alabama Defeats Texas A&amp;amp;...</td>\n",
       "      <td>[{'e': 'text', 't': 'Postgame Thread'}]</td>\n",
       "      <td>...</td>\n",
       "      <td>NaN</td>\n",
       "      <td>False</td>\n",
       "      <td>811b723e-2f8e-11e4-8c45-12313b0b2072</td>\n",
       "      <td>self</td>\n",
       "      <td>{'images': [{'source': {'url': 'https://extern...</td>\n",
       "      <td>NaN</td>\n",
       "      <td>NaN</td>\n",
       "      <td>NaN</td>\n",
       "      <td>NaN</td>\n",
       "      <td>NaN</td>\n",
       "    </tr>\n",
       "  </tbody>\n",
       "</table>\n",
       "<p>5 rows × 114 columns</p>\n",
       "</div>"
      ],
      "text/plain": [
       "   approved_at_utc subreddit  \\\n",
       "0              NaN       CFB   \n",
       "1              NaN       CFB   \n",
       "2              NaN       CFB   \n",
       "3              NaN       CFB   \n",
       "4              NaN       CFB   \n",
       "\n",
       "                                            selftext author_fullname  saved  \\\n",
       "0  Scroll to bottom for FAQ.\\n\\n|Visitor|Home|Gam...        t2_561oa  False   \n",
       "1  Post any pictures, videos, or gifs of highligh...        t2_9b4ks  False   \n",
       "2  [Box Score provided by ESPN](http://www.espn.c...        t2_9b4ks  False   \n",
       "3  [Box Score provided by ESPN](http://www.espn.c...     t2_3fxjnp7w  False   \n",
       "4  [Box Score provided by ESPN](http://www.espn.c...        t2_9b4ks  False   \n",
       "\n",
       "   mod_reason_title  gilded  clicked  \\\n",
       "0               NaN       0    False   \n",
       "1               NaN       0    False   \n",
       "2               NaN       4    False   \n",
       "3               NaN       0    False   \n",
       "4               NaN       0    False   \n",
       "\n",
       "                                               title  \\\n",
       "0       Week 6 Game Thread and Postgame Thread Index   \n",
       "1                           Picture/Video/GIF Thread   \n",
       "2      [Postgame Thread] Texas Defeats Oklahoma 49-0   \n",
       "3        [Postgame Thread] Illinois Defeats Iowa 9-6   \n",
       "4  [Postgame Thread] Alabama Defeats Texas A&amp;...   \n",
       "\n",
       "                       link_flair_richtext  ... media  is_video  \\\n",
       "0                                       []  ...   NaN     False   \n",
       "1    [{'e': 'text', 't': 'Weekly Thread'}]  ...   NaN     False   \n",
       "2  [{'e': 'text', 't': 'Postgame Thread'}]  ...   NaN     False   \n",
       "3  [{'e': 'text', 't': 'Postgame Thread'}]  ...   NaN     False   \n",
       "4  [{'e': 'text', 't': 'Postgame Thread'}]  ...   NaN     False   \n",
       "\n",
       "                 link_flair_template_id post_hint  \\\n",
       "0                                   NaN       NaN   \n",
       "1  5ad86fba-6c28-11e4-8e92-12313d1a20df       NaN   \n",
       "2  811b723e-2f8e-11e4-8c45-12313b0b2072      self   \n",
       "3  811b723e-2f8e-11e4-8c45-12313b0b2072      self   \n",
       "4  811b723e-2f8e-11e4-8c45-12313b0b2072      self   \n",
       "\n",
       "                                             preview  url_overridden_by_dest  \\\n",
       "0                                                NaN                     NaN   \n",
       "1                                                NaN                     NaN   \n",
       "2  {'images': [{'source': {'url': 'https://extern...                     NaN   \n",
       "3  {'images': [{'source': {'url': 'https://extern...                     NaN   \n",
       "4  {'images': [{'source': {'url': 'https://extern...                     NaN   \n",
       "\n",
       "  call_to_action  crosspost_parent_list crosspost_parent  author_cakeday  \n",
       "0            NaN                    NaN              NaN             NaN  \n",
       "1            NaN                    NaN              NaN             NaN  \n",
       "2            NaN                    NaN              NaN             NaN  \n",
       "3            NaN                    NaN              NaN             NaN  \n",
       "4            NaN                    NaN              NaN             NaN  \n",
       "\n",
       "[5 rows x 114 columns]"
      ]
     },
     "execution_count": 4,
     "metadata": {},
     "output_type": "execute_result"
    }
   ],
   "source": [
    "df2.head()"
   ]
  },
  {
   "cell_type": "code",
   "execution_count": 5,
   "id": "1a0467a1",
   "metadata": {},
   "outputs": [
    {
     "data": {
      "text/plain": [
       "(982, 114)"
      ]
     },
     "execution_count": 5,
     "metadata": {},
     "output_type": "execute_result"
    }
   ],
   "source": [
    "df2.shape"
   ]
  },
  {
   "cell_type": "code",
   "execution_count": 6,
   "id": "22f62a6b",
   "metadata": {},
   "outputs": [
    {
     "data": {
      "text/plain": [
       "(1963, 114)"
      ]
     },
     "execution_count": 6,
     "metadata": {},
     "output_type": "execute_result"
    }
   ],
   "source": [
    "# append two dataframe into one for data training\n",
    "df = pd.concat([df1, df2], axis=0)\n",
    "df = df.reset_index(drop=True)\n",
    "df.shape"
   ]
  },
  {
   "cell_type": "code",
   "execution_count": 7,
   "id": "79013c9f",
   "metadata": {},
   "outputs": [
    {
     "name": "stdout",
     "output_type": "stream",
     "text": [
      "<class 'pandas.core.frame.DataFrame'>\n",
      "RangeIndex: 1963 entries, 0 to 1962\n",
      "Columns: 114 entries, approved_at_utc to crosspost_parent\n",
      "dtypes: bool(28), float64(23), int64(10), object(53)\n",
      "memory usage: 1.3+ MB\n"
     ]
    }
   ],
   "source": [
    "df.info()"
   ]
  },
  {
   "cell_type": "code",
   "execution_count": 8,
   "id": "70be518f",
   "metadata": {},
   "outputs": [
    {
     "data": {
      "text/plain": [
       "CFB    982\n",
       "nba    981\n",
       "Name: subreddit, dtype: int64"
      ]
     },
     "execution_count": 8,
     "metadata": {},
     "output_type": "execute_result"
    }
   ],
   "source": [
    "df.subreddit.value_counts()"
   ]
  },
  {
   "cell_type": "code",
   "execution_count": 9,
   "id": "37811a18",
   "metadata": {},
   "outputs": [],
   "source": [
    "#rename column\n",
    "df.rename(columns = {'subreddit':'is_nba'}, inplace = True)\n",
    "# Create label column\n",
    "df['is_nba'] = df['is_nba'].map({'CFB':0, 'nba':1})"
   ]
  },
  {
   "cell_type": "code",
   "execution_count": 10,
   "id": "775e1a47",
   "metadata": {},
   "outputs": [
    {
     "data": {
      "text/plain": [
       "0    982\n",
       "1    981\n",
       "Name: is_nba, dtype: int64"
      ]
     },
     "execution_count": 10,
     "metadata": {},
     "output_type": "execute_result"
    }
   ],
   "source": [
    "df.is_nba.value_counts()"
   ]
  },
  {
   "cell_type": "code",
   "execution_count": 11,
   "id": "0b3cc8f5",
   "metadata": {},
   "outputs": [],
   "source": [
    "df = df[['is_nba','author_fullname','title']].copy()"
   ]
  },
  {
   "cell_type": "code",
   "execution_count": 12,
   "id": "e979118a",
   "metadata": {},
   "outputs": [
    {
     "data": {
      "text/plain": [
       "(1963, 3)"
      ]
     },
     "execution_count": 12,
     "metadata": {},
     "output_type": "execute_result"
    }
   ],
   "source": [
    "df.shape"
   ]
  },
  {
   "cell_type": "code",
   "execution_count": 13,
   "id": "3437009c",
   "metadata": {},
   "outputs": [
    {
     "data": {
      "text/plain": [
       "is_nba              0\n",
       "author_fullname    11\n",
       "title               0\n",
       "dtype: int64"
      ]
     },
     "execution_count": 13,
     "metadata": {},
     "output_type": "execute_result"
    }
   ],
   "source": [
    "df.isnull().sum()"
   ]
  },
  {
   "cell_type": "code",
   "execution_count": 14,
   "id": "ac6b15e4",
   "metadata": {},
   "outputs": [
    {
     "data": {
      "text/plain": [
       "0"
      ]
     },
     "execution_count": 14,
     "metadata": {},
     "output_type": "execute_result"
    }
   ],
   "source": [
    "df.dropna(axis =0, inplace=True)\n",
    "df.isnull().sum().sum()"
   ]
  },
  {
   "cell_type": "code",
   "execution_count": 15,
   "id": "1040ccdf",
   "metadata": {},
   "outputs": [
    {
     "data": {
      "text/plain": [
       "(1952, 3)"
      ]
     },
     "execution_count": 15,
     "metadata": {},
     "output_type": "execute_result"
    }
   ],
   "source": [
    "df.shape"
   ]
  },
  {
   "cell_type": "markdown",
   "id": "fce34571",
   "metadata": {},
   "source": [
    "### Explore title length"
   ]
  },
  {
   "cell_type": "code",
   "execution_count": 16,
   "id": "23976128",
   "metadata": {},
   "outputs": [],
   "source": [
    "#a new column called title_length that contains the length of each status\n",
    "df['title_length'] = df['title'].str.len()"
   ]
  },
  {
   "cell_type": "code",
   "execution_count": 17,
   "id": "d0f80d2c",
   "metadata": {},
   "outputs": [],
   "source": [
    "#a new column called title_word_count that contains the number of words in each status\n",
    "# Instantiate RegExp Tokenizer\n",
    "tokenizer = RegexpTokenizer(r'\\w+')\n",
    "df['title_word_count'] = df['title'].str.lower().apply(lambda x: len(tokenizer.tokenize(x)))"
   ]
  },
  {
   "cell_type": "code",
   "execution_count": 18,
   "id": "f7c54d6c",
   "metadata": {},
   "outputs": [
    {
     "data": {
      "text/html": [
       "<div>\n",
       "<style scoped>\n",
       "    .dataframe tbody tr th:only-of-type {\n",
       "        vertical-align: middle;\n",
       "    }\n",
       "\n",
       "    .dataframe tbody tr th {\n",
       "        vertical-align: top;\n",
       "    }\n",
       "\n",
       "    .dataframe thead th {\n",
       "        text-align: right;\n",
       "    }\n",
       "</style>\n",
       "<table border=\"1\" class=\"dataframe\">\n",
       "  <thead>\n",
       "    <tr style=\"text-align: right;\">\n",
       "      <th></th>\n",
       "      <th>is_nba</th>\n",
       "      <th>title_length</th>\n",
       "      <th>title_word_count</th>\n",
       "      <th>title_ave_length</th>\n",
       "    </tr>\n",
       "  </thead>\n",
       "  <tbody>\n",
       "    <tr>\n",
       "      <th>count</th>\n",
       "      <td>1952.0</td>\n",
       "      <td>1952.00</td>\n",
       "      <td>1952.00</td>\n",
       "      <td>1952.00</td>\n",
       "    </tr>\n",
       "    <tr>\n",
       "      <th>mean</th>\n",
       "      <td>0.5</td>\n",
       "      <td>88.22</td>\n",
       "      <td>15.67</td>\n",
       "      <td>0.18</td>\n",
       "    </tr>\n",
       "    <tr>\n",
       "      <th>std</th>\n",
       "      <td>0.5</td>\n",
       "      <td>58.37</td>\n",
       "      <td>10.78</td>\n",
       "      <td>0.02</td>\n",
       "    </tr>\n",
       "    <tr>\n",
       "      <th>min</th>\n",
       "      <td>0.0</td>\n",
       "      <td>11.00</td>\n",
       "      <td>2.00</td>\n",
       "      <td>0.11</td>\n",
       "    </tr>\n",
       "    <tr>\n",
       "      <th>25%</th>\n",
       "      <td>0.0</td>\n",
       "      <td>49.00</td>\n",
       "      <td>8.00</td>\n",
       "      <td>0.16</td>\n",
       "    </tr>\n",
       "    <tr>\n",
       "      <th>50%</th>\n",
       "      <td>0.0</td>\n",
       "      <td>71.00</td>\n",
       "      <td>12.00</td>\n",
       "      <td>0.18</td>\n",
       "    </tr>\n",
       "    <tr>\n",
       "      <th>75%</th>\n",
       "      <td>1.0</td>\n",
       "      <td>104.00</td>\n",
       "      <td>18.00</td>\n",
       "      <td>0.19</td>\n",
       "    </tr>\n",
       "    <tr>\n",
       "      <th>max</th>\n",
       "      <td>1.0</td>\n",
       "      <td>304.00</td>\n",
       "      <td>64.00</td>\n",
       "      <td>0.33</td>\n",
       "    </tr>\n",
       "  </tbody>\n",
       "</table>\n",
       "</div>"
      ],
      "text/plain": [
       "       is_nba  title_length  title_word_count  title_ave_length\n",
       "count  1952.0       1952.00           1952.00           1952.00\n",
       "mean      0.5         88.22             15.67              0.18\n",
       "std       0.5         58.37             10.78              0.02\n",
       "min       0.0         11.00              2.00              0.11\n",
       "25%       0.0         49.00              8.00              0.16\n",
       "50%       0.0         71.00             12.00              0.18\n",
       "75%       1.0        104.00             18.00              0.19\n",
       "max       1.0        304.00             64.00              0.33"
      ]
     },
     "execution_count": 18,
     "metadata": {},
     "output_type": "execute_result"
    }
   ],
   "source": [
    "#  a new column called title_ave_length that contains the sum of the length of all the words and divide it by the total length of the status\n",
    "df['title_ave_length'] = df['title_word_count']/df['title_length']\n",
    "df.describe().round(2)"
   ]
  },
  {
   "cell_type": "code",
   "execution_count": 19,
   "id": "d03769d5",
   "metadata": {},
   "outputs": [
    {
     "data": {
      "image/png": "[encoded data removed]",
      "text/plain": [
       "<Figure size 432x288 with 2 Axes>"
      ]
     },
     "metadata": {
      "needs_background": "light"
     },
     "output_type": "display_data"
    }
   ],
   "source": [
    "#correlation matrix of 'title_ave_length' 'title_word_count' 'title_length'\n",
    "df_word = df[['title_ave_length','title_word_count','title_length']].copy()\n",
    "corr = df_word.corr()\n",
    "sns.heatmap(corr, cmap=\"Blues\", annot=True);"
   ]
  },
  {
   "cell_type": "code",
   "execution_count": 39,
   "id": "017e5ae4",
   "metadata": {},
   "outputs": [
    {
     "data": {
      "image/png": "[encoded data removed]",
      "text/plain": [
       "<Figure size 1224x360 with 3 Axes>"
      ]
     },
     "metadata": {
      "needs_background": "light"
     },
     "output_type": "display_data"
    },
    {
     "data": {
      "image/png": "[encoded data removed]",
      "text/plain": [
       "<Figure size 432x432 with 3 Axes>"
      ]
     },
     "metadata": {
      "needs_background": "light"
     },
     "output_type": "display_data"
    },
    {
     "data": {
      "image/png": "[encoded data removed]",
      "text/plain": [
       "<Figure size 432x432 with 3 Axes>"
      ]
     },
     "metadata": {
      "needs_background": "light"
     },
     "output_type": "display_data"
    },
    {
     "data": {
      "image/png": "[encoded data removed]",
      "text/plain": [
       "<Figure size 432x432 with 3 Axes>"
      ]
     },
     "metadata": {
      "needs_background": "light"
     },
     "output_type": "display_data"
    }
   ],
   "source": [
    "fig, ax = plt.subplots(nrows=1, ncols=3, figsize=(17,5))\n",
    "ax = ax.ravel() \n",
    "\n",
    "fig.suptitle(\"Jointplot\", fontsize=16)\n",
    "ax[0].set_title('title_ave_length VS title_word_count', fontsize =14)\n",
    "sns.jointplot(ax=ax[0], data=df, x='title_ave_length', y='title_word_count', hue='is_nba')\n",
    "\n",
    "ax[1].set_title('title_ave_length VS title_length', fontsize =14)\n",
    "sns.jointplot(ax=ax[1], data=df, x='title_ave_length', y='title_length', hue='is_nba')\n",
    "\n",
    "ax[2].set_title('title_word_count VS title_length', fontsize =14)\n",
    "sns.jointplot(ax=ax[2], data=df, x='title_word_count', y='title_length', hue='is_nba')\n",
    "\n",
    "plt.show()\n",
    "\n"
   ]
  },
  {
   "cell_type": "code",
   "execution_count": 26,
   "id": "7ca0a4ba",
   "metadata": {},
   "outputs": [
    {
     "name": "stderr",
     "output_type": "stream",
     "text": [
      "C:\\Users\\science01\\AppData\\Local\\Temp\\ipykernel_25164\\3856336870.py:1: FutureWarning: Indexing with multiple keys (implicitly converted to a tuple of keys) will be deprecated, use a list instead.\n",
      "  df.groupby(['is_nba'])['title_length','title_word_count','title_ave_length'].agg(['mean']).round(2)\n"
     ]
    },
    {
     "data": {
      "text/html": [
       "<div>\n",
       "<style scoped>\n",
       "    .dataframe tbody tr th:only-of-type {\n",
       "        vertical-align: middle;\n",
       "    }\n",
       "\n",
       "    .dataframe tbody tr th {\n",
       "        vertical-align: top;\n",
       "    }\n",
       "\n",
       "    .dataframe thead tr th {\n",
       "        text-align: left;\n",
       "    }\n",
       "\n",
       "    .dataframe thead tr:last-of-type th {\n",
       "        text-align: right;\n",
       "    }\n",
       "</style>\n",
       "<table border=\"1\" class=\"dataframe\">\n",
       "  <thead>\n",
       "    <tr>\n",
       "      <th></th>\n",
       "      <th>title_length</th>\n",
       "      <th>title_word_count</th>\n",
       "      <th>title_ave_length</th>\n",
       "    </tr>\n",
       "    <tr>\n",
       "      <th></th>\n",
       "      <th>mean</th>\n",
       "      <th>mean</th>\n",
       "      <th>mean</th>\n",
       "    </tr>\n",
       "    <tr>\n",
       "      <th>is_nba</th>\n",
       "      <th></th>\n",
       "      <th></th>\n",
       "      <th></th>\n",
       "    </tr>\n",
       "  </thead>\n",
       "  <tbody>\n",
       "    <tr>\n",
       "      <th>0</th>\n",
       "      <td>71.49</td>\n",
       "      <td>12.56</td>\n",
       "      <td>0.18</td>\n",
       "    </tr>\n",
       "    <tr>\n",
       "      <th>1</th>\n",
       "      <td>105.15</td>\n",
       "      <td>18.82</td>\n",
       "      <td>0.18</td>\n",
       "    </tr>\n",
       "  </tbody>\n",
       "</table>\n",
       "</div>"
      ],
      "text/plain": [
       "       title_length title_word_count title_ave_length\n",
       "               mean             mean             mean\n",
       "is_nba                                               \n",
       "0             71.49            12.56             0.18\n",
       "1            105.15            18.82             0.18"
      ]
     },
     "execution_count": 26,
     "metadata": {},
     "output_type": "execute_result"
    }
   ],
   "source": [
    "df.groupby(['is_nba'])['title_length','title_word_count','title_ave_length'].agg(['mean']).round(2)"
   ]
  },
  {
   "cell_type": "code",
   "execution_count": null,
   "id": "0aac070f",
   "metadata": {},
   "outputs": [],
   "source": []
  },
  {
   "cell_type": "code",
   "execution_count": 33,
   "id": "cc19c1fe",
   "metadata": {},
   "outputs": [
    {
     "data": {
      "text/plain": [
       "<1952x4169 sparse matrix of type '<class 'numpy.int64'>'\n",
       "\twith 18337 stored elements in Compressed Sparse Row format>"
      ]
     },
     "execution_count": 33,
     "metadata": {},
     "output_type": "execute_result"
    }
   ],
   "source": [
    "# Instantiate a CountVectorizer.\n",
    "cvec = CountVectorizer(stop_words='english')\n",
    "# Fit and transform the vectorizer on our corpus.\n",
    "df_cvec= cvec.fit_transform(df['title'])\n",
    "df_cvec"
   ]
  },
  {
   "cell_type": "code",
   "execution_count": 34,
   "id": "bf490489",
   "metadata": {},
   "outputs": [
    {
     "data": {
      "text/html": [
       "<div>\n",
       "<style scoped>\n",
       "    .dataframe tbody tr th:only-of-type {\n",
       "        vertical-align: middle;\n",
       "    }\n",
       "\n",
       "    .dataframe tbody tr th {\n",
       "        vertical-align: top;\n",
       "    }\n",
       "\n",
       "    .dataframe thead th {\n",
       "        text-align: right;\n",
       "    }\n",
       "</style>\n",
       "<table border=\"1\" class=\"dataframe\">\n",
       "  <thead>\n",
       "    <tr style=\"text-align: right;\">\n",
       "      <th></th>\n",
       "      <th>00</th>\n",
       "      <th>000</th>\n",
       "      <th>03</th>\n",
       "      <th>04</th>\n",
       "      <th>05</th>\n",
       "      <th>06</th>\n",
       "      <th>07</th>\n",
       "      <th>08</th>\n",
       "      <th>10</th>\n",
       "      <th>100</th>\n",
       "      <th>...</th>\n",
       "      <th>zips</th>\n",
       "      <th>zoom</th>\n",
       "      <th>𝐚𝐧𝐝</th>\n",
       "      <th>𝐜𝐡𝐚𝐧𝐠𝐞</th>\n",
       "      <th>𝐜𝐨𝐦𝐦𝐮𝐧𝐢𝐭𝐲</th>\n",
       "      <th>𝐢𝐧𝐜𝐢𝐭𝐞</th>\n",
       "      <th>𝐢𝐧𝐬𝐩𝐢𝐫𝐞</th>\n",
       "      <th>𝐩𝐨𝐬𝐢𝐭𝐢𝐯𝐞</th>\n",
       "      <th>𝐭𝐡𝐞</th>\n",
       "      <th>𝐰𝐢𝐭𝐡𝐢𝐧</th>\n",
       "    </tr>\n",
       "  </thead>\n",
       "  <tbody>\n",
       "    <tr>\n",
       "      <th>0</th>\n",
       "      <td>0</td>\n",
       "      <td>0</td>\n",
       "      <td>0</td>\n",
       "      <td>0</td>\n",
       "      <td>0</td>\n",
       "      <td>0</td>\n",
       "      <td>0</td>\n",
       "      <td>0</td>\n",
       "      <td>0</td>\n",
       "      <td>0</td>\n",
       "      <td>...</td>\n",
       "      <td>0</td>\n",
       "      <td>0</td>\n",
       "      <td>0</td>\n",
       "      <td>0</td>\n",
       "      <td>0</td>\n",
       "      <td>0</td>\n",
       "      <td>0</td>\n",
       "      <td>0</td>\n",
       "      <td>0</td>\n",
       "      <td>0</td>\n",
       "    </tr>\n",
       "    <tr>\n",
       "      <th>1</th>\n",
       "      <td>0</td>\n",
       "      <td>0</td>\n",
       "      <td>0</td>\n",
       "      <td>0</td>\n",
       "      <td>0</td>\n",
       "      <td>0</td>\n",
       "      <td>0</td>\n",
       "      <td>0</td>\n",
       "      <td>0</td>\n",
       "      <td>0</td>\n",
       "      <td>...</td>\n",
       "      <td>0</td>\n",
       "      <td>0</td>\n",
       "      <td>0</td>\n",
       "      <td>0</td>\n",
       "      <td>0</td>\n",
       "      <td>0</td>\n",
       "      <td>0</td>\n",
       "      <td>0</td>\n",
       "      <td>0</td>\n",
       "      <td>0</td>\n",
       "    </tr>\n",
       "    <tr>\n",
       "      <th>2</th>\n",
       "      <td>0</td>\n",
       "      <td>0</td>\n",
       "      <td>0</td>\n",
       "      <td>0</td>\n",
       "      <td>0</td>\n",
       "      <td>0</td>\n",
       "      <td>0</td>\n",
       "      <td>0</td>\n",
       "      <td>0</td>\n",
       "      <td>0</td>\n",
       "      <td>...</td>\n",
       "      <td>0</td>\n",
       "      <td>0</td>\n",
       "      <td>0</td>\n",
       "      <td>0</td>\n",
       "      <td>0</td>\n",
       "      <td>0</td>\n",
       "      <td>0</td>\n",
       "      <td>0</td>\n",
       "      <td>0</td>\n",
       "      <td>0</td>\n",
       "    </tr>\n",
       "    <tr>\n",
       "      <th>3</th>\n",
       "      <td>0</td>\n",
       "      <td>0</td>\n",
       "      <td>0</td>\n",
       "      <td>0</td>\n",
       "      <td>0</td>\n",
       "      <td>0</td>\n",
       "      <td>0</td>\n",
       "      <td>0</td>\n",
       "      <td>0</td>\n",
       "      <td>0</td>\n",
       "      <td>...</td>\n",
       "      <td>0</td>\n",
       "      <td>0</td>\n",
       "      <td>0</td>\n",
       "      <td>0</td>\n",
       "      <td>0</td>\n",
       "      <td>0</td>\n",
       "      <td>0</td>\n",
       "      <td>0</td>\n",
       "      <td>0</td>\n",
       "      <td>0</td>\n",
       "    </tr>\n",
       "    <tr>\n",
       "      <th>4</th>\n",
       "      <td>0</td>\n",
       "      <td>0</td>\n",
       "      <td>0</td>\n",
       "      <td>0</td>\n",
       "      <td>0</td>\n",
       "      <td>0</td>\n",
       "      <td>0</td>\n",
       "      <td>0</td>\n",
       "      <td>0</td>\n",
       "      <td>0</td>\n",
       "      <td>...</td>\n",
       "      <td>0</td>\n",
       "      <td>0</td>\n",
       "      <td>0</td>\n",
       "      <td>0</td>\n",
       "      <td>0</td>\n",
       "      <td>0</td>\n",
       "      <td>0</td>\n",
       "      <td>0</td>\n",
       "      <td>0</td>\n",
       "      <td>0</td>\n",
       "    </tr>\n",
       "    <tr>\n",
       "      <th>...</th>\n",
       "      <td>...</td>\n",
       "      <td>...</td>\n",
       "      <td>...</td>\n",
       "      <td>...</td>\n",
       "      <td>...</td>\n",
       "      <td>...</td>\n",
       "      <td>...</td>\n",
       "      <td>...</td>\n",
       "      <td>...</td>\n",
       "      <td>...</td>\n",
       "      <td>...</td>\n",
       "      <td>...</td>\n",
       "      <td>...</td>\n",
       "      <td>...</td>\n",
       "      <td>...</td>\n",
       "      <td>...</td>\n",
       "      <td>...</td>\n",
       "      <td>...</td>\n",
       "      <td>...</td>\n",
       "      <td>...</td>\n",
       "      <td>...</td>\n",
       "    </tr>\n",
       "    <tr>\n",
       "      <th>1947</th>\n",
       "      <td>0</td>\n",
       "      <td>0</td>\n",
       "      <td>0</td>\n",
       "      <td>0</td>\n",
       "      <td>0</td>\n",
       "      <td>0</td>\n",
       "      <td>0</td>\n",
       "      <td>0</td>\n",
       "      <td>0</td>\n",
       "      <td>0</td>\n",
       "      <td>...</td>\n",
       "      <td>0</td>\n",
       "      <td>0</td>\n",
       "      <td>0</td>\n",
       "      <td>0</td>\n",
       "      <td>0</td>\n",
       "      <td>0</td>\n",
       "      <td>0</td>\n",
       "      <td>0</td>\n",
       "      <td>0</td>\n",
       "      <td>0</td>\n",
       "    </tr>\n",
       "    <tr>\n",
       "      <th>1948</th>\n",
       "      <td>0</td>\n",
       "      <td>0</td>\n",
       "      <td>0</td>\n",
       "      <td>0</td>\n",
       "      <td>0</td>\n",
       "      <td>0</td>\n",
       "      <td>0</td>\n",
       "      <td>0</td>\n",
       "      <td>0</td>\n",
       "      <td>0</td>\n",
       "      <td>...</td>\n",
       "      <td>0</td>\n",
       "      <td>0</td>\n",
       "      <td>0</td>\n",
       "      <td>0</td>\n",
       "      <td>0</td>\n",
       "      <td>0</td>\n",
       "      <td>0</td>\n",
       "      <td>0</td>\n",
       "      <td>0</td>\n",
       "      <td>0</td>\n",
       "    </tr>\n",
       "    <tr>\n",
       "      <th>1949</th>\n",
       "      <td>0</td>\n",
       "      <td>0</td>\n",
       "      <td>0</td>\n",
       "      <td>0</td>\n",
       "      <td>0</td>\n",
       "      <td>0</td>\n",
       "      <td>0</td>\n",
       "      <td>0</td>\n",
       "      <td>0</td>\n",
       "      <td>0</td>\n",
       "      <td>...</td>\n",
       "      <td>0</td>\n",
       "      <td>0</td>\n",
       "      <td>0</td>\n",
       "      <td>0</td>\n",
       "      <td>0</td>\n",
       "      <td>0</td>\n",
       "      <td>0</td>\n",
       "      <td>0</td>\n",
       "      <td>0</td>\n",
       "      <td>0</td>\n",
       "    </tr>\n",
       "    <tr>\n",
       "      <th>1950</th>\n",
       "      <td>1</td>\n",
       "      <td>0</td>\n",
       "      <td>0</td>\n",
       "      <td>0</td>\n",
       "      <td>0</td>\n",
       "      <td>0</td>\n",
       "      <td>0</td>\n",
       "      <td>0</td>\n",
       "      <td>0</td>\n",
       "      <td>0</td>\n",
       "      <td>...</td>\n",
       "      <td>0</td>\n",
       "      <td>0</td>\n",
       "      <td>0</td>\n",
       "      <td>0</td>\n",
       "      <td>0</td>\n",
       "      <td>0</td>\n",
       "      <td>0</td>\n",
       "      <td>0</td>\n",
       "      <td>0</td>\n",
       "      <td>0</td>\n",
       "    </tr>\n",
       "    <tr>\n",
       "      <th>1951</th>\n",
       "      <td>0</td>\n",
       "      <td>0</td>\n",
       "      <td>0</td>\n",
       "      <td>0</td>\n",
       "      <td>0</td>\n",
       "      <td>0</td>\n",
       "      <td>0</td>\n",
       "      <td>0</td>\n",
       "      <td>0</td>\n",
       "      <td>0</td>\n",
       "      <td>...</td>\n",
       "      <td>0</td>\n",
       "      <td>0</td>\n",
       "      <td>0</td>\n",
       "      <td>0</td>\n",
       "      <td>0</td>\n",
       "      <td>0</td>\n",
       "      <td>0</td>\n",
       "      <td>0</td>\n",
       "      <td>0</td>\n",
       "      <td>0</td>\n",
       "    </tr>\n",
       "  </tbody>\n",
       "</table>\n",
       "<p>1952 rows × 4169 columns</p>\n",
       "</div>"
      ],
      "text/plain": [
       "      00  000  03  04  05  06  07  08  10  100  ...  zips  zoom  𝐚𝐧𝐝  𝐜𝐡𝐚𝐧𝐠𝐞  \\\n",
       "0      0    0   0   0   0   0   0   0   0    0  ...     0     0    0       0   \n",
       "1      0    0   0   0   0   0   0   0   0    0  ...     0     0    0       0   \n",
       "2      0    0   0   0   0   0   0   0   0    0  ...     0     0    0       0   \n",
       "3      0    0   0   0   0   0   0   0   0    0  ...     0     0    0       0   \n",
       "4      0    0   0   0   0   0   0   0   0    0  ...     0     0    0       0   \n",
       "...   ..  ...  ..  ..  ..  ..  ..  ..  ..  ...  ...   ...   ...  ...     ...   \n",
       "1947   0    0   0   0   0   0   0   0   0    0  ...     0     0    0       0   \n",
       "1948   0    0   0   0   0   0   0   0   0    0  ...     0     0    0       0   \n",
       "1949   0    0   0   0   0   0   0   0   0    0  ...     0     0    0       0   \n",
       "1950   1    0   0   0   0   0   0   0   0    0  ...     0     0    0       0   \n",
       "1951   0    0   0   0   0   0   0   0   0    0  ...     0     0    0       0   \n",
       "\n",
       "      𝐜𝐨𝐦𝐦𝐮𝐧𝐢𝐭𝐲  𝐢𝐧𝐜𝐢𝐭𝐞  𝐢𝐧𝐬𝐩𝐢𝐫𝐞  𝐩𝐨𝐬𝐢𝐭𝐢𝐯𝐞  𝐭𝐡𝐞  𝐰𝐢𝐭𝐡𝐢𝐧  \n",
       "0             0       0        0         0    0       0  \n",
       "1             0       0        0         0    0       0  \n",
       "2             0       0        0         0    0       0  \n",
       "3             0       0        0         0    0       0  \n",
       "4             0       0        0         0    0       0  \n",
       "...         ...     ...      ...       ...  ...     ...  \n",
       "1947          0       0        0         0    0       0  \n",
       "1948          0       0        0         0    0       0  \n",
       "1949          0       0        0         0    0       0  \n",
       "1950          0       0        0         0    0       0  \n",
       "1951          0       0        0         0    0       0  \n",
       "\n",
       "[1952 rows x 4169 columns]"
      ]
     },
     "execution_count": 34,
     "metadata": {},
     "output_type": "execute_result"
    }
   ],
   "source": [
    "df_cvec = pd.DataFrame(df_cvec.todense(), columns=cvec.get_feature_names_out())\n",
    "df_cvec"
   ]
  },
  {
   "cell_type": "code",
   "execution_count": 40,
   "id": "daf96019",
   "metadata": {},
   "outputs": [
    {
     "data": {
      "image/png": "[encoded data removed]",
      "text/plain": [
       "<Figure size 432x288 with 1 Axes>"
      ]
     },
     "metadata": {
      "needs_background": "light"
     },
     "output_type": "display_data"
    }
   ],
   "source": [
    "df_cvec.sum().sort_values(ascending =False).head(15).plot.barh();"
   ]
  },
  {
   "cell_type": "code",
   "execution_count": 36,
   "id": "41dfece1",
   "metadata": {},
   "outputs": [
    {
     "name": "stderr",
     "output_type": "stream",
     "text": [
      "C:\\Users\\science01\\Anaconda3\\lib\\site-packages\\IPython\\core\\pylabtools.py:151: UserWarning: Glyph 119856 (\\N{MATHEMATICAL BOLD SMALL W}) missing from current font.\n",
      "  fig.canvas.print_figure(bytes_io, **kw)\n",
      "C:\\Users\\science01\\Anaconda3\\lib\\site-packages\\IPython\\core\\pylabtools.py:151: UserWarning: Glyph 119842 (\\N{MATHEMATICAL BOLD SMALL I}) missing from current font.\n",
      "  fig.canvas.print_figure(bytes_io, **kw)\n",
      "C:\\Users\\science01\\Anaconda3\\lib\\site-packages\\IPython\\core\\pylabtools.py:151: UserWarning: Glyph 119853 (\\N{MATHEMATICAL BOLD SMALL T}) missing from current font.\n",
      "  fig.canvas.print_figure(bytes_io, **kw)\n",
      "C:\\Users\\science01\\Anaconda3\\lib\\site-packages\\IPython\\core\\pylabtools.py:151: UserWarning: Glyph 119841 (\\N{MATHEMATICAL BOLD SMALL H}) missing from current font.\n",
      "  fig.canvas.print_figure(bytes_io, **kw)\n",
      "C:\\Users\\science01\\Anaconda3\\lib\\site-packages\\IPython\\core\\pylabtools.py:151: UserWarning: Glyph 119847 (\\N{MATHEMATICAL BOLD SMALL N}) missing from current font.\n",
      "  fig.canvas.print_figure(bytes_io, **kw)\n"
     ]
    },
    {
     "data": {
      "image/png": "[encoded data removed]",
      "text/plain": [
       "<Figure size 432x288 with 1 Axes>"
      ]
     },
     "metadata": {
      "needs_background": "light"
     },
     "output_type": "display_data"
    }
   ],
   "source": [
    "df_cvec.sum().sort_values(ascending =False).tail(15).plot.barh();"
   ]
  },
  {
   "cell_type": "code",
   "execution_count": null,
   "id": "fef3d3b2",
   "metadata": {},
   "outputs": [],
   "source": []
  },
  {
   "cell_type": "code",
   "execution_count": null,
   "id": "ff6a595e",
   "metadata": {},
   "outputs": [],
   "source": []
  },
  {
   "cell_type": "code",
   "execution_count": null,
   "id": "4b7f4495",
   "metadata": {},
   "outputs": [],
   "source": []
  },
  {
   "cell_type": "code",
   "execution_count": null,
   "id": "e4137b10",
   "metadata": {},
   "outputs": [],
   "source": [
    "# Set X and y\n",
    "X = df['title']\n",
    "y = df['is_nba']\n",
    "# Train (80%) Test (20%) split \n",
    "X_train, X_test, y_train, y_test = train_test_split(X, y, test_size=0.2, \n",
    "                                                    random_state=42,\n",
    "                                                    stratify=y)"
   ]
  },
  {
   "cell_type": "code",
   "execution_count": null,
   "id": "6b397db9",
   "metadata": {},
   "outputs": [],
   "source": [
    "# Baseline score\n",
    "y_test.value_counts(normalize=True).mul(100).round(2)"
   ]
  },
  {
   "cell_type": "code",
   "execution_count": null,
   "id": "afe44b75",
   "metadata": {},
   "outputs": [],
   "source": [
    "# CountVectorizer with Logistic Regression, NaiveBayes, and RandomForest\n",
    "pipe1 = Pipeline([('cv', CountVectorizer()),('lr', LogisticRegression())])\n",
    "\n",
    "pipe1_params = {'cv__max_features': [5,10,25,50,100],\n",
    "                'cv__stop_words':   [None,'english'],\n",
    "                'cv__ngram_range':  [(1,1),(1,2)],\n",
    "              } \n",
    "\n",
    "grid1 = GridSearchCV(pipe1,pipe1_params,cv=5)\n",
    "grid1.fit(X_train, y_train)\n",
    "print(f'CountVectorizer+LogisticRegression: {grid1.best_score_}')\n",
    "print(f'Best params:{grid1.best_params_}')\n",
    "print('')                                       \n",
    "# ==========================================================================\n",
    "pipe2 = Pipeline([('cv', CountVectorizer()),('mb', MultinomialNB())])\n",
    "\n",
    "pipe2_params = {'cv__max_features': [5,10,25,50,100],\n",
    "                'cv__stop_words':   [None,'english'],\n",
    "                'cv__ngram_range':  [(1,1),(1,2)],\n",
    "              } \n",
    "\n",
    "grid2 = GridSearchCV(pipe2,pipe2_params,cv=5)\n",
    "grid2.fit(X_train, y_train)\n",
    "print(f'CountVectorizer+NaieveBayes:        {grid2.best_score_}')\n",
    "print(f'Best params:{grid2.best_params_}')\n",
    "print('')\n",
    "# ==========================================================================\n",
    "pipe3 = Pipeline([('cv', CountVectorizer()),('rf', RandomForestClassifier())])\n",
    "\n",
    "pipe3_params = {'cv__max_features': [5,10,25,50,100],\n",
    "                'cv__stop_words':   [None,'english'],\n",
    "                'cv__ngram_range':  [(1,1),(1,2)],\n",
    "              } \n",
    "\n",
    "grid3 = GridSearchCV(pipe3,pipe3_params,cv=5)\n",
    "grid3.fit(X_train, y_train)\n",
    "print(f'CountVectorizer+RandomForest:        {grid3.best_score_}')\n",
    "print(f'Best params:{grid3.best_params_}')\n"
   ]
  },
  {
   "cell_type": "code",
   "execution_count": null,
   "id": "4699676f",
   "metadata": {},
   "outputs": [],
   "source": [
    "# TfidVectorizer with Logistic Regression, NaiveBayes, and RandomForest\n",
    "\n",
    "pipe4 = Pipeline([('tv', TfidfVectorizer()),('lr', LogisticRegression())])\n",
    "\n",
    "pipe4_params = {'tv__max_features': [5,10,25,50,100],\n",
    "                'tv__stop_words':   [None,'english'],\n",
    "                'tv__ngram_range':  [(1,1),(1,2)],\n",
    "              } \n",
    "\n",
    "grid4 = GridSearchCV(pipe4,pipe4_params,cv=5)\n",
    "grid4.fit(X_train, y_train)\n",
    "print(f'TfidVectorizer+LogisticRegression:  {grid4.best_score_}')\n",
    "print(f'Best params:{grid4.best_params_}')\n",
    "print('')\n",
    "# ==========================================================================\n",
    "pipe5 = Pipeline([('tv', TfidfVectorizer()),('mb', MultinomialNB())])\n",
    "\n",
    "pipe5_params = {'tv__max_features': [5,10,25,50,100],\n",
    "                'tv__stop_words':   [None,'english'],\n",
    "                'tv__ngram_range':  [(1,1),(1,2)],\n",
    "              } \n",
    "\n",
    "grid5 = GridSearchCV(pipe5,pipe5_params,cv=5)\n",
    "grid5.fit(X_train, y_train)\n",
    "print(f'TfidVectorizer+NaieveBayes:         {grid5.best_score_}')\n",
    "print(f'Best params:{grid5.best_params_}')\n",
    "print('')\n",
    "# ==========================================================================\n",
    "pipe6 = Pipeline([('tv', TfidfVectorizer()),('rf', RandomForestClassifier())])\n",
    "\n",
    "pipe6_params = {'tv__max_features': [5,10,25,50,100],\n",
    "                'tv__stop_words':   [None,'english'],\n",
    "                'tv__ngram_range':  [(1,1),(1,2)],\n",
    "              } \n",
    "\n",
    "grid6 = GridSearchCV(pipe6,pipe6_params,cv=5)\n",
    "grid6.fit(X_train, y_train)\n",
    "print(f'TfidVectorizer+RandomForest:         {grid6.best_score_}')\n",
    "print(f'Best params:{grid6.best_params_}')\n",
    "print('')"
   ]
  },
  {
   "cell_type": "code",
   "execution_count": null,
   "id": "d2c6573b",
   "metadata": {},
   "outputs": [],
   "source": [
    "pipe4 = Pipeline([('tv', TfidfVectorizer()),('cv', CountVectorizer()),('lr', LogisticRegression())])\n",
    "\n",
    "pipe4_params = {'tv__max_features': [5,10,25,50,100],\n",
    "                'tv__stop_words':   [None,'english'],\n",
    "                'tv__ngram_range':  [(1,1),(1,2)],\n",
    "                'cv__max_features': [5,10,25,50,100],\n",
    "                'cv__stop_words':   [None,'english'],\n",
    "                'cv__ngram_range':  [(1,1),(1,2)],\n",
    "              } \n",
    "\n",
    "grid4 = GridSearchCV(pipe4,pipe4_params,cv=5)\n",
    "grid4.fit(X_train, y_train)\n",
    "print(f'TfidVectorizer+LogisticRegression:  {grid4.best_score_}')\n",
    "print(f'Best params:{grid4.best_params_}')\n",
    "print('')"
   ]
  },
  {
   "cell_type": "code",
   "execution_count": null,
   "id": "637f31c3",
   "metadata": {},
   "outputs": [],
   "source": [
    "from sklearn import svm\n",
    "from sklearn.ensemble import RandomForestClassifier\n",
    "from sklearn.linear_model import LogisticRegression\n",
    "from sklearn.naive_bayes import GaussianNB\n",
    "from sklearn.naive_bayes import MultinomialNB\n",
    "from sklearn.tree import DecisionTreeClassifier\n",
    "\n",
    "import warnings\n",
    "warnings.filterwarnings('ignore')"
   ]
  },
  {
   "cell_type": "code",
   "execution_count": null,
   "id": "0e48a9cc",
   "metadata": {},
   "outputs": [],
   "source": [
    "cvec = CountVectorizer()\n",
    "X_train = cvec.fit_transform(X_train)"
   ]
  },
  {
   "cell_type": "code",
   "execution_count": null,
   "id": "4a4377b8",
   "metadata": {},
   "outputs": [],
   "source": [
    "X_train.shape, X_test.shape, y_train.shape, y_test.shape"
   ]
  },
  {
   "cell_type": "code",
   "execution_count": null,
   "id": "53efaab1",
   "metadata": {},
   "outputs": [],
   "source": [
    "X_train"
   ]
  },
  {
   "cell_type": "code",
   "execution_count": null,
   "id": "96d0bade",
   "metadata": {},
   "outputs": [],
   "source": [
    "X_train = X_train.todense()"
   ]
  },
  {
   "cell_type": "code",
   "execution_count": null,
   "id": "2f01d034",
   "metadata": {},
   "outputs": [],
   "source": [
    "X_train"
   ]
  },
  {
   "cell_type": "code",
   "execution_count": null,
   "id": "a4b9bdaa",
   "metadata": {},
   "outputs": [],
   "source": [
    "model_params = {\n",
    "    'svm': {\n",
    "        'model': svm.SVC(gamma='auto'),\n",
    "        'params' : {\n",
    "            'C': [1,10,20],\n",
    "            'kernel': ['rbf','linear']\n",
    "        }  \n",
    "    },\n",
    "    'random_forest': {\n",
    "        'model': RandomForestClassifier(),\n",
    "        'params' : {\n",
    "            'n_estimators': [1,5,10]\n",
    "        }\n",
    "    },\n",
    "    'logistic_regression' : {\n",
    "        'model': LogisticRegression(solver='liblinear',multi_class='auto'),\n",
    "        'params': {\n",
    "            'C': [1,5,10]\n",
    "        }\n",
    "    },\n",
    "    'naive_bayes_gaussian': {\n",
    "        'model': GaussianNB(),\n",
    "        'params': {}\n",
    "    },\n",
    "    'naive_bayes_multinomial': {\n",
    "        'model': MultinomialNB(),\n",
    "        'params': {}\n",
    "    },\n",
    "    'decision_tree': {\n",
    "        'model': DecisionTreeClassifier(),\n",
    "        'params': {\n",
    "            'criterion': ['gini','entropy'],\n",
    "            \n",
    "        }\n",
    "    }     \n",
    "}"
   ]
  },
  {
   "cell_type": "code",
   "execution_count": null,
   "id": "5240b982",
   "metadata": {},
   "outputs": [],
   "source": [
    "from sklearn.model_selection import GridSearchCV\n",
    "import pandas as pd\n",
    "scores = []\n",
    "\n",
    "for model_name, mp in model_params.items():\n",
    "    clf =  GridSearchCV(mp['model'], mp['params'], cv=5, return_train_score=False)\n",
    "    clf.fit(X_train, y_train)\n",
    "    scores.append({\n",
    "        'model': model_name,\n",
    "        'best_score': clf.best_score_,\n",
    "        'best_params': clf.best_params_\n",
    "    })\n",
    "df_scores = pd.DataFrame(scores,columns=['model','best_score','best_params'])\n",
    "df_scores"
   ]
  },
  {
   "cell_type": "code",
   "execution_count": null,
   "id": "d0a85fd6",
   "metadata": {},
   "outputs": [],
   "source": []
  }
 ],
 "metadata": {
  "kernelspec": {
   "display_name": "Python 3 (ipykernel)",
   "language": "python",
   "name": "python3"
  },
  "language_info": {
   "codemirror_mode": {
    "name": "ipython",
    "version": 3
   },
   "file_extension": ".py",
   "mimetype": "text/x-python",
   "name": "python",
   "nbconvert_exporter": "python",
   "pygments_lexer": "ipython3",
   "version": "3.9.12"
  }
 },
 "nbformat": 4,
 "nbformat_minor": 5
}
