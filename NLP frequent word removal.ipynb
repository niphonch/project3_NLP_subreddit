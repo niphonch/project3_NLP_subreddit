{
 "cells": [
  {
   "cell_type": "code",
   "execution_count": 1,
   "id": "84c507ae",
   "metadata": {},
   "outputs": [
    {
     "name": "stdout",
     "output_type": "stream",
     "text": [
      "Requirement already satisfied: matplotlib-venn in c:\\users\\science01\\anaconda3\\lib\\site-packages (0.11.7)\n",
      "Requirement already satisfied: scipy in c:\\users\\science01\\anaconda3\\lib\\site-packages (from matplotlib-venn) (1.7.3)\n",
      "Requirement already satisfied: numpy in c:\\users\\science01\\anaconda3\\lib\\site-packages (from matplotlib-venn) (1.21.5)\n",
      "Requirement already satisfied: matplotlib in c:\\users\\science01\\anaconda3\\lib\\site-packages (from matplotlib-venn) (3.5.1)\n",
      "Requirement already satisfied: packaging>=20.0 in c:\\users\\science01\\anaconda3\\lib\\site-packages (from matplotlib->matplotlib-venn) (21.3)\n",
      "Requirement already satisfied: fonttools>=4.22.0 in c:\\users\\science01\\anaconda3\\lib\\site-packages (from matplotlib->matplotlib-venn) (4.25.0)\n",
      "Requirement already satisfied: pillow>=6.2.0 in c:\\users\\science01\\anaconda3\\lib\\site-packages (from matplotlib->matplotlib-venn) (9.0.1)\n",
      "Requirement already satisfied: python-dateutil>=2.7 in c:\\users\\science01\\anaconda3\\lib\\site-packages (from matplotlib->matplotlib-venn) (2.8.2)\n",
      "Requirement already satisfied: kiwisolver>=1.0.1 in c:\\users\\science01\\anaconda3\\lib\\site-packages (from matplotlib->matplotlib-venn) (1.3.2)\n",
      "Requirement already satisfied: cycler>=0.10 in c:\\users\\science01\\anaconda3\\lib\\site-packages (from matplotlib->matplotlib-venn) (0.11.0)\n",
      "Requirement already satisfied: pyparsing>=2.2.1 in c:\\users\\science01\\anaconda3\\lib\\site-packages (from matplotlib->matplotlib-venn) (3.0.4)\n",
      "Requirement already satisfied: six>=1.5 in c:\\users\\science01\\anaconda3\\lib\\site-packages (from python-dateutil>=2.7->matplotlib->matplotlib-venn) (1.16.0)\n"
     ]
    }
   ],
   "source": [
    "!pip install matplotlib-venn"
   ]
  },
  {
   "cell_type": "code",
   "execution_count": 2,
   "id": "1f3efbcb",
   "metadata": {},
   "outputs": [],
   "source": [
    "# Import libraries\n",
    "import pandas as pd\n",
    "import numpy as np\n",
    "import seaborn as sns\n",
    "import matplotlib.pyplot as plt\n",
    "\n",
    "import math, itertools\n",
    "from matplotlib_venn import venn2\n",
    "\n",
    "import nltk\n",
    "from nltk.corpus import stopwords\n",
    "import string\n",
    "from nltk.tokenize import RegexpTokenizer, sent_tokenize, word_tokenize\n",
    "eng_stopwords = set(stopwords.words(\"english\"))\n",
    "from nltk.stem import PorterStemmer\n",
    "st = PorterStemmer()\n",
    "\n",
    "from textblob import Word\n",
    "import re\n",
    "# sklearn libraries\n",
    "from sklearn.pipeline                import Pipeline\n",
    "from sklearn.linear_model            import LogisticRegression\n",
    "from sklearn.naive_bayes             import MultinomialNB\n",
    "from sklearn.ensemble                import RandomForestClassifier\n",
    "from sklearn.model_selection         import train_test_split, GridSearchCV\n",
    "from sklearn.feature_extraction.text import CountVectorizer, TfidfVectorizer\n",
    "from sklearn.preprocessing import StandardScaler\n",
    "from sklearn.feature_extraction import DictVectorizer\n",
    "from sklearn.metrics import accuracy_score, classification_report, confusion_matrix, ConfusionMatrixDisplay\n",
    "\n",
    "import warnings\n",
    "warnings.filterwarnings(\"ignore\", category=FutureWarning)\n"
   ]
  },
  {
   "cell_type": "code",
   "execution_count": 3,
   "id": "9aefef7b",
   "metadata": {},
   "outputs": [],
   "source": [
    "df1 =pd.read_csv('data/nfl.csv')\n",
    "df2 =pd.read_csv('data/ncaa.csv')"
   ]
  },
  {
   "cell_type": "code",
   "execution_count": 4,
   "id": "f27723d5",
   "metadata": {},
   "outputs": [
    {
     "data": {
      "text/html": [
       "<div>\n",
       "<style scoped>\n",
       "    .dataframe tbody tr th:only-of-type {\n",
       "        vertical-align: middle;\n",
       "    }\n",
       "\n",
       "    .dataframe tbody tr th {\n",
       "        vertical-align: top;\n",
       "    }\n",
       "\n",
       "    .dataframe thead th {\n",
       "        text-align: right;\n",
       "    }\n",
       "</style>\n",
       "<table border=\"1\" class=\"dataframe\">\n",
       "  <thead>\n",
       "    <tr style=\"text-align: right;\">\n",
       "      <th></th>\n",
       "      <th>approved_at_utc</th>\n",
       "      <th>subreddit</th>\n",
       "      <th>selftext</th>\n",
       "      <th>author_fullname</th>\n",
       "      <th>saved</th>\n",
       "      <th>mod_reason_title</th>\n",
       "      <th>gilded</th>\n",
       "      <th>clicked</th>\n",
       "      <th>title</th>\n",
       "      <th>link_flair_richtext</th>\n",
       "      <th>...</th>\n",
       "      <th>subreddit_subscribers</th>\n",
       "      <th>created_utc</th>\n",
       "      <th>num_crossposts</th>\n",
       "      <th>media</th>\n",
       "      <th>is_video</th>\n",
       "      <th>url_overridden_by_dest</th>\n",
       "      <th>call_to_action</th>\n",
       "      <th>author_cakeday</th>\n",
       "      <th>link_flair_template_id</th>\n",
       "      <th>media_metadata</th>\n",
       "    </tr>\n",
       "  </thead>\n",
       "  <tbody>\n",
       "    <tr>\n",
       "      <th>0</th>\n",
       "      <td>NaN</td>\n",
       "      <td>nfl</td>\n",
       "      <td>[Cincinnati Bengals](/r/bengals#away) [at](#at...</td>\n",
       "      <td>t2_plq2w</td>\n",
       "      <td>False</td>\n",
       "      <td>NaN</td>\n",
       "      <td>0</td>\n",
       "      <td>False</td>\n",
       "      <td>Post Game Thread: Cincinnati Bengals (2-3) at ...</td>\n",
       "      <td>[{'e': 'text', 't': 'Post Game Thread'}]</td>\n",
       "      <td>...</td>\n",
       "      <td>3015663</td>\n",
       "      <td>1.665372e+09</td>\n",
       "      <td>0</td>\n",
       "      <td>NaN</td>\n",
       "      <td>False</td>\n",
       "      <td>NaN</td>\n",
       "      <td>NaN</td>\n",
       "      <td>NaN</td>\n",
       "      <td>NaN</td>\n",
       "      <td>NaN</td>\n",
       "    </tr>\n",
       "    <tr>\n",
       "      <th>1</th>\n",
       "      <td>NaN</td>\n",
       "      <td>nfl</td>\n",
       "      <td>[Cincinnati Bengals](/r/bengals#away) [at](#at...</td>\n",
       "      <td>t2_plq2w</td>\n",
       "      <td>False</td>\n",
       "      <td>NaN</td>\n",
       "      <td>0</td>\n",
       "      <td>False</td>\n",
       "      <td>Game Thread: Cincinnati Bengals (2-2) at Balti...</td>\n",
       "      <td>[{'e': 'text', 't': 'Game Thread'}]</td>\n",
       "      <td>...</td>\n",
       "      <td>3015663</td>\n",
       "      <td>1.665359e+09</td>\n",
       "      <td>0</td>\n",
       "      <td>NaN</td>\n",
       "      <td>False</td>\n",
       "      <td>NaN</td>\n",
       "      <td>NaN</td>\n",
       "      <td>NaN</td>\n",
       "      <td>NaN</td>\n",
       "      <td>NaN</td>\n",
       "    </tr>\n",
       "    <tr>\n",
       "      <th>2</th>\n",
       "      <td>NaN</td>\n",
       "      <td>nfl</td>\n",
       "      <td>NaN</td>\n",
       "      <td>t2_gbzf7q</td>\n",
       "      <td>False</td>\n",
       "      <td>NaN</td>\n",
       "      <td>0</td>\n",
       "      <td>False</td>\n",
       "      <td>[Highlight] Cardinals miss the field goal and ...</td>\n",
       "      <td>[{'e': 'text', 't': 'Highlight'}]</td>\n",
       "      <td>...</td>\n",
       "      <td>3015663</td>\n",
       "      <td>1.665358e+09</td>\n",
       "      <td>0</td>\n",
       "      <td>{'oembed': {'provider_url': 'https://twitter.c...</td>\n",
       "      <td>False</td>\n",
       "      <td>https://twitter.com/lowlightheaven/status/1579...</td>\n",
       "      <td>NaN</td>\n",
       "      <td>NaN</td>\n",
       "      <td>NaN</td>\n",
       "      <td>NaN</td>\n",
       "    </tr>\n",
       "    <tr>\n",
       "      <th>3</th>\n",
       "      <td>NaN</td>\n",
       "      <td>nfl</td>\n",
       "      <td>NaN</td>\n",
       "      <td>t2_s82n19zx</td>\n",
       "      <td>False</td>\n",
       "      <td>NaN</td>\n",
       "      <td>0</td>\n",
       "      <td>False</td>\n",
       "      <td>[Highlight] Roughing the passer called. Stunning.</td>\n",
       "      <td>[]</td>\n",
       "      <td>...</td>\n",
       "      <td>3015663</td>\n",
       "      <td>1.665346e+09</td>\n",
       "      <td>1</td>\n",
       "      <td>{'oembed': {'provider_url': 'https://twitter.c...</td>\n",
       "      <td>False</td>\n",
       "      <td>https://twitter.com/MentionPod/status/15792005...</td>\n",
       "      <td>NaN</td>\n",
       "      <td>NaN</td>\n",
       "      <td>NaN</td>\n",
       "      <td>NaN</td>\n",
       "    </tr>\n",
       "    <tr>\n",
       "      <th>4</th>\n",
       "      <td>NaN</td>\n",
       "      <td>nfl</td>\n",
       "      <td>NaN</td>\n",
       "      <td>t2_gbzf7q</td>\n",
       "      <td>False</td>\n",
       "      <td>NaN</td>\n",
       "      <td>0</td>\n",
       "      <td>False</td>\n",
       "      <td>[Stat Muse] Cooper Rush is 5-0 as a starter. O...</td>\n",
       "      <td>[]</td>\n",
       "      <td>...</td>\n",
       "      <td>3015663</td>\n",
       "      <td>1.665358e+09</td>\n",
       "      <td>0</td>\n",
       "      <td>{'oembed': {'provider_url': 'https://twitter.c...</td>\n",
       "      <td>False</td>\n",
       "      <td>https://twitter.com/statmuse/status/1579250511...</td>\n",
       "      <td>NaN</td>\n",
       "      <td>NaN</td>\n",
       "      <td>NaN</td>\n",
       "      <td>NaN</td>\n",
       "    </tr>\n",
       "  </tbody>\n",
       "</table>\n",
       "<p>5 rows × 109 columns</p>\n",
       "</div>"
      ],
      "text/plain": [
       "   approved_at_utc subreddit  \\\n",
       "0              NaN       nfl   \n",
       "1              NaN       nfl   \n",
       "2              NaN       nfl   \n",
       "3              NaN       nfl   \n",
       "4              NaN       nfl   \n",
       "\n",
       "                                            selftext author_fullname  saved  \\\n",
       "0  [Cincinnati Bengals](/r/bengals#away) [at](#at...        t2_plq2w  False   \n",
       "1  [Cincinnati Bengals](/r/bengals#away) [at](#at...        t2_plq2w  False   \n",
       "2                                                NaN       t2_gbzf7q  False   \n",
       "3                                                NaN     t2_s82n19zx  False   \n",
       "4                                                NaN       t2_gbzf7q  False   \n",
       "\n",
       "   mod_reason_title  gilded  clicked  \\\n",
       "0               NaN       0    False   \n",
       "1               NaN       0    False   \n",
       "2               NaN       0    False   \n",
       "3               NaN       0    False   \n",
       "4               NaN       0    False   \n",
       "\n",
       "                                               title  \\\n",
       "0  Post Game Thread: Cincinnati Bengals (2-3) at ...   \n",
       "1  Game Thread: Cincinnati Bengals (2-2) at Balti...   \n",
       "2  [Highlight] Cardinals miss the field goal and ...   \n",
       "3  [Highlight] Roughing the passer called. Stunning.   \n",
       "4  [Stat Muse] Cooper Rush is 5-0 as a starter. O...   \n",
       "\n",
       "                        link_flair_richtext  ... subreddit_subscribers  \\\n",
       "0  [{'e': 'text', 't': 'Post Game Thread'}]  ...               3015663   \n",
       "1       [{'e': 'text', 't': 'Game Thread'}]  ...               3015663   \n",
       "2         [{'e': 'text', 't': 'Highlight'}]  ...               3015663   \n",
       "3                                        []  ...               3015663   \n",
       "4                                        []  ...               3015663   \n",
       "\n",
       "    created_utc  num_crossposts  \\\n",
       "0  1.665372e+09               0   \n",
       "1  1.665359e+09               0   \n",
       "2  1.665358e+09               0   \n",
       "3  1.665346e+09               1   \n",
       "4  1.665358e+09               0   \n",
       "\n",
       "                                               media  is_video  \\\n",
       "0                                                NaN     False   \n",
       "1                                                NaN     False   \n",
       "2  {'oembed': {'provider_url': 'https://twitter.c...     False   \n",
       "3  {'oembed': {'provider_url': 'https://twitter.c...     False   \n",
       "4  {'oembed': {'provider_url': 'https://twitter.c...     False   \n",
       "\n",
       "                              url_overridden_by_dest  call_to_action  \\\n",
       "0                                                NaN             NaN   \n",
       "1                                                NaN             NaN   \n",
       "2  https://twitter.com/lowlightheaven/status/1579...             NaN   \n",
       "3  https://twitter.com/MentionPod/status/15792005...             NaN   \n",
       "4  https://twitter.com/statmuse/status/1579250511...             NaN   \n",
       "\n",
       "  author_cakeday  link_flair_template_id media_metadata  \n",
       "0            NaN                     NaN            NaN  \n",
       "1            NaN                     NaN            NaN  \n",
       "2            NaN                     NaN            NaN  \n",
       "3            NaN                     NaN            NaN  \n",
       "4            NaN                     NaN            NaN  \n",
       "\n",
       "[5 rows x 109 columns]"
      ]
     },
     "execution_count": 4,
     "metadata": {},
     "output_type": "execute_result"
    }
   ],
   "source": [
    "df1.head()"
   ]
  },
  {
   "cell_type": "code",
   "execution_count": 5,
   "id": "8ee23294",
   "metadata": {},
   "outputs": [
    {
     "data": {
      "text/html": [
       "<div>\n",
       "<style scoped>\n",
       "    .dataframe tbody tr th:only-of-type {\n",
       "        vertical-align: middle;\n",
       "    }\n",
       "\n",
       "    .dataframe tbody tr th {\n",
       "        vertical-align: top;\n",
       "    }\n",
       "\n",
       "    .dataframe thead th {\n",
       "        text-align: right;\n",
       "    }\n",
       "</style>\n",
       "<table border=\"1\" class=\"dataframe\">\n",
       "  <thead>\n",
       "    <tr style=\"text-align: right;\">\n",
       "      <th></th>\n",
       "      <th>approved_at_utc</th>\n",
       "      <th>subreddit</th>\n",
       "      <th>selftext</th>\n",
       "      <th>author_fullname</th>\n",
       "      <th>saved</th>\n",
       "      <th>mod_reason_title</th>\n",
       "      <th>gilded</th>\n",
       "      <th>clicked</th>\n",
       "      <th>title</th>\n",
       "      <th>link_flair_richtext</th>\n",
       "      <th>...</th>\n",
       "      <th>media</th>\n",
       "      <th>is_video</th>\n",
       "      <th>call_to_action</th>\n",
       "      <th>crosspost_parent_list</th>\n",
       "      <th>crosspost_parent</th>\n",
       "      <th>poll_data</th>\n",
       "      <th>author_cakeday</th>\n",
       "      <th>is_gallery</th>\n",
       "      <th>media_metadata</th>\n",
       "      <th>gallery_data</th>\n",
       "    </tr>\n",
       "  </thead>\n",
       "  <tbody>\n",
       "    <tr>\n",
       "      <th>0</th>\n",
       "      <td>NaN</td>\n",
       "      <td>NCAA</td>\n",
       "      <td>NaN</td>\n",
       "      <td>t2_dz9aci0e</td>\n",
       "      <td>False</td>\n",
       "      <td>NaN</td>\n",
       "      <td>0</td>\n",
       "      <td>False</td>\n",
       "      <td>Mental Health Advisory Group to meet for first...</td>\n",
       "      <td>[]</td>\n",
       "      <td>...</td>\n",
       "      <td>NaN</td>\n",
       "      <td>False</td>\n",
       "      <td>NaN</td>\n",
       "      <td>NaN</td>\n",
       "      <td>NaN</td>\n",
       "      <td>NaN</td>\n",
       "      <td>NaN</td>\n",
       "      <td>NaN</td>\n",
       "      <td>NaN</td>\n",
       "      <td>NaN</td>\n",
       "    </tr>\n",
       "    <tr>\n",
       "      <th>1</th>\n",
       "      <td>NaN</td>\n",
       "      <td>NCAA</td>\n",
       "      <td>NaN</td>\n",
       "      <td>t2_rnqvk</td>\n",
       "      <td>False</td>\n",
       "      <td>NaN</td>\n",
       "      <td>0</td>\n",
       "      <td>False</td>\n",
       "      <td>Early favorite emerges in Wisconsin Badgers He...</td>\n",
       "      <td>[]</td>\n",
       "      <td>...</td>\n",
       "      <td>NaN</td>\n",
       "      <td>False</td>\n",
       "      <td>NaN</td>\n",
       "      <td>NaN</td>\n",
       "      <td>NaN</td>\n",
       "      <td>NaN</td>\n",
       "      <td>NaN</td>\n",
       "      <td>NaN</td>\n",
       "      <td>NaN</td>\n",
       "      <td>NaN</td>\n",
       "    </tr>\n",
       "    <tr>\n",
       "      <th>2</th>\n",
       "      <td>NaN</td>\n",
       "      <td>NCAA</td>\n",
       "      <td>As promised, as i already did NCAA 2K's for ol...</td>\n",
       "      <td>t2_22akoaxt</td>\n",
       "      <td>False</td>\n",
       "      <td>NaN</td>\n",
       "      <td>0</td>\n",
       "      <td>False</td>\n",
       "      <td>NCAA 2K23 - how to download and install! ENJOY!</td>\n",
       "      <td>[]</td>\n",
       "      <td>...</td>\n",
       "      <td>NaN</td>\n",
       "      <td>False</td>\n",
       "      <td>NaN</td>\n",
       "      <td>NaN</td>\n",
       "      <td>NaN</td>\n",
       "      <td>NaN</td>\n",
       "      <td>NaN</td>\n",
       "      <td>NaN</td>\n",
       "      <td>NaN</td>\n",
       "      <td>NaN</td>\n",
       "    </tr>\n",
       "    <tr>\n",
       "      <th>3</th>\n",
       "      <td>NaN</td>\n",
       "      <td>NCAA</td>\n",
       "      <td>anthroscopic* \\n\\nI'm hoping to hear from athl...</td>\n",
       "      <td>t2_9ku39crx</td>\n",
       "      <td>False</td>\n",
       "      <td>NaN</td>\n",
       "      <td>0</td>\n",
       "      <td>False</td>\n",
       "      <td>Does arthroscopic surgery for a shoulder injur...</td>\n",
       "      <td>[]</td>\n",
       "      <td>...</td>\n",
       "      <td>NaN</td>\n",
       "      <td>False</td>\n",
       "      <td>NaN</td>\n",
       "      <td>NaN</td>\n",
       "      <td>NaN</td>\n",
       "      <td>NaN</td>\n",
       "      <td>NaN</td>\n",
       "      <td>NaN</td>\n",
       "      <td>NaN</td>\n",
       "      <td>NaN</td>\n",
       "    </tr>\n",
       "    <tr>\n",
       "      <th>4</th>\n",
       "      <td>NaN</td>\n",
       "      <td>NCAA</td>\n",
       "      <td>NaN</td>\n",
       "      <td>t2_gohw27kc</td>\n",
       "      <td>False</td>\n",
       "      <td>NaN</td>\n",
       "      <td>0</td>\n",
       "      <td>False</td>\n",
       "      <td>Air Force football program put on probation by...</td>\n",
       "      <td>[]</td>\n",
       "      <td>...</td>\n",
       "      <td>NaN</td>\n",
       "      <td>False</td>\n",
       "      <td>NaN</td>\n",
       "      <td>NaN</td>\n",
       "      <td>NaN</td>\n",
       "      <td>NaN</td>\n",
       "      <td>NaN</td>\n",
       "      <td>NaN</td>\n",
       "      <td>NaN</td>\n",
       "      <td>NaN</td>\n",
       "    </tr>\n",
       "  </tbody>\n",
       "</table>\n",
       "<p>5 rows × 113 columns</p>\n",
       "</div>"
      ],
      "text/plain": [
       "   approved_at_utc subreddit  \\\n",
       "0              NaN      NCAA   \n",
       "1              NaN      NCAA   \n",
       "2              NaN      NCAA   \n",
       "3              NaN      NCAA   \n",
       "4              NaN      NCAA   \n",
       "\n",
       "                                            selftext author_fullname  saved  \\\n",
       "0                                                NaN     t2_dz9aci0e  False   \n",
       "1                                                NaN        t2_rnqvk  False   \n",
       "2  As promised, as i already did NCAA 2K's for ol...     t2_22akoaxt  False   \n",
       "3  anthroscopic* \\n\\nI'm hoping to hear from athl...     t2_9ku39crx  False   \n",
       "4                                                NaN     t2_gohw27kc  False   \n",
       "\n",
       "   mod_reason_title  gilded  clicked  \\\n",
       "0               NaN       0    False   \n",
       "1               NaN       0    False   \n",
       "2               NaN       0    False   \n",
       "3               NaN       0    False   \n",
       "4               NaN       0    False   \n",
       "\n",
       "                                               title link_flair_richtext  ...  \\\n",
       "0  Mental Health Advisory Group to meet for first...                  []  ...   \n",
       "1  Early favorite emerges in Wisconsin Badgers He...                  []  ...   \n",
       "2    NCAA 2K23 - how to download and install! ENJOY!                  []  ...   \n",
       "3  Does arthroscopic surgery for a shoulder injur...                  []  ...   \n",
       "4  Air Force football program put on probation by...                  []  ...   \n",
       "\n",
       "  media  is_video  call_to_action  crosspost_parent_list  crosspost_parent  \\\n",
       "0   NaN     False             NaN                    NaN               NaN   \n",
       "1   NaN     False             NaN                    NaN               NaN   \n",
       "2   NaN     False             NaN                    NaN               NaN   \n",
       "3   NaN     False             NaN                    NaN               NaN   \n",
       "4   NaN     False             NaN                    NaN               NaN   \n",
       "\n",
       "   poll_data  author_cakeday is_gallery  media_metadata gallery_data  \n",
       "0        NaN             NaN        NaN             NaN          NaN  \n",
       "1        NaN             NaN        NaN             NaN          NaN  \n",
       "2        NaN             NaN        NaN             NaN          NaN  \n",
       "3        NaN             NaN        NaN             NaN          NaN  \n",
       "4        NaN             NaN        NaN             NaN          NaN  \n",
       "\n",
       "[5 rows x 113 columns]"
      ]
     },
     "execution_count": 5,
     "metadata": {},
     "output_type": "execute_result"
    }
   ],
   "source": [
    "df2.head()"
   ]
  },
  {
   "cell_type": "code",
   "execution_count": 6,
   "id": "1a0467a1",
   "metadata": {},
   "outputs": [
    {
     "data": {
      "text/plain": [
       "(976, 113)"
      ]
     },
     "execution_count": 6,
     "metadata": {},
     "output_type": "execute_result"
    }
   ],
   "source": [
    "df2.shape"
   ]
  },
  {
   "cell_type": "code",
   "execution_count": 7,
   "id": "22f62a6b",
   "metadata": {},
   "outputs": [
    {
     "data": {
      "text/plain": [
       "(1977, 114)"
      ]
     },
     "execution_count": 7,
     "metadata": {},
     "output_type": "execute_result"
    }
   ],
   "source": [
    "# append two dataframe into one for data training\n",
    "df = pd.concat([df1, df2], axis=0)\n",
    "df = df.reset_index(drop=True)\n",
    "df.shape"
   ]
  },
  {
   "cell_type": "code",
   "execution_count": 8,
   "id": "79013c9f",
   "metadata": {},
   "outputs": [
    {
     "name": "stdout",
     "output_type": "stream",
     "text": [
      "<class 'pandas.core.frame.DataFrame'>\n",
      "RangeIndex: 1977 entries, 0 to 1976\n",
      "Columns: 114 entries, approved_at_utc to gallery_data\n",
      "dtypes: bool(28), float64(24), int64(10), object(52)\n",
      "memory usage: 1.4+ MB\n"
     ]
    }
   ],
   "source": [
    "df.info()"
   ]
  },
  {
   "cell_type": "code",
   "execution_count": 9,
   "id": "70be518f",
   "metadata": {},
   "outputs": [
    {
     "data": {
      "text/plain": [
       "nfl     1001\n",
       "NCAA     976\n",
       "Name: subreddit, dtype: int64"
      ]
     },
     "execution_count": 9,
     "metadata": {},
     "output_type": "execute_result"
    }
   ],
   "source": [
    "df.subreddit.value_counts()"
   ]
  },
  {
   "cell_type": "code",
   "execution_count": 10,
   "id": "37811a18",
   "metadata": {},
   "outputs": [],
   "source": [
    "#rename column\n",
    "df.rename(columns = {'subreddit':'is_nfl'}, inplace = True)\n",
    "# Create label column\n",
    "df['is_nfl'] = df['is_nfl'].map({'NCAA':0, 'nfl':1})"
   ]
  },
  {
   "cell_type": "code",
   "execution_count": 11,
   "id": "775e1a47",
   "metadata": {},
   "outputs": [
    {
     "data": {
      "text/plain": [
       "1    1001\n",
       "0     976\n",
       "Name: is_nfl, dtype: int64"
      ]
     },
     "execution_count": 11,
     "metadata": {},
     "output_type": "execute_result"
    }
   ],
   "source": [
    "df.is_nfl.value_counts()"
   ]
  },
  {
   "cell_type": "code",
   "execution_count": 12,
   "id": "0b3cc8f5",
   "metadata": {},
   "outputs": [],
   "source": [
    "df = df[['is_nfl','author_fullname','title']].copy()"
   ]
  },
  {
   "cell_type": "code",
   "execution_count": 13,
   "id": "e979118a",
   "metadata": {},
   "outputs": [
    {
     "data": {
      "text/plain": [
       "(1977, 3)"
      ]
     },
     "execution_count": 13,
     "metadata": {},
     "output_type": "execute_result"
    }
   ],
   "source": [
    "df.shape"
   ]
  },
  {
   "cell_type": "code",
   "execution_count": 14,
   "id": "3437009c",
   "metadata": {},
   "outputs": [
    {
     "data": {
      "text/plain": [
       "is_nfl              0\n",
       "author_fullname    32\n",
       "title               0\n",
       "dtype: int64"
      ]
     },
     "execution_count": 14,
     "metadata": {},
     "output_type": "execute_result"
    }
   ],
   "source": [
    "df.isnull().sum()"
   ]
  },
  {
   "cell_type": "code",
   "execution_count": 15,
   "id": "ac6b15e4",
   "metadata": {},
   "outputs": [
    {
     "data": {
      "text/plain": [
       "0"
      ]
     },
     "execution_count": 15,
     "metadata": {},
     "output_type": "execute_result"
    }
   ],
   "source": [
    "df.dropna(axis =0, inplace=True)\n",
    "df.isnull().sum().sum()"
   ]
  },
  {
   "cell_type": "code",
   "execution_count": 16,
   "id": "1040ccdf",
   "metadata": {},
   "outputs": [
    {
     "data": {
      "text/plain": [
       "(1945, 3)"
      ]
     },
     "execution_count": 16,
     "metadata": {},
     "output_type": "execute_result"
    }
   ],
   "source": [
    "df.shape"
   ]
  },
  {
   "cell_type": "code",
   "execution_count": 17,
   "id": "fa4130d4",
   "metadata": {},
   "outputs": [],
   "source": [
    "df.drop_duplicates(subset='title', keep='first', inplace=True, ignore_index=True)"
   ]
  },
  {
   "cell_type": "code",
   "execution_count": 18,
   "id": "cee70089",
   "metadata": {},
   "outputs": [
    {
     "data": {
      "text/plain": [
       "(1582, 3)"
      ]
     },
     "execution_count": 18,
     "metadata": {},
     "output_type": "execute_result"
    }
   ],
   "source": [
    "df.shape"
   ]
  },
  {
   "cell_type": "markdown",
   "id": "d51b9109",
   "metadata": {},
   "source": [
    "### Exploring quantitative properties of text"
   ]
  },
  {
   "cell_type": "code",
   "execution_count": 19,
   "id": "9f2dd4f1",
   "metadata": {},
   "outputs": [],
   "source": [
    "## Number of words in the text ##\n",
    "df[\"num_words\"] = df[\"title\"].apply(lambda x: len(str(x).split()))\n",
    "\n",
    "## Number of unique words in the text ##\n",
    "df[\"num_unique_words\"] = df[\"title\"].apply(lambda x: len(set(str(x).split())))\n",
    "\n",
    "## Number of characters in the text ##\n",
    "df[\"num_chars\"] = df[\"title\"].apply(lambda x: len(str(x)))\n",
    "\n",
    "## Number of stopwords in the text ##\n",
    "df[\"num_stopwords\"] = df[\"title\"].apply(lambda x: len([w for w in str(x).lower().split() if w in eng_stopwords]))\n",
    "\n",
    "## Number of punctuations in the text ##\n",
    "df[\"num_punctuations\"] =df['title'].apply(lambda x: len([c for c in str(x) if c in string.punctuation]))\n",
    "\n",
    "\n",
    "## Average length of the words in the text ##\n",
    "df[\"mean_word_len\"] = df[\"title\"].apply(lambda x: np.mean([len(w) for w in str(x).split()]))\n"
   ]
  },
  {
   "cell_type": "code",
   "execution_count": 20,
   "id": "80ea3794",
   "metadata": {},
   "outputs": [
    {
     "data": {
      "text/html": [
       "<div>\n",
       "<style scoped>\n",
       "    .dataframe tbody tr th:only-of-type {\n",
       "        vertical-align: middle;\n",
       "    }\n",
       "\n",
       "    .dataframe tbody tr th {\n",
       "        vertical-align: top;\n",
       "    }\n",
       "\n",
       "    .dataframe thead th {\n",
       "        text-align: right;\n",
       "    }\n",
       "</style>\n",
       "<table border=\"1\" class=\"dataframe\">\n",
       "  <thead>\n",
       "    <tr style=\"text-align: right;\">\n",
       "      <th></th>\n",
       "      <th>is_nfl</th>\n",
       "      <th>author_fullname</th>\n",
       "      <th>title</th>\n",
       "      <th>num_words</th>\n",
       "      <th>num_unique_words</th>\n",
       "      <th>num_chars</th>\n",
       "      <th>num_stopwords</th>\n",
       "      <th>num_punctuations</th>\n",
       "      <th>mean_word_len</th>\n",
       "    </tr>\n",
       "  </thead>\n",
       "  <tbody>\n",
       "    <tr>\n",
       "      <th>0</th>\n",
       "      <td>1</td>\n",
       "      <td>t2_plq2w</td>\n",
       "      <td>Post Game Thread: Cincinnati Bengals (2-3) at ...</td>\n",
       "      <td>10</td>\n",
       "      <td>10</td>\n",
       "      <td>68</td>\n",
       "      <td>1</td>\n",
       "      <td>7</td>\n",
       "      <td>5.900000</td>\n",
       "    </tr>\n",
       "    <tr>\n",
       "      <th>1</th>\n",
       "      <td>1</td>\n",
       "      <td>t2_plq2w</td>\n",
       "      <td>Game Thread: Cincinnati Bengals (2-2) at Balti...</td>\n",
       "      <td>9</td>\n",
       "      <td>8</td>\n",
       "      <td>63</td>\n",
       "      <td>1</td>\n",
       "      <td>7</td>\n",
       "      <td>6.111111</td>\n",
       "    </tr>\n",
       "    <tr>\n",
       "      <th>2</th>\n",
       "      <td>1</td>\n",
       "      <td>t2_gbzf7q</td>\n",
       "      <td>[Highlight] Cardinals miss the field goal and ...</td>\n",
       "      <td>10</td>\n",
       "      <td>10</td>\n",
       "      <td>67</td>\n",
       "      <td>2</td>\n",
       "      <td>3</td>\n",
       "      <td>5.800000</td>\n",
       "    </tr>\n",
       "    <tr>\n",
       "      <th>3</th>\n",
       "      <td>1</td>\n",
       "      <td>t2_s82n19zx</td>\n",
       "      <td>[Highlight] Roughing the passer called. Stunning.</td>\n",
       "      <td>6</td>\n",
       "      <td>6</td>\n",
       "      <td>49</td>\n",
       "      <td>1</td>\n",
       "      <td>4</td>\n",
       "      <td>7.333333</td>\n",
       "    </tr>\n",
       "    <tr>\n",
       "      <th>4</th>\n",
       "      <td>1</td>\n",
       "      <td>t2_gbzf7q</td>\n",
       "      <td>[Stat Muse] Cooper Rush is 5-0 as a starter. O...</td>\n",
       "      <td>21</td>\n",
       "      <td>21</td>\n",
       "      <td>100</td>\n",
       "      <td>7</td>\n",
       "      <td>5</td>\n",
       "      <td>3.809524</td>\n",
       "    </tr>\n",
       "  </tbody>\n",
       "</table>\n",
       "</div>"
      ],
      "text/plain": [
       "   is_nfl author_fullname                                              title  \\\n",
       "0       1        t2_plq2w  Post Game Thread: Cincinnati Bengals (2-3) at ...   \n",
       "1       1        t2_plq2w  Game Thread: Cincinnati Bengals (2-2) at Balti...   \n",
       "2       1       t2_gbzf7q  [Highlight] Cardinals miss the field goal and ...   \n",
       "3       1     t2_s82n19zx  [Highlight] Roughing the passer called. Stunning.   \n",
       "4       1       t2_gbzf7q  [Stat Muse] Cooper Rush is 5-0 as a starter. O...   \n",
       "\n",
       "   num_words  num_unique_words  num_chars  num_stopwords  num_punctuations  \\\n",
       "0         10                10         68              1                 7   \n",
       "1          9                 8         63              1                 7   \n",
       "2         10                10         67              2                 3   \n",
       "3          6                 6         49              1                 4   \n",
       "4         21                21        100              7                 5   \n",
       "\n",
       "   mean_word_len  \n",
       "0       5.900000  \n",
       "1       6.111111  \n",
       "2       5.800000  \n",
       "3       7.333333  \n",
       "4       3.809524  "
      ]
     },
     "execution_count": 20,
     "metadata": {},
     "output_type": "execute_result"
    }
   ],
   "source": [
    "df.head()"
   ]
  },
  {
   "cell_type": "code",
   "execution_count": 21,
   "id": "60b0c83d",
   "metadata": {},
   "outputs": [
    {
     "data": {
      "text/plain": [
       "Index(['is_nfl', 'author_fullname', 'title', 'num_words', 'num_unique_words',\n",
       "       'num_chars', 'num_stopwords', 'num_punctuations', 'mean_word_len'],\n",
       "      dtype='object')"
      ]
     },
     "execution_count": 21,
     "metadata": {},
     "output_type": "execute_result"
    }
   ],
   "source": [
    "df.columns"
   ]
  },
  {
   "cell_type": "code",
   "execution_count": 22,
   "id": "5bb3c21a",
   "metadata": {},
   "outputs": [
    {
     "data": {
      "image/png": "[encoded data removed]",
      "text/plain": [
       "<Figure size 432x288 with 2 Axes>"
      ]
     },
     "metadata": {
      "needs_background": "light"
     },
     "output_type": "display_data"
    }
   ],
   "source": [
    "#correlation matrix of 'title_ave_length' 'title_word_count' 'title_length'\n",
    "df_word = df[['num_words', 'num_unique_words',\n",
    "       'num_chars', 'num_stopwords', 'num_punctuations', 'mean_word_len']].copy()\n",
    "corr = df_word.corr()\n",
    "sns.heatmap(corr, cmap=\"Blues\", annot=True);\n"
   ]
  },
  {
   "cell_type": "code",
   "execution_count": 23,
   "id": "8ed561a8",
   "metadata": {},
   "outputs": [
    {
     "data": {
      "image/png": "[encoded data removed]",
      "text/plain": [
       "<Figure size 1122.38x1080 with 27 Axes>"
      ]
     },
     "metadata": {
      "needs_background": "light"
     },
     "output_type": "display_data"
    }
   ],
   "source": [
    "sns.pairplot(data=df, hue='is_nfl', corner =True);"
   ]
  },
  {
   "cell_type": "code",
   "execution_count": 24,
   "id": "2ad689c8",
   "metadata": {},
   "outputs": [
    {
     "data": {
      "text/html": [
       "<div>\n",
       "<style scoped>\n",
       "    .dataframe tbody tr th:only-of-type {\n",
       "        vertical-align: middle;\n",
       "    }\n",
       "\n",
       "    .dataframe tbody tr th {\n",
       "        vertical-align: top;\n",
       "    }\n",
       "\n",
       "    .dataframe thead tr th {\n",
       "        text-align: left;\n",
       "    }\n",
       "\n",
       "    .dataframe thead tr:last-of-type th {\n",
       "        text-align: right;\n",
       "    }\n",
       "</style>\n",
       "<table border=\"1\" class=\"dataframe\">\n",
       "  <thead>\n",
       "    <tr>\n",
       "      <th></th>\n",
       "      <th>num_words</th>\n",
       "      <th>num_unique_words</th>\n",
       "      <th>num_chars</th>\n",
       "      <th>num_stopwords</th>\n",
       "      <th>num_punctuations</th>\n",
       "      <th>mean_word_len</th>\n",
       "    </tr>\n",
       "    <tr>\n",
       "      <th></th>\n",
       "      <th>mean</th>\n",
       "      <th>mean</th>\n",
       "      <th>mean</th>\n",
       "      <th>mean</th>\n",
       "      <th>mean</th>\n",
       "      <th>mean</th>\n",
       "    </tr>\n",
       "    <tr>\n",
       "      <th>is_nfl</th>\n",
       "      <th></th>\n",
       "      <th></th>\n",
       "      <th></th>\n",
       "      <th></th>\n",
       "      <th></th>\n",
       "      <th></th>\n",
       "    </tr>\n",
       "  </thead>\n",
       "  <tbody>\n",
       "    <tr>\n",
       "      <th>0</th>\n",
       "      <td>9.61</td>\n",
       "      <td>9.31</td>\n",
       "      <td>56.88</td>\n",
       "      <td>2.76</td>\n",
       "      <td>1.46</td>\n",
       "      <td>5.44</td>\n",
       "    </tr>\n",
       "    <tr>\n",
       "      <th>1</th>\n",
       "      <td>20.13</td>\n",
       "      <td>18.46</td>\n",
       "      <td>116.52</td>\n",
       "      <td>6.58</td>\n",
       "      <td>5.17</td>\n",
       "      <td>5.05</td>\n",
       "    </tr>\n",
       "  </tbody>\n",
       "</table>\n",
       "</div>"
      ],
      "text/plain": [
       "       num_words num_unique_words num_chars num_stopwords num_punctuations  \\\n",
       "            mean             mean      mean          mean             mean   \n",
       "is_nfl                                                                       \n",
       "0           9.61             9.31     56.88          2.76             1.46   \n",
       "1          20.13            18.46    116.52          6.58             5.17   \n",
       "\n",
       "       mean_word_len  \n",
       "                mean  \n",
       "is_nfl                \n",
       "0               5.44  \n",
       "1               5.05  "
      ]
     },
     "execution_count": 24,
     "metadata": {},
     "output_type": "execute_result"
    }
   ],
   "source": [
    "df.groupby(['is_nfl']).agg(['mean']).round(2)"
   ]
  },
  {
   "cell_type": "markdown",
   "id": "349d96dd",
   "metadata": {},
   "source": [
    "### Exploring most common words"
   ]
  },
  {
   "cell_type": "markdown",
   "id": "b04a3fe6",
   "metadata": {},
   "source": [
    "#### Lower casing"
   ]
  },
  {
   "cell_type": "code",
   "execution_count": 25,
   "id": "166ac08a",
   "metadata": {},
   "outputs": [],
   "source": [
    "def lower_case(df):\n",
    "    df['title'] = df['title'].apply(lambda x: \" \".join(x.lower() for x in x.split()))\n",
    "    print(df['title'].head())"
   ]
  },
  {
   "cell_type": "code",
   "execution_count": 26,
   "id": "22f9da84",
   "metadata": {},
   "outputs": [
    {
     "name": "stdout",
     "output_type": "stream",
     "text": [
      "0    post game thread: cincinnati bengals (2-3) at ...\n",
      "1    game thread: cincinnati bengals (2-2) at balti...\n",
      "2    [highlight] cardinals miss the field goal and ...\n",
      "3    [highlight] roughing the passer called. stunning.\n",
      "4    [stat muse] cooper rush is 5-0 as a starter. o...\n",
      "Name: title, dtype: object\n"
     ]
    }
   ],
   "source": [
    "lower_case(df)"
   ]
  },
  {
   "cell_type": "markdown",
   "id": "58116818",
   "metadata": {},
   "source": [
    "#### remove punctuation"
   ]
  },
  {
   "cell_type": "code",
   "execution_count": 27,
   "id": "98aa0e07",
   "metadata": {},
   "outputs": [],
   "source": [
    "def punctuation_removal(df):\n",
    "    df['title'] = df['title'].str.replace('[^\\w\\s]','')\n",
    "    print(df['title'].head())"
   ]
  },
  {
   "cell_type": "code",
   "execution_count": 28,
   "id": "f5d091d1",
   "metadata": {},
   "outputs": [
    {
     "name": "stdout",
     "output_type": "stream",
     "text": [
      "0    post game thread cincinnati bengals 23 at balt...\n",
      "1    game thread cincinnati bengals 22 at baltimore...\n",
      "2    highlight cardinals miss the field goal and ea...\n",
      "3        highlight roughing the passer called stunning\n",
      "4    stat muse cooper rush is 50 as a starter only ...\n",
      "Name: title, dtype: object\n"
     ]
    }
   ],
   "source": [
    "punctuation_removal(df)"
   ]
  },
  {
   "cell_type": "code",
   "execution_count": 29,
   "id": "85419b07",
   "metadata": {},
   "outputs": [],
   "source": [
    "# Instantiate a CountVectorizer.\n",
    "cvec = CountVectorizer(stop_words='english')\n",
    "# Fit and transform the vectorizer on our corpus.\n",
    "df_cvec= cvec.fit_transform(df['title'])\n",
    "#putting results into dataframe\n",
    "df_cvec = pd.DataFrame(df_cvec.todense(), columns=cvec.get_feature_names_out())"
   ]
  },
  {
   "cell_type": "code",
   "execution_count": 30,
   "id": "62b5c263",
   "metadata": {},
   "outputs": [
    {
     "data": {
      "text/html": [
       "<div>\n",
       "<style scoped>\n",
       "    .dataframe tbody tr th:only-of-type {\n",
       "        vertical-align: middle;\n",
       "    }\n",
       "\n",
       "    .dataframe tbody tr th {\n",
       "        vertical-align: top;\n",
       "    }\n",
       "\n",
       "    .dataframe thead th {\n",
       "        text-align: right;\n",
       "    }\n",
       "</style>\n",
       "<table border=\"1\" class=\"dataframe\">\n",
       "  <thead>\n",
       "    <tr style=\"text-align: right;\">\n",
       "      <th></th>\n",
       "      <th>00</th>\n",
       "      <th>02</th>\n",
       "      <th>0200</th>\n",
       "      <th>021</th>\n",
       "      <th>031</th>\n",
       "      <th>04</th>\n",
       "      <th>07</th>\n",
       "      <th>0for4</th>\n",
       "      <th>0for6</th>\n",
       "      <th>10</th>\n",
       "      <th>...</th>\n",
       "      <th>zadarius</th>\n",
       "      <th>zaga</th>\n",
       "      <th>zaire</th>\n",
       "      <th>zappe</th>\n",
       "      <th>zero</th>\n",
       "      <th>zhao</th>\n",
       "      <th>zone</th>\n",
       "      <th>zoo</th>\n",
       "      <th>zoom</th>\n",
       "      <th>zrebiec</th>\n",
       "    </tr>\n",
       "  </thead>\n",
       "  <tbody>\n",
       "    <tr>\n",
       "      <th>0</th>\n",
       "      <td>0</td>\n",
       "      <td>0</td>\n",
       "      <td>0</td>\n",
       "      <td>0</td>\n",
       "      <td>0</td>\n",
       "      <td>0</td>\n",
       "      <td>0</td>\n",
       "      <td>0</td>\n",
       "      <td>0</td>\n",
       "      <td>0</td>\n",
       "      <td>...</td>\n",
       "      <td>0</td>\n",
       "      <td>0</td>\n",
       "      <td>0</td>\n",
       "      <td>0</td>\n",
       "      <td>0</td>\n",
       "      <td>0</td>\n",
       "      <td>0</td>\n",
       "      <td>0</td>\n",
       "      <td>0</td>\n",
       "      <td>0</td>\n",
       "    </tr>\n",
       "    <tr>\n",
       "      <th>1</th>\n",
       "      <td>0</td>\n",
       "      <td>0</td>\n",
       "      <td>0</td>\n",
       "      <td>0</td>\n",
       "      <td>0</td>\n",
       "      <td>0</td>\n",
       "      <td>0</td>\n",
       "      <td>0</td>\n",
       "      <td>0</td>\n",
       "      <td>0</td>\n",
       "      <td>...</td>\n",
       "      <td>0</td>\n",
       "      <td>0</td>\n",
       "      <td>0</td>\n",
       "      <td>0</td>\n",
       "      <td>0</td>\n",
       "      <td>0</td>\n",
       "      <td>0</td>\n",
       "      <td>0</td>\n",
       "      <td>0</td>\n",
       "      <td>0</td>\n",
       "    </tr>\n",
       "    <tr>\n",
       "      <th>2</th>\n",
       "      <td>0</td>\n",
       "      <td>0</td>\n",
       "      <td>0</td>\n",
       "      <td>0</td>\n",
       "      <td>0</td>\n",
       "      <td>0</td>\n",
       "      <td>0</td>\n",
       "      <td>0</td>\n",
       "      <td>0</td>\n",
       "      <td>0</td>\n",
       "      <td>...</td>\n",
       "      <td>0</td>\n",
       "      <td>0</td>\n",
       "      <td>0</td>\n",
       "      <td>0</td>\n",
       "      <td>0</td>\n",
       "      <td>0</td>\n",
       "      <td>0</td>\n",
       "      <td>0</td>\n",
       "      <td>0</td>\n",
       "      <td>0</td>\n",
       "    </tr>\n",
       "    <tr>\n",
       "      <th>3</th>\n",
       "      <td>0</td>\n",
       "      <td>0</td>\n",
       "      <td>0</td>\n",
       "      <td>0</td>\n",
       "      <td>0</td>\n",
       "      <td>0</td>\n",
       "      <td>0</td>\n",
       "      <td>0</td>\n",
       "      <td>0</td>\n",
       "      <td>0</td>\n",
       "      <td>...</td>\n",
       "      <td>0</td>\n",
       "      <td>0</td>\n",
       "      <td>0</td>\n",
       "      <td>0</td>\n",
       "      <td>0</td>\n",
       "      <td>0</td>\n",
       "      <td>0</td>\n",
       "      <td>0</td>\n",
       "      <td>0</td>\n",
       "      <td>0</td>\n",
       "    </tr>\n",
       "    <tr>\n",
       "      <th>4</th>\n",
       "      <td>0</td>\n",
       "      <td>0</td>\n",
       "      <td>0</td>\n",
       "      <td>0</td>\n",
       "      <td>0</td>\n",
       "      <td>0</td>\n",
       "      <td>0</td>\n",
       "      <td>0</td>\n",
       "      <td>0</td>\n",
       "      <td>0</td>\n",
       "      <td>...</td>\n",
       "      <td>0</td>\n",
       "      <td>0</td>\n",
       "      <td>0</td>\n",
       "      <td>0</td>\n",
       "      <td>0</td>\n",
       "      <td>0</td>\n",
       "      <td>0</td>\n",
       "      <td>0</td>\n",
       "      <td>0</td>\n",
       "      <td>0</td>\n",
       "    </tr>\n",
       "    <tr>\n",
       "      <th>...</th>\n",
       "      <td>...</td>\n",
       "      <td>...</td>\n",
       "      <td>...</td>\n",
       "      <td>...</td>\n",
       "      <td>...</td>\n",
       "      <td>...</td>\n",
       "      <td>...</td>\n",
       "      <td>...</td>\n",
       "      <td>...</td>\n",
       "      <td>...</td>\n",
       "      <td>...</td>\n",
       "      <td>...</td>\n",
       "      <td>...</td>\n",
       "      <td>...</td>\n",
       "      <td>...</td>\n",
       "      <td>...</td>\n",
       "      <td>...</td>\n",
       "      <td>...</td>\n",
       "      <td>...</td>\n",
       "      <td>...</td>\n",
       "      <td>...</td>\n",
       "    </tr>\n",
       "    <tr>\n",
       "      <th>1577</th>\n",
       "      <td>0</td>\n",
       "      <td>0</td>\n",
       "      <td>0</td>\n",
       "      <td>0</td>\n",
       "      <td>0</td>\n",
       "      <td>0</td>\n",
       "      <td>0</td>\n",
       "      <td>0</td>\n",
       "      <td>0</td>\n",
       "      <td>0</td>\n",
       "      <td>...</td>\n",
       "      <td>0</td>\n",
       "      <td>0</td>\n",
       "      <td>0</td>\n",
       "      <td>0</td>\n",
       "      <td>0</td>\n",
       "      <td>0</td>\n",
       "      <td>0</td>\n",
       "      <td>0</td>\n",
       "      <td>0</td>\n",
       "      <td>0</td>\n",
       "    </tr>\n",
       "    <tr>\n",
       "      <th>1578</th>\n",
       "      <td>0</td>\n",
       "      <td>0</td>\n",
       "      <td>0</td>\n",
       "      <td>0</td>\n",
       "      <td>0</td>\n",
       "      <td>0</td>\n",
       "      <td>0</td>\n",
       "      <td>0</td>\n",
       "      <td>0</td>\n",
       "      <td>0</td>\n",
       "      <td>...</td>\n",
       "      <td>0</td>\n",
       "      <td>0</td>\n",
       "      <td>0</td>\n",
       "      <td>0</td>\n",
       "      <td>0</td>\n",
       "      <td>0</td>\n",
       "      <td>0</td>\n",
       "      <td>0</td>\n",
       "      <td>0</td>\n",
       "      <td>0</td>\n",
       "    </tr>\n",
       "    <tr>\n",
       "      <th>1579</th>\n",
       "      <td>0</td>\n",
       "      <td>0</td>\n",
       "      <td>0</td>\n",
       "      <td>0</td>\n",
       "      <td>0</td>\n",
       "      <td>0</td>\n",
       "      <td>0</td>\n",
       "      <td>0</td>\n",
       "      <td>0</td>\n",
       "      <td>0</td>\n",
       "      <td>...</td>\n",
       "      <td>0</td>\n",
       "      <td>0</td>\n",
       "      <td>0</td>\n",
       "      <td>0</td>\n",
       "      <td>0</td>\n",
       "      <td>0</td>\n",
       "      <td>0</td>\n",
       "      <td>0</td>\n",
       "      <td>0</td>\n",
       "      <td>0</td>\n",
       "    </tr>\n",
       "    <tr>\n",
       "      <th>1580</th>\n",
       "      <td>0</td>\n",
       "      <td>0</td>\n",
       "      <td>0</td>\n",
       "      <td>0</td>\n",
       "      <td>0</td>\n",
       "      <td>0</td>\n",
       "      <td>0</td>\n",
       "      <td>0</td>\n",
       "      <td>0</td>\n",
       "      <td>0</td>\n",
       "      <td>...</td>\n",
       "      <td>0</td>\n",
       "      <td>0</td>\n",
       "      <td>0</td>\n",
       "      <td>0</td>\n",
       "      <td>0</td>\n",
       "      <td>0</td>\n",
       "      <td>0</td>\n",
       "      <td>0</td>\n",
       "      <td>0</td>\n",
       "      <td>0</td>\n",
       "    </tr>\n",
       "    <tr>\n",
       "      <th>1581</th>\n",
       "      <td>0</td>\n",
       "      <td>0</td>\n",
       "      <td>0</td>\n",
       "      <td>0</td>\n",
       "      <td>0</td>\n",
       "      <td>0</td>\n",
       "      <td>0</td>\n",
       "      <td>0</td>\n",
       "      <td>0</td>\n",
       "      <td>0</td>\n",
       "      <td>...</td>\n",
       "      <td>0</td>\n",
       "      <td>0</td>\n",
       "      <td>0</td>\n",
       "      <td>0</td>\n",
       "      <td>0</td>\n",
       "      <td>0</td>\n",
       "      <td>0</td>\n",
       "      <td>0</td>\n",
       "      <td>0</td>\n",
       "      <td>0</td>\n",
       "    </tr>\n",
       "  </tbody>\n",
       "</table>\n",
       "<p>1582 rows × 4677 columns</p>\n",
       "</div>"
      ],
      "text/plain": [
       "      00  02  0200  021  031  04  07  0for4  0for6  10  ...  zadarius  zaga  \\\n",
       "0      0   0     0    0    0   0   0      0      0   0  ...         0     0   \n",
       "1      0   0     0    0    0   0   0      0      0   0  ...         0     0   \n",
       "2      0   0     0    0    0   0   0      0      0   0  ...         0     0   \n",
       "3      0   0     0    0    0   0   0      0      0   0  ...         0     0   \n",
       "4      0   0     0    0    0   0   0      0      0   0  ...         0     0   \n",
       "...   ..  ..   ...  ...  ...  ..  ..    ...    ...  ..  ...       ...   ...   \n",
       "1577   0   0     0    0    0   0   0      0      0   0  ...         0     0   \n",
       "1578   0   0     0    0    0   0   0      0      0   0  ...         0     0   \n",
       "1579   0   0     0    0    0   0   0      0      0   0  ...         0     0   \n",
       "1580   0   0     0    0    0   0   0      0      0   0  ...         0     0   \n",
       "1581   0   0     0    0    0   0   0      0      0   0  ...         0     0   \n",
       "\n",
       "      zaire  zappe  zero  zhao  zone  zoo  zoom  zrebiec  \n",
       "0         0      0     0     0     0    0     0        0  \n",
       "1         0      0     0     0     0    0     0        0  \n",
       "2         0      0     0     0     0    0     0        0  \n",
       "3         0      0     0     0     0    0     0        0  \n",
       "4         0      0     0     0     0    0     0        0  \n",
       "...     ...    ...   ...   ...   ...  ...   ...      ...  \n",
       "1577      0      0     0     0     0    0     0        0  \n",
       "1578      0      0     0     0     0    0     0        0  \n",
       "1579      0      0     0     0     0    0     0        0  \n",
       "1580      0      0     0     0     0    0     0        0  \n",
       "1581      0      0     0     0     0    0     0        0  \n",
       "\n",
       "[1582 rows x 4677 columns]"
      ]
     },
     "execution_count": 30,
     "metadata": {},
     "output_type": "execute_result"
    }
   ],
   "source": [
    "df_cvec"
   ]
  },
  {
   "cell_type": "code",
   "execution_count": 31,
   "id": "4ee79ee0",
   "metadata": {},
   "outputs": [
    {
     "data": {
      "text/plain": [
       "00          2\n",
       "02          1\n",
       "0200        1\n",
       "021         1\n",
       "031         1\n",
       "           ..\n",
       "zhao        1\n",
       "zone       10\n",
       "zoo         1\n",
       "zoom        1\n",
       "zrebiec     2\n",
       "Length: 4677, dtype: int64"
      ]
     },
     "execution_count": 31,
     "metadata": {},
     "output_type": "execute_result"
    }
   ],
   "source": [
    "df_cvec_series = pd.Series(df_cvec.sum())\n",
    "df_cvec_series "
   ]
  },
  {
   "cell_type": "code",
   "execution_count": 32,
   "id": "dee84478",
   "metadata": {},
   "outputs": [],
   "source": [
    "df1_cvec= cvec.fit_transform(df1['title'])\n",
    "df1_cvec = pd.DataFrame(df1_cvec.todense(), columns=cvec.get_feature_names_out())"
   ]
  },
  {
   "cell_type": "code",
   "execution_count": 33,
   "id": "df7aaf42",
   "metadata": {},
   "outputs": [],
   "source": [
    "df2_cvec= cvec.fit_transform(df2['title'])\n",
    "df2_cvec = pd.DataFrame(df2_cvec.todense(), columns=cvec.get_feature_names_out())"
   ]
  },
  {
   "cell_type": "code",
   "execution_count": 34,
   "id": "2770b556",
   "metadata": {},
   "outputs": [
    {
     "data": {
      "image/png": "[encoded data removed]",
      "text/plain": [
       "<Figure size 432x288 with 1 Axes>"
      ]
     },
     "metadata": {
      "needs_background": "light"
     },
     "output_type": "display_data"
    }
   ],
   "source": [
    "#Most common words\n",
    "df_cvec.sum().sort_values(ascending =False).head(15).plot.barh();"
   ]
  },
  {
   "cell_type": "code",
   "execution_count": 35,
   "id": "93ec0772",
   "metadata": {},
   "outputs": [
    {
     "data": {
      "image/png": "[encoded data removed]",
      "text/plain": [
       "<Figure size 432x288 with 1 Axes>"
      ]
     },
     "metadata": {
      "needs_background": "light"
     },
     "output_type": "display_data"
    }
   ],
   "source": [
    "#Most common words in nfl subreddit\n",
    "df1_cvec.sum().sort_values(ascending =False).head(15).plot.barh();"
   ]
  },
  {
   "cell_type": "code",
   "execution_count": 36,
   "id": "5fb0ba39",
   "metadata": {},
   "outputs": [
    {
     "data": {
      "text/plain": [
       "highlight    239\n",
       "game         184\n",
       "nfl          108\n",
       "yards         96\n",
       "td            93\n",
       "week          90\n",
       "play          78\n",
       "today         71\n",
       "broncos       66\n",
       "team          63\n",
       "dtype: int64"
      ]
     },
     "execution_count": 36,
     "metadata": {},
     "output_type": "execute_result"
    }
   ],
   "source": [
    "freq1 = pd.Series(df1_cvec.sum().sort_values(ascending =False)[:10])\n",
    "freq1"
   ]
  },
  {
   "cell_type": "code",
   "execution_count": 37,
   "id": "3e50e019",
   "metadata": {},
   "outputs": [
    {
     "data": {
      "text/plain": [
       "['highlight',\n",
       " 'game',\n",
       " 'nfl',\n",
       " 'yards',\n",
       " 'td',\n",
       " 'week',\n",
       " 'play',\n",
       " 'today',\n",
       " 'broncos',\n",
       " 'team']"
      ]
     },
     "execution_count": 37,
     "metadata": {},
     "output_type": "execute_result"
    }
   ],
   "source": [
    "freq1 = list(freq1.index)\n",
    "freq1 "
   ]
  },
  {
   "cell_type": "code",
   "execution_count": 38,
   "id": "85cf4105",
   "metadata": {},
   "outputs": [
    {
     "data": {
      "image/png": "[encoded data removed]",
      "text/plain": [
       "<Figure size 432x288 with 1 Axes>"
      ]
     },
     "metadata": {
      "needs_background": "light"
     },
     "output_type": "display_data"
    }
   ],
   "source": [
    "#Most common words in ncaa subreddit\n",
    "df2_cvec.sum().sort_values(ascending =False).head(15).plot.barh();"
   ]
  },
  {
   "cell_type": "code",
   "execution_count": 39,
   "id": "6ba1587f",
   "metadata": {},
   "outputs": [
    {
     "data": {
      "text/plain": [
       "ncaa           246\n",
       "college        135\n",
       "athletes        78\n",
       "football        68\n",
       "state           65\n",
       "vs              63\n",
       "basketball      63\n",
       "team            51\n",
       "game            48\n",
       "eligibility     45\n",
       "dtype: int64"
      ]
     },
     "execution_count": 39,
     "metadata": {},
     "output_type": "execute_result"
    }
   ],
   "source": [
    "freq2 = pd.Series(df2_cvec.sum().sort_values(ascending =False)[:10])\n",
    "freq2 "
   ]
  },
  {
   "cell_type": "code",
   "execution_count": 40,
   "id": "9b62fb1a",
   "metadata": {},
   "outputs": [
    {
     "data": {
      "text/plain": [
       "['ncaa',\n",
       " 'college',\n",
       " 'athletes',\n",
       " 'football',\n",
       " 'state',\n",
       " 'vs',\n",
       " 'basketball',\n",
       " 'team',\n",
       " 'game',\n",
       " 'eligibility']"
      ]
     },
     "execution_count": 40,
     "metadata": {},
     "output_type": "execute_result"
    }
   ],
   "source": [
    "freq2 = list(freq2.index)\n",
    "freq2 "
   ]
  },
  {
   "cell_type": "code",
   "execution_count": 41,
   "id": "817b5916",
   "metadata": {},
   "outputs": [
    {
     "data": {
      "image/png": "[encoded data removed]",
      "text/plain": [
       "<Figure size 432x288 with 1 Axes>"
      ]
     },
     "metadata": {},
     "output_type": "display_data"
    }
   ],
   "source": [
    "A = set(['highlight','game','nfl','yards','td','week', 'play','today', 'broncos','team'])\n",
    "B = set(['ncaa','college','athletes','football','state','vs','basketball', 'team','game','eligibility'])\n",
    "\n",
    "v = venn2([A,B], ('NFL', 'NCAA'))\n",
    "\n",
    "v.get_label_by_id('100').set_text('\\n'.join(A-B))\n",
    "v.get_label_by_id('110').set_text('\\n'.join(A&B))\n",
    "v.get_label_by_id('010').set_text('\\n'.join(B-A))"
   ]
  },
  {
   "cell_type": "markdown",
   "id": "e610d7e3",
   "metadata": {},
   "source": [
    "### Exploring authors\n"
   ]
  },
  {
   "cell_type": "code",
   "execution_count": 42,
   "id": "0593c5a3",
   "metadata": {},
   "outputs": [
    {
     "data": {
      "text/plain": [
       "966"
      ]
     },
     "execution_count": 42,
     "metadata": {},
     "output_type": "execute_result"
    }
   ],
   "source": [
    "#number of unique auther\n",
    "df['author_fullname'].nunique()"
   ]
  },
  {
   "cell_type": "markdown",
   "id": "c197e78e",
   "metadata": {},
   "source": [
    "## Developing baseline model (Using Logistic Regression)"
   ]
  },
  {
   "cell_type": "markdown",
   "id": "c9ff3fe5",
   "metadata": {},
   "source": [
    "#### logistic regression using numbers of unique word"
   ]
  },
  {
   "cell_type": "code",
   "execution_count": 43,
   "id": "155d505b",
   "metadata": {},
   "outputs": [],
   "source": [
    "# Set X and y\n",
    "X = df[['num_unique_words']]\n",
    "y = df['is_nfl']\n",
    "# Train (80%) Test (20%) split \n",
    "X_train, X_test, y_train, y_test = train_test_split(X, y, test_size=0.2, \n",
    "                                                    random_state=42,\n",
    "                                                    stratify=y)"
   ]
  },
  {
   "cell_type": "code",
   "execution_count": 44,
   "id": "ccd1a82f",
   "metadata": {},
   "outputs": [],
   "source": [
    "# Instantiate our StandardScaler\n",
    "sc = StandardScaler()\n",
    "X_train_sc = sc.fit_transform(X_train) \n",
    "X_test_sc = sc.transform(X_test)"
   ]
  },
  {
   "cell_type": "code",
   "execution_count": 45,
   "id": "85ecac74",
   "metadata": {},
   "outputs": [
    {
     "name": "stdout",
     "output_type": "stream",
     "text": [
      "Logistic Regression Intercept: [0.2542688]\n",
      "Logistic Regression Coefficient(s): [[1.40297963]]\n",
      "Training accuracry: 0.6972332015810276\n",
      "Testing accuracry: 0.6624605678233438\n"
     ]
    }
   ],
   "source": [
    "logreg =LogisticRegression()\n",
    "logreg.fit(X_train_sc, y_train)\n",
    "logreg.predict(X_test_sc)\n",
    "\n",
    "print(f'Logistic Regression Intercept: {logreg.intercept_}')\n",
    "print(f'Logistic Regression Coefficient(s): {logreg.coef_}')\n",
    "print(f'Training accuracry: {logreg.score(X_train_sc, y_train)}')\n",
    "print(f'Testing accuracry: {logreg.score(X_test_sc, y_test)}')"
   ]
  },
  {
   "cell_type": "code",
   "execution_count": 46,
   "id": "8499bfe6",
   "metadata": {},
   "outputs": [
    {
     "data": {
      "image/png": "[encoded data removed]",
      "text/plain": [
       "<Figure size 432x288 with 2 Axes>"
      ]
     },
     "metadata": {
      "needs_background": "light"
     },
     "output_type": "display_data"
    }
   ],
   "source": [
    "y_preds_logreg = logreg.predict(X_test_sc)\n",
    "cm_logreg = confusion_matrix(y_test, y_preds_logreg)\n",
    "ConfusionMatrixDisplay(confusion_matrix=cm_logreg).plot();"
   ]
  },
  {
   "cell_type": "code",
   "execution_count": 47,
   "id": "f95f81b7",
   "metadata": {},
   "outputs": [
    {
     "name": "stdout",
     "output_type": "stream",
     "text": [
      "              precision    recall  f1-score   support\n",
      "\n",
      "           0       0.63      0.75      0.68       153\n",
      "           1       0.71      0.59      0.64       164\n",
      "\n",
      "    accuracy                           0.66       317\n",
      "   macro avg       0.67      0.67      0.66       317\n",
      "weighted avg       0.67      0.66      0.66       317\n",
      "\n"
     ]
    }
   ],
   "source": [
    "print(classification_report(y_test, y_preds_logreg))"
   ]
  },
  {
   "cell_type": "markdown",
   "id": "704c8515",
   "metadata": {},
   "source": [
    "The logistic regression model using all numbers of unique word extracting from titles can predict the sources of subreddit post with accuracy about 66.24%"
   ]
  },
  {
   "cell_type": "markdown",
   "id": "6235693f",
   "metadata": {},
   "source": [
    "#### logistic regression using all quantitative features extracting from titles"
   ]
  },
  {
   "cell_type": "code",
   "execution_count": 48,
   "id": "81734cac",
   "metadata": {},
   "outputs": [],
   "source": [
    "# Set X and y\n",
    "X = df[['num_words', 'num_unique_words',\n",
    "       'num_chars', 'num_stopwords', 'num_punctuations', 'mean_word_len']]\n",
    "y = df['is_nfl']\n",
    "# Train (80%) Test (20%) split \n",
    "X_train, X_test, y_train, y_test = train_test_split(X, y, test_size=0.2, \n",
    "                                                    random_state=42,\n",
    "                                                    stratify=y)"
   ]
  },
  {
   "cell_type": "code",
   "execution_count": 49,
   "id": "1b4cc4ad",
   "metadata": {},
   "outputs": [],
   "source": [
    "# Instantiate our StandardScaler\n",
    "sc = StandardScaler()\n",
    "X_train_sc = sc.fit_transform(X_train) \n",
    "X_test_sc = sc.transform(X_test)"
   ]
  },
  {
   "cell_type": "code",
   "execution_count": 50,
   "id": "3b0c3e76",
   "metadata": {},
   "outputs": [
    {
     "name": "stdout",
     "output_type": "stream",
     "text": [
      "Logistic Regression Intercept: [0.49713267]\n",
      "Logistic Regression Coefficient(s): [[-0.11239765 -0.30114177  0.54935492  0.35666803  1.9597962  -0.1317296 ]]\n",
      "Training accuracry: 0.7731225296442688\n",
      "Testing accuracry: 0.7476340694006309\n"
     ]
    }
   ],
   "source": [
    "logreg =LogisticRegression()\n",
    "logreg.fit(X_train_sc, y_train)\n",
    "logreg.predict(X_test_sc)\n",
    "\n",
    "print(f'Logistic Regression Intercept: {logreg.intercept_}')\n",
    "print(f'Logistic Regression Coefficient(s): {logreg.coef_}')\n",
    "print(f'Training accuracry: {logreg.score(X_train_sc, y_train)}')\n",
    "print(f'Testing accuracry: {logreg.score(X_test_sc, y_test)}')"
   ]
  },
  {
   "cell_type": "code",
   "execution_count": 51,
   "id": "bf7b09f5",
   "metadata": {},
   "outputs": [
    {
     "data": {
      "image/png": "[encoded data removed]",
      "text/plain": [
       "<Figure size 432x288 with 2 Axes>"
      ]
     },
     "metadata": {
      "needs_background": "light"
     },
     "output_type": "display_data"
    }
   ],
   "source": [
    "y_preds_logreg = logreg.predict(X_test_sc)\n",
    "cm_logreg = confusion_matrix(y_test, y_preds_logreg)\n",
    "ConfusionMatrixDisplay(confusion_matrix=cm_logreg).plot();"
   ]
  },
  {
   "cell_type": "code",
   "execution_count": 52,
   "id": "db7bd3ee",
   "metadata": {},
   "outputs": [
    {
     "name": "stdout",
     "output_type": "stream",
     "text": [
      "              precision    recall  f1-score   support\n",
      "\n",
      "           0       0.71      0.80      0.75       153\n",
      "           1       0.79      0.70      0.74       164\n",
      "\n",
      "    accuracy                           0.75       317\n",
      "   macro avg       0.75      0.75      0.75       317\n",
      "weighted avg       0.75      0.75      0.75       317\n",
      "\n"
     ]
    }
   ],
   "source": [
    "print(classification_report(y_test, y_preds_logreg))"
   ]
  },
  {
   "cell_type": "code",
   "execution_count": 53,
   "id": "9ef95b28",
   "metadata": {},
   "outputs": [
    {
     "data": {
      "text/html": [
       "<div>\n",
       "<style scoped>\n",
       "    .dataframe tbody tr th:only-of-type {\n",
       "        vertical-align: middle;\n",
       "    }\n",
       "\n",
       "    .dataframe tbody tr th {\n",
       "        vertical-align: top;\n",
       "    }\n",
       "\n",
       "    .dataframe thead th {\n",
       "        text-align: right;\n",
       "    }\n",
       "</style>\n",
       "<table border=\"1\" class=\"dataframe\">\n",
       "  <thead>\n",
       "    <tr style=\"text-align: right;\">\n",
       "      <th></th>\n",
       "      <th>is_nfl</th>\n",
       "      <th>predicted_values</th>\n",
       "      <th>predicted_probs</th>\n",
       "    </tr>\n",
       "  </thead>\n",
       "  <tbody>\n",
       "    <tr>\n",
       "      <th>760</th>\n",
       "      <td>1</td>\n",
       "      <td>1</td>\n",
       "      <td>0.85</td>\n",
       "    </tr>\n",
       "    <tr>\n",
       "      <th>1507</th>\n",
       "      <td>0</td>\n",
       "      <td>0</td>\n",
       "      <td>0.16</td>\n",
       "    </tr>\n",
       "    <tr>\n",
       "      <th>954</th>\n",
       "      <td>0</td>\n",
       "      <td>0</td>\n",
       "      <td>0.23</td>\n",
       "    </tr>\n",
       "    <tr>\n",
       "      <th>1375</th>\n",
       "      <td>0</td>\n",
       "      <td>0</td>\n",
       "      <td>0.24</td>\n",
       "    </tr>\n",
       "    <tr>\n",
       "      <th>907</th>\n",
       "      <td>0</td>\n",
       "      <td>0</td>\n",
       "      <td>0.29</td>\n",
       "    </tr>\n",
       "  </tbody>\n",
       "</table>\n",
       "</div>"
      ],
      "text/plain": [
       "      is_nfl  predicted_values  predicted_probs\n",
       "760        1                 1             0.85\n",
       "1507       0                 0             0.16\n",
       "954        0                 0             0.23\n",
       "1375       0                 0             0.24\n",
       "907        0                 0             0.29"
      ]
     },
     "execution_count": 53,
     "metadata": {},
     "output_type": "execute_result"
    }
   ],
   "source": [
    "pred_df = pd.DataFrame({'is_nfl': y_test, 'predicted_values': y_preds_logreg,\n",
    "                        'predicted_probs':\n",
    "                        logreg.predict_proba(X_test_sc).round(2)[:,1]})\n",
    "\n",
    "pred_df.head()"
   ]
  },
  {
   "cell_type": "code",
   "execution_count": 54,
   "id": "6abe2150",
   "metadata": {},
   "outputs": [
    {
     "data": {
      "image/png": "[encoded data removed]",
      "text/plain": [
       "<Figure size 864x360 with 1 Axes>"
      ]
     },
     "metadata": {
      "needs_background": "light"
     },
     "output_type": "display_data"
    }
   ],
   "source": [
    "# Distplot\n",
    "plt.figure(figsize=(12,5))\n",
    "\n",
    "# Plot distributions of predicted probabilities by actual value \n",
    "for group in pred_df.groupby('is_nfl'):\n",
    "    sns.distplot(group[1], kde=False, bins=20, \n",
    "                 label=f'Is NFL= {group[0]}')\n",
    "\n",
    "plt.xlabel('Predicted Probability that Outcome = 1')\n",
    "plt.legend();"
   ]
  },
  {
   "cell_type": "code",
   "execution_count": 55,
   "id": "b2317e03",
   "metadata": {},
   "outputs": [],
   "source": [
    "df_results = pd.merge(pred_df, df['title'], left_index=True, right_index=True)"
   ]
  },
  {
   "cell_type": "code",
   "execution_count": 56,
   "id": "fc619fc6",
   "metadata": {},
   "outputs": [
    {
     "data": {
      "text/html": [
       "<div>\n",
       "<style scoped>\n",
       "    .dataframe tbody tr th:only-of-type {\n",
       "        vertical-align: middle;\n",
       "    }\n",
       "\n",
       "    .dataframe tbody tr th {\n",
       "        vertical-align: top;\n",
       "    }\n",
       "\n",
       "    .dataframe thead th {\n",
       "        text-align: right;\n",
       "    }\n",
       "</style>\n",
       "<table border=\"1\" class=\"dataframe\">\n",
       "  <thead>\n",
       "    <tr style=\"text-align: right;\">\n",
       "      <th></th>\n",
       "      <th>is_nfl</th>\n",
       "      <th>predicted_values</th>\n",
       "      <th>predicted_probs</th>\n",
       "      <th>title</th>\n",
       "    </tr>\n",
       "  </thead>\n",
       "  <tbody>\n",
       "    <tr>\n",
       "      <th>1535</th>\n",
       "      <td>0</td>\n",
       "      <td>1</td>\n",
       "      <td>0.91</td>\n",
       "      <td>saint josephs hawks fans weve started a new co...</td>\n",
       "    </tr>\n",
       "    <tr>\n",
       "      <th>1026</th>\n",
       "      <td>0</td>\n",
       "      <td>1</td>\n",
       "      <td>0.97</td>\n",
       "      <td>fighting for life how maryland softball star m...</td>\n",
       "    </tr>\n",
       "    <tr>\n",
       "      <th>986</th>\n",
       "      <td>0</td>\n",
       "      <td>1</td>\n",
       "      <td>1.00</td>\n",
       "      <td>video game fans  ncaa 14 dynasty  season 2 uc ...</td>\n",
       "    </tr>\n",
       "    <tr>\n",
       "      <th>1304</th>\n",
       "      <td>0</td>\n",
       "      <td>1</td>\n",
       "      <td>0.91</td>\n",
       "      <td>through 3 quarters uk has not completed a pass...</td>\n",
       "    </tr>\n",
       "    <tr>\n",
       "      <th>990</th>\n",
       "      <td>0</td>\n",
       "      <td>1</td>\n",
       "      <td>1.00</td>\n",
       "      <td>video game fans  ncaa 14 dynasty  season 2 uc ...</td>\n",
       "    </tr>\n",
       "    <tr>\n",
       "      <th>1020</th>\n",
       "      <td>0</td>\n",
       "      <td>1</td>\n",
       "      <td>0.99</td>\n",
       "      <td>wassup i am a new twitch streamer recently nca...</td>\n",
       "    </tr>\n",
       "  </tbody>\n",
       "</table>\n",
       "</div>"
      ],
      "text/plain": [
       "      is_nfl  predicted_values  predicted_probs  \\\n",
       "1535       0                 1             0.91   \n",
       "1026       0                 1             0.97   \n",
       "986        0                 1             1.00   \n",
       "1304       0                 1             0.91   \n",
       "990        0                 1             1.00   \n",
       "1020       0                 1             0.99   \n",
       "\n",
       "                                                  title  \n",
       "1535  saint josephs hawks fans weve started a new co...  \n",
       "1026  fighting for life how maryland softball star m...  \n",
       "986   video game fans  ncaa 14 dynasty  season 2 uc ...  \n",
       "1304  through 3 quarters uk has not completed a pass...  \n",
       "990   video game fans  ncaa 14 dynasty  season 2 uc ...  \n",
       "1020  wassup i am a new twitch streamer recently nca...  "
      ]
     },
     "execution_count": 56,
     "metadata": {},
     "output_type": "execute_result"
    }
   ],
   "source": [
    "df_results[(df_results['is_nfl']==0) & (df_results['predicted_probs'] > 0.9)]"
   ]
  },
  {
   "cell_type": "code",
   "execution_count": 57,
   "id": "336636e1",
   "metadata": {},
   "outputs": [
    {
     "data": {
      "text/html": [
       "<div>\n",
       "<style scoped>\n",
       "    .dataframe tbody tr th:only-of-type {\n",
       "        vertical-align: middle;\n",
       "    }\n",
       "\n",
       "    .dataframe tbody tr th {\n",
       "        vertical-align: top;\n",
       "    }\n",
       "\n",
       "    .dataframe thead th {\n",
       "        text-align: right;\n",
       "    }\n",
       "</style>\n",
       "<table border=\"1\" class=\"dataframe\">\n",
       "  <thead>\n",
       "    <tr style=\"text-align: right;\">\n",
       "      <th></th>\n",
       "      <th>is_nfl</th>\n",
       "      <th>predicted_values</th>\n",
       "      <th>predicted_probs</th>\n",
       "      <th>title</th>\n",
       "    </tr>\n",
       "  </thead>\n",
       "  <tbody>\n",
       "    <tr>\n",
       "      <th>784</th>\n",
       "      <td>1</td>\n",
       "      <td>0</td>\n",
       "      <td>0.17</td>\n",
       "      <td>main strengths and weaknesses of every team</td>\n",
       "    </tr>\n",
       "    <tr>\n",
       "      <th>758</th>\n",
       "      <td>1</td>\n",
       "      <td>0</td>\n",
       "      <td>0.19</td>\n",
       "      <td>vikings justin jefferson trying to not be a virus</td>\n",
       "    </tr>\n",
       "    <tr>\n",
       "      <th>434</th>\n",
       "      <td>1</td>\n",
       "      <td>0</td>\n",
       "      <td>0.18</td>\n",
       "      <td>screens on 3rd down</td>\n",
       "    </tr>\n",
       "    <tr>\n",
       "      <th>424</th>\n",
       "      <td>1</td>\n",
       "      <td>0</td>\n",
       "      <td>0.18</td>\n",
       "      <td>the broncos russell wilson adventure is going ...</td>\n",
       "    </tr>\n",
       "  </tbody>\n",
       "</table>\n",
       "</div>"
      ],
      "text/plain": [
       "     is_nfl  predicted_values  predicted_probs  \\\n",
       "784       1                 0             0.17   \n",
       "758       1                 0             0.19   \n",
       "434       1                 0             0.18   \n",
       "424       1                 0             0.18   \n",
       "\n",
       "                                                 title  \n",
       "784        main strengths and weaknesses of every team  \n",
       "758  vikings justin jefferson trying to not be a virus  \n",
       "434                                screens on 3rd down  \n",
       "424  the broncos russell wilson adventure is going ...  "
      ]
     },
     "execution_count": 57,
     "metadata": {},
     "output_type": "execute_result"
    }
   ],
   "source": [
    "df_results[(df_results['is_nfl']==1) & (df_results['predicted_probs'] < 0.2)]"
   ]
  },
  {
   "cell_type": "markdown",
   "id": "762f7dfd",
   "metadata": {},
   "source": [
    "The logistic regression model using all quantitative features extracting from titles can predict the sources of subreddit post with accuracy about 74.76% which improve from previous model. However, the model has poor formance in predicting short posts because the model usually predict short posts are from NCAA subreddit when in fact a lot of them are from NFL subreddit. "
   ]
  },
  {
   "cell_type": "markdown",
   "id": "2cc72b6f",
   "metadata": {},
   "source": [
    "### Classification title post from text using Logistic Regression model"
   ]
  },
  {
   "cell_type": "code",
   "execution_count": 58,
   "id": "b06d0805",
   "metadata": {},
   "outputs": [],
   "source": [
    "# Set X and y\n",
    "X = df['title']\n",
    "y = df['is_nfl']\n",
    "# Train (80%) Test (20%) split \n",
    "X_train, X_test, y_train, y_test = train_test_split(X, y, test_size=0.2, \n",
    "                                                    random_state=42,\n",
    "                                                    stratify=y)"
   ]
  },
  {
   "cell_type": "code",
   "execution_count": 59,
   "id": "91474143",
   "metadata": {},
   "outputs": [
    {
     "data": {
      "text/plain": [
       "1443    your bracket either dies first round or lives ...\n",
       "1097    repost graduate student survey  studentathlete...\n",
       "775     pelissero attorneys for the commanders sent a ...\n",
       "431     nflpa president tretter we do not believe this...\n",
       "1426    can someone find me a free reddit link to the ...\n",
       "                              ...                        \n",
       "503     jennaharner11 the colts and broncos have combi...\n",
       "1558    fsu coach jimbo fisher cuts media interview sh...\n",
       "1125                                         drug testing\n",
       "1399    xfl ceo oliver luck to headline njcaas its fir...\n",
       "161                        highlight burrow is picked off\n",
       "Name: title, Length: 1265, dtype: object"
      ]
     },
     "execution_count": 59,
     "metadata": {},
     "output_type": "execute_result"
    }
   ],
   "source": [
    "X_train"
   ]
  },
  {
   "cell_type": "code",
   "execution_count": 60,
   "id": "c4f04cfa",
   "metadata": {},
   "outputs": [
    {
     "data": {
      "text/plain": [
       "1443    your bracket either dies first round or lives ...\n",
       "1097    repost graduate student survey studentathletes...\n",
       "775     pelissero attorneys for the commanders sent a ...\n",
       "431     nflpa president tretter we do not believe this...\n",
       "1426    can someone find me a free reddit link to the ...\n",
       "                              ...                        \n",
       "503     jennaharner11 the colts and have combined for ...\n",
       "1558    fsu coach jimbo fisher cuts media interview sh...\n",
       "1125                                         drug testing\n",
       "1399    xfl ceo oliver luck to headline njcaas its fir...\n",
       "161                                  burrow is picked off\n",
       "Name: title, Length: 1265, dtype: object"
      ]
     },
     "execution_count": 60,
     "metadata": {},
     "output_type": "execute_result"
    }
   ],
   "source": [
    "#drop 10 most common words from NFL post\n",
    "X_train = X_train.str.lower().apply(lambda x: \" \".join(x for x in x.split() if x not in freq1))\n",
    "X_train"
   ]
  },
  {
   "cell_type": "code",
   "execution_count": 61,
   "id": "98e4feeb",
   "metadata": {},
   "outputs": [
    {
     "data": {
      "text/plain": [
       "1443    your bracket either dies first round or lives ...\n",
       "1097    repost graduate student survey studentathletes...\n",
       "775     pelissero attorneys for the commanders sent a ...\n",
       "431     nflpa president tretter we do not believe this...\n",
       "1426    can someone find me a free reddit link to the ...\n",
       "                              ...                        \n",
       "503     jennaharner11 the colts and have combined for ...\n",
       "1558    fsu coach jimbo fisher cuts media interview sh...\n",
       "1125                                         drug testing\n",
       "1399    xfl ceo oliver luck to headline njcaas its fir...\n",
       "161                                  burrow is picked off\n",
       "Name: title, Length: 1265, dtype: object"
      ]
     },
     "execution_count": 61,
     "metadata": {},
     "output_type": "execute_result"
    }
   ],
   "source": [
    "#drop 10 most common words from NCAA post\n",
    "X_train = X_train.str.lower().apply(lambda x: \" \".join(x for x in x.split() if x not in freq2))\n",
    "X_train"
   ]
  },
  {
   "cell_type": "code",
   "execution_count": 62,
   "id": "1dcb444e",
   "metadata": {},
   "outputs": [
    {
     "data": {
      "text/plain": [
       "False    1265\n",
       "Name: title, dtype: int64"
      ]
     },
     "execution_count": 62,
     "metadata": {},
     "output_type": "execute_result"
    }
   ],
   "source": [
    "X_train.str.contains(' nfl ').value_counts()"
   ]
  },
  {
   "cell_type": "code",
   "execution_count": 84,
   "id": "39529295",
   "metadata": {
    "scrolled": true
   },
   "outputs": [
    {
     "name": "stdout",
     "output_type": "stream",
     "text": [
      "CountVectorizer+LogisticRegression: 0.800790513833992\n",
      "Best params:{'cv__max_features': 100, 'cv__ngram_range': (1, 1), 'cv__stop_words': 'english'}\n",
      "\n",
      "TfidVectorizer+LogisticRegression:  0.7976284584980238\n",
      "Best params:{'tv__max_features': 100, 'tv__ngram_range': (1, 1), 'tv__stop_words': 'english'}\n",
      "\n"
     ]
    }
   ],
   "source": [
    "# Gridsearch Vectorizer with Logistic Regression\n",
    "pipe1 = Pipeline([('cv', CountVectorizer()),('lr', LogisticRegression())])\n",
    "\n",
    "pipe1_params = {'cv__max_features': [50, 100],\n",
    "                'cv__stop_words':   [None,'english'],\n",
    "                'cv__ngram_range':  [(1,1),(1,2)],\n",
    "              } \n",
    "\n",
    "grid1 = GridSearchCV(pipe1,pipe1_params,cv=5)\n",
    "grid1.fit(X_train, y_train)\n",
    "print(f'CountVectorizer+LogisticRegression: {grid1.best_score_}')\n",
    "print(f'Best params:{grid1.best_params_}')\n",
    "print('')                                       \n",
    "# ==========================================================================\n",
    "pipe2 = Pipeline([('tv', TfidfVectorizer()),('lr', LogisticRegression())])\n",
    "\n",
    "pipe2_params = {'tv__max_features': [50, 100],\n",
    "                'tv__stop_words':   [None,'english'],\n",
    "                'tv__ngram_range':  [(1,1),(1,2)],\n",
    "              } \n",
    "\n",
    "grid2 = GridSearchCV(pipe2,pipe2_params,cv=5)\n",
    "grid2.fit(X_train, y_train)\n",
    "print(f'TfidVectorizer+LogisticRegression:  {grid2.best_score_}')\n",
    "print(f'Best params:{grid2.best_params_}')\n",
    "print('')"
   ]
  },
  {
   "cell_type": "code",
   "execution_count": 85,
   "id": "267de381",
   "metadata": {},
   "outputs": [
    {
     "data": {
      "text/plain": [
       "0.8434782608695652"
      ]
     },
     "execution_count": 85,
     "metadata": {},
     "output_type": "execute_result"
    }
   ],
   "source": [
    "grid1.score(X_train, y_train)"
   ]
  },
  {
   "cell_type": "code",
   "execution_count": 86,
   "id": "c1837359",
   "metadata": {},
   "outputs": [
    {
     "data": {
      "text/plain": [
       "0.7791798107255521"
      ]
     },
     "execution_count": 86,
     "metadata": {},
     "output_type": "execute_result"
    }
   ],
   "source": [
    "grid1.score(X_test, y_test)"
   ]
  },
  {
   "cell_type": "code",
   "execution_count": 87,
   "id": "70018a86",
   "metadata": {},
   "outputs": [
    {
     "data": {
      "text/plain": [
       "0.83399209486166"
      ]
     },
     "execution_count": 87,
     "metadata": {},
     "output_type": "execute_result"
    }
   ],
   "source": [
    "grid2.score(X_train, y_train)"
   ]
  },
  {
   "cell_type": "code",
   "execution_count": 88,
   "id": "db4f2755",
   "metadata": {},
   "outputs": [
    {
     "data": {
      "text/plain": [
       "0.7728706624605678"
      ]
     },
     "execution_count": 88,
     "metadata": {},
     "output_type": "execute_result"
    }
   ],
   "source": [
    "grid2.score(X_test, y_test)"
   ]
  },
  {
   "cell_type": "code",
   "execution_count": null,
   "id": "8d122f21",
   "metadata": {},
   "outputs": [],
   "source": [
    "pipe1.get_params()"
   ]
  },
  {
   "cell_type": "code",
   "execution_count": null,
   "id": "5973f844",
   "metadata": {},
   "outputs": [],
   "source": [
    "y_preds_grid1 = grid1.predict(X_test)\n",
    "cm_grid1 = confusion_matrix(y_test, y_preds_grid1)\n",
    "ConfusionMatrixDisplay(confusion_matrix=cm_grid1).plot();"
   ]
  },
  {
   "cell_type": "code",
   "execution_count": null,
   "id": "fada59a4",
   "metadata": {},
   "outputs": [],
   "source": [
    "print(classification_report(y_test, y_preds_grid1))"
   ]
  },
  {
   "cell_type": "code",
   "execution_count": null,
   "id": "6ad13725",
   "metadata": {},
   "outputs": [],
   "source": [
    "y_preds_grid2 = grid2.predict(X_test)\n",
    "cm_grid2 = confusion_matrix(y_test, y_preds_grid2)\n",
    "ConfusionMatrixDisplay(confusion_matrix=cm_grid2).plot();"
   ]
  },
  {
   "cell_type": "code",
   "execution_count": null,
   "id": "3b06e43e",
   "metadata": {},
   "outputs": [],
   "source": [
    "print(classification_report(y_test, y_preds_grid2))"
   ]
  },
  {
   "cell_type": "code",
   "execution_count": null,
   "id": "8f9b5c19",
   "metadata": {},
   "outputs": [],
   "source": [
    "pred_df = pd.DataFrame({'is_nfl': y_test, 'predicted_values': y_preds_grid1,\n",
    "                        'predicted_probs':\n",
    "                        grid1.predict_proba(X_test).round(2)[:,1]})\n",
    "\n",
    "pred_df.head(10)"
   ]
  },
  {
   "cell_type": "code",
   "execution_count": null,
   "id": "0b07ae50",
   "metadata": {},
   "outputs": [],
   "source": [
    "# Distplot\n",
    "plt.figure(figsize=(12,5))\n",
    "\n",
    "# Plot distributions of predicted probabilities by actual value \n",
    "for group in pred_df.groupby('is_nfl'):\n",
    "    sns.distplot(group[1], kde=False, bins=20, \n",
    "                 label=f'Is NFL= {group[0]}')\n",
    "\n",
    "plt.xlabel('Predicted Probability that Outcome = 1')\n",
    "plt.legend();"
   ]
  },
  {
   "cell_type": "code",
   "execution_count": null,
   "id": "77f39e8d",
   "metadata": {},
   "outputs": [],
   "source": [
    "df_results = pd.merge(pred_df, df['title'], left_index=True, right_index=True)"
   ]
  },
  {
   "cell_type": "code",
   "execution_count": null,
   "id": "88939395",
   "metadata": {},
   "outputs": [],
   "source": [
    "# indepth exploring True Subreddit = NCAA but Predicted  = NFL\n",
    "df_results[(df_results['is_nfl']==0) & (df_results['predicted_probs'] > 0.7)]"
   ]
  },
  {
   "cell_type": "code",
   "execution_count": null,
   "id": "54abb1f4",
   "metadata": {},
   "outputs": [],
   "source": [
    "df['title'].loc[1205]"
   ]
  },
  {
   "cell_type": "code",
   "execution_count": null,
   "id": "9f4e3c09",
   "metadata": {},
   "outputs": [],
   "source": [
    "df['title'].loc[1278]"
   ]
  },
  {
   "cell_type": "code",
   "execution_count": null,
   "id": "3b233680",
   "metadata": {},
   "outputs": [],
   "source": [
    "df['title'].loc[1304]"
   ]
  },
  {
   "cell_type": "code",
   "execution_count": null,
   "id": "817d7464",
   "metadata": {},
   "outputs": [],
   "source": [
    "df_results[(df_results['is_nfl']==1) & (df_results['predicted_probs'] < 0.3)]"
   ]
  },
  {
   "cell_type": "code",
   "execution_count": null,
   "id": "c2316406",
   "metadata": {},
   "outputs": [],
   "source": [
    "df['title'].loc[819]"
   ]
  },
  {
   "cell_type": "code",
   "execution_count": null,
   "id": "5ab6ee53",
   "metadata": {},
   "outputs": [],
   "source": [
    "df['title'].loc[698]"
   ]
  },
  {
   "cell_type": "code",
   "execution_count": null,
   "id": "06466a8c",
   "metadata": {},
   "outputs": [],
   "source": [
    "df['title'].loc[359]"
   ]
  },
  {
   "cell_type": "code",
   "execution_count": null,
   "id": "ee4c53ff",
   "metadata": {},
   "outputs": [],
   "source": [
    "df['title'].loc[227]"
   ]
  },
  {
   "cell_type": "code",
   "execution_count": null,
   "id": "24658b96",
   "metadata": {},
   "outputs": [],
   "source": [
    "df['title'].loc[33]"
   ]
  },
  {
   "cell_type": "markdown",
   "id": "32fe6447",
   "metadata": {},
   "source": [
    "### Stemmatization before vectorization"
   ]
  },
  {
   "cell_type": "code",
   "execution_count": null,
   "id": "b42f8814",
   "metadata": {},
   "outputs": [],
   "source": [
    "# Set X and y\n",
    "X = df['title']\n",
    "y = df['is_nfl']\n",
    "# Train (80%) Test (20%) split \n",
    "X_train, X_test, y_train, y_test = train_test_split(X, y, test_size=0.2, \n",
    "                                                    random_state=42,\n",
    "                                                    stratify=y)\n",
    "X_train = X_train.str.lower().apply(lambda x: \" \".join(x for x in x.split() if x not in freq1))\n",
    "X_train = X_train.str.lower().apply(lambda x: \" \".join(x for x in x.split() if x not in freq2))\n",
    "X_train= X_train.apply(lambda x: \" \".join([st.stem(word) for word in x.split()]))\n"
   ]
  },
  {
   "cell_type": "code",
   "execution_count": null,
   "id": "e1fb0754",
   "metadata": {},
   "outputs": [],
   "source": [
    "# Gridsearch Vectorizer with Logistic Regression\n",
    "pipe3 = Pipeline([('cv', CountVectorizer()),('lr', LogisticRegression())])\n",
    "\n",
    "pipe3_params = {'cv__max_features': [5,10,25,50,100],\n",
    "                'cv__stop_words':   [None,'english'],\n",
    "                'cv__ngram_range':  [(1,1),(1,2)],\n",
    "              } \n",
    "\n",
    "grid3 = GridSearchCV(pipe3,pipe3_params,cv=5)\n",
    "grid3.fit(X_train, y_train)\n",
    "print(f'CountVectorizer+LogisticRegression: {grid3.best_score_}')\n",
    "print(f'Best params:{grid3.best_params_}')\n",
    "print('')                                       \n",
    "# ==========================================================================\n",
    "pipe4 = Pipeline([('tv', TfidfVectorizer()),('lr', LogisticRegression())])\n",
    "\n",
    "pipe4_params = {'tv__max_features': [5,10,25,50,100],\n",
    "                'tv__stop_words':   [None,'english'],\n",
    "                'tv__ngram_range':  [(1,1),(1,2)],\n",
    "              } \n",
    "\n",
    "grid4 = GridSearchCV(pipe4,pipe4_params,cv=5)\n",
    "grid4.fit(X_train, y_train)\n",
    "print(f'TfidVectorizer+LogisticRegression:  {grid4.best_score_}')\n",
    "print(f'Best params:{grid4.best_params_}')\n",
    "print('')"
   ]
  },
  {
   "cell_type": "code",
   "execution_count": null,
   "id": "c251cdbc",
   "metadata": {},
   "outputs": [],
   "source": [
    "y_preds_grid3 = grid3.predict(X_test)\n",
    "cm_grid3 = confusion_matrix(y_test, y_preds_grid3)\n",
    "ConfusionMatrixDisplay(confusion_matrix=cm_grid3).plot();"
   ]
  },
  {
   "cell_type": "code",
   "execution_count": null,
   "id": "64647b57",
   "metadata": {},
   "outputs": [],
   "source": [
    "print(classification_report(y_test, y_preds_grid3))"
   ]
  },
  {
   "cell_type": "code",
   "execution_count": null,
   "id": "0b7dca01",
   "metadata": {},
   "outputs": [],
   "source": [
    "y_preds_grid4 = grid4.predict(X_test)\n",
    "cm_grid4 = confusion_matrix(y_test, y_preds_grid4)\n",
    "ConfusionMatrixDisplay(confusion_matrix=cm_grid4).plot();"
   ]
  },
  {
   "cell_type": "code",
   "execution_count": null,
   "id": "da602276",
   "metadata": {},
   "outputs": [],
   "source": [
    "print(classification_report(y_test, y_preds_grid4))"
   ]
  },
  {
   "cell_type": "markdown",
   "id": "d8c9b8f9",
   "metadata": {},
   "source": [
    "### Lemmatization before vectorization "
   ]
  },
  {
   "cell_type": "code",
   "execution_count": null,
   "id": "eae190f3",
   "metadata": {},
   "outputs": [],
   "source": [
    "# Set X and y\n",
    "X = df['title']\n",
    "y = df['is_nfl']\n",
    "# Train (80%) Test (20%) split \n",
    "X_train, X_test, y_train, y_test = train_test_split(X, y, test_size=0.2, \n",
    "                                                    random_state=42,\n",
    "                                                    stratify=y)\n",
    "X_train = X_train.str.lower().apply(lambda x: \" \".join(x for x in x.split() if x not in freq1))\n",
    "X_train = X_train.str.lower().apply(lambda x: \" \".join(x for x in x.split() if x not in freq2))\n",
    "X_train = X_train.apply(lambda x: \" \".join([Word(word).lemmatize() for word in x.split()]))"
   ]
  },
  {
   "cell_type": "code",
   "execution_count": null,
   "id": "939b4f52",
   "metadata": {},
   "outputs": [],
   "source": [
    "#Gridsearch Vectorizer with Logistic Regression\n",
    "pipe5 = Pipeline([('cv', CountVectorizer()),('lr', LogisticRegression())])\n",
    "\n",
    "pipe5_params = {'cv__max_features': [5,10,25,50,100],\n",
    "                'cv__stop_words':   [None,'english'],\n",
    "                'cv__ngram_range':  [(1,1),(1,2)],\n",
    "              } \n",
    "\n",
    "grid5 = GridSearchCV(pipe5,pipe5_params,cv=5)\n",
    "grid5.fit(X_train, y_train)\n",
    "print(f'CountVectorizer+LogisticRegression: {grid5.best_score_}')\n",
    "print(f'Best params:{grid5.best_params_}')\n",
    "print('')                                       \n",
    "# ==========================================================================\n",
    "pipe6 = Pipeline([('tv', TfidfVectorizer()),('lr', LogisticRegression())])\n",
    "\n",
    "pipe6_params = {'tv__max_features': [5,10,25,50,100],\n",
    "                'tv__stop_words':   [None,'english'],\n",
    "                'tv__ngram_range':  [(1,1),(1,2)],\n",
    "              } \n",
    "\n",
    "grid6 = GridSearchCV(pipe6,pipe6_params,cv=5)\n",
    "grid6.fit(X_train, y_train)\n",
    "print(f'TfidVectorizer+LogisticRegression:  {grid6.best_score_}')\n",
    "print(f'Best params:{grid6.best_params_}')\n",
    "print('')"
   ]
  },
  {
   "cell_type": "code",
   "execution_count": null,
   "id": "e45c860f",
   "metadata": {},
   "outputs": [],
   "source": [
    "y_preds_grid5 = grid5.predict(X_test)\n",
    "cm_grid5 = confusion_matrix(y_test, y_preds_grid5)\n",
    "ConfusionMatrixDisplay(confusion_matrix=cm_grid5).plot();"
   ]
  },
  {
   "cell_type": "code",
   "execution_count": null,
   "id": "aa3ee84d",
   "metadata": {},
   "outputs": [],
   "source": [
    "print(classification_report(y_test, y_preds_grid5))"
   ]
  },
  {
   "cell_type": "code",
   "execution_count": null,
   "id": "c37265ef",
   "metadata": {},
   "outputs": [],
   "source": [
    "y_preds_grid6 = grid6.predict(X_test)\n",
    "cm_grid6 = confusion_matrix(y_test, y_preds_grid6)\n",
    "ConfusionMatrixDisplay(confusion_matrix=cm_grid6).plot();"
   ]
  },
  {
   "cell_type": "code",
   "execution_count": null,
   "id": "0217a62b",
   "metadata": {},
   "outputs": [],
   "source": [
    "print(classification_report(y_test, y_preds_grid6))"
   ]
  },
  {
   "cell_type": "markdown",
   "id": "ecc59f74",
   "metadata": {},
   "source": [
    "### Stem and Lemmatize"
   ]
  },
  {
   "cell_type": "code",
   "execution_count": null,
   "id": "a4c80921",
   "metadata": {},
   "outputs": [],
   "source": [
    "# Set X and y\n",
    "X = df['title']\n",
    "y = df['is_nfl']\n",
    "# Train (80%) Test (20%) split \n",
    "X_train, X_test, y_train, y_test = train_test_split(X, y, test_size=0.2, \n",
    "                                                    random_state=42,\n",
    "                                                    stratify=y)\n",
    "X_train = X_train.str.lower().apply(lambda x: \" \".join(x for x in x.split() if x not in freq1))\n",
    "X_train = X_train.str.lower().apply(lambda x: \" \".join(x for x in x.split() if x not in freq2))\n",
    "X_train = X_train.apply(lambda x: \" \".join([st.stem(word) for word in x.split()]))\n",
    "X_train = X_train.apply(lambda x: \" \".join([Word(word).lemmatize() for word in x.split()]))"
   ]
  },
  {
   "cell_type": "code",
   "execution_count": null,
   "id": "97a0601c",
   "metadata": {},
   "outputs": [],
   "source": [
    "#Gridsearch Vectorizer with Logistic Regression\n",
    "pipe7 = Pipeline([('cv', CountVectorizer()),('lr', LogisticRegression())])\n",
    "\n",
    "pipe7_params = {'cv__max_features': [5,10,25,50,100],\n",
    "                'cv__stop_words':   [None,'english'],\n",
    "                'cv__ngram_range':  [(1,1),(1,2)],\n",
    "              } \n",
    "\n",
    "grid7 = GridSearchCV(pipe5,pipe5_params,cv=5)\n",
    "grid7.fit(X_train, y_train)\n",
    "print(f'CountVectorizer+LogisticRegression: {grid7.best_score_}')\n",
    "print(f'Best params:{grid7.best_params_}')\n",
    "print('')                                       \n",
    "# ==========================================================================\n",
    "pipe8 = Pipeline([('tv', TfidfVectorizer()),('lr', LogisticRegression())])\n",
    "\n",
    "pipe8_params = {'tv__max_features': [5,10,25,50,100],\n",
    "                'tv__stop_words':   [None,'english'],\n",
    "                'tv__ngram_range':  [(1,1),(1,2)],\n",
    "              } \n",
    "\n",
    "grid8 = GridSearchCV(pipe8,pipe8_params,cv=5)\n",
    "grid8.fit(X_train, y_train)\n",
    "print(f'TfidVectorizer+LogisticRegression:  {grid8.best_score_}')\n",
    "print(f'Best params:{grid8.best_params_}')\n",
    "print('')"
   ]
  },
  {
   "cell_type": "code",
   "execution_count": null,
   "id": "817a6ab8",
   "metadata": {},
   "outputs": [],
   "source": [
    "y_preds_grid7 = grid7.predict(X_test)\n",
    "cm_grid7 = confusion_matrix(y_test, y_preds_grid7)\n",
    "ConfusionMatrixDisplay(confusion_matrix=cm_grid7).plot();"
   ]
  },
  {
   "cell_type": "code",
   "execution_count": null,
   "id": "5898edb5",
   "metadata": {},
   "outputs": [],
   "source": [
    "print(classification_report(y_test, y_preds_grid7))"
   ]
  },
  {
   "cell_type": "code",
   "execution_count": null,
   "id": "a160638d",
   "metadata": {},
   "outputs": [],
   "source": [
    "y_preds_grid8 = grid8.predict(X_test)\n",
    "cm_grid8 = confusion_matrix(y_test, y_preds_grid8)\n",
    "ConfusionMatrixDisplay(confusion_matrix=cm_grid8).plot();"
   ]
  },
  {
   "cell_type": "code",
   "execution_count": null,
   "id": "a99c108a",
   "metadata": {},
   "outputs": [],
   "source": [
    "print(classification_report(y_test, y_preds_grid8))"
   ]
  },
  {
   "cell_type": "code",
   "execution_count": null,
   "id": "e0a4ab1b",
   "metadata": {},
   "outputs": [],
   "source": [
    "pred_df = pd.DataFrame({'is_nfl': y_test, 'predicted_values': y_preds_grid8,\n",
    "                        'predicted_probs':\n",
    "                        grid8.predict_proba(X_test).round(2)[:,1]})\n",
    "\n",
    "pred_df.head(10)"
   ]
  },
  {
   "cell_type": "code",
   "execution_count": null,
   "id": "ea08bdc9",
   "metadata": {},
   "outputs": [],
   "source": [
    "# Distplot\n",
    "plt.figure(figsize=(12,5))\n",
    "\n",
    "# Plot distributions of predicted probabilities by actual value \n",
    "for group in pred_df.groupby('is_nfl'):\n",
    "    sns.distplot(group[1], kde=False, bins=20, \n",
    "                 label=f'Is NFL= {group[0]}')\n",
    "\n",
    "plt.xlabel('Predicted Probability that Outcome = 1')\n",
    "plt.legend();"
   ]
  },
  {
   "cell_type": "code",
   "execution_count": null,
   "id": "56bcaee4",
   "metadata": {},
   "outputs": [],
   "source": [
    "df_results = pd.merge(pred_df, df['title'], left_index=True, right_index=True)"
   ]
  },
  {
   "cell_type": "code",
   "execution_count": null,
   "id": "f1f79476",
   "metadata": {},
   "outputs": [],
   "source": [
    "df_results[(df_results['is_nfl']==0) & (df_results['predicted_probs'] > 0.75)]"
   ]
  },
  {
   "cell_type": "code",
   "execution_count": null,
   "id": "1006b352",
   "metadata": {},
   "outputs": [],
   "source": [
    "df['title'].loc[1312]"
   ]
  },
  {
   "cell_type": "code",
   "execution_count": null,
   "id": "dffbe45e",
   "metadata": {},
   "outputs": [],
   "source": [
    "df['title'].loc[1209]"
   ]
  },
  {
   "cell_type": "code",
   "execution_count": null,
   "id": "5cad9c94",
   "metadata": {},
   "outputs": [],
   "source": [
    "df_results[(df_results['is_nfl']==1) & (df_results['predicted_probs'] < 0.25)]"
   ]
  },
  {
   "cell_type": "code",
   "execution_count": null,
   "id": "ec5ce994",
   "metadata": {},
   "outputs": [],
   "source": [
    "df['title'].loc[227]"
   ]
  },
  {
   "cell_type": "code",
   "execution_count": null,
   "id": "71f42aef",
   "metadata": {},
   "outputs": [],
   "source": [
    "df['title'].loc[33]"
   ]
  },
  {
   "cell_type": "code",
   "execution_count": null,
   "id": "acc83b57",
   "metadata": {},
   "outputs": [],
   "source": [
    "df['title'].loc[819]"
   ]
  },
  {
   "cell_type": "markdown",
   "id": "eb103a72",
   "metadata": {},
   "source": [
    "### Model with number of wordsand bag of word"
   ]
  },
  {
   "cell_type": "code",
   "execution_count": null,
   "id": "24cfbc45",
   "metadata": {},
   "outputs": [],
   "source": [
    "df['title_tokens'] = df.title.apply(word_tokenize)\n",
    "train, test = train_test_split(df, test_size=0.2, random_state=42)\n",
    "print(train.shape)\n",
    "print(test.shape)"
   ]
  },
  {
   "cell_type": "code",
   "execution_count": null,
   "id": "0aac070f",
   "metadata": {},
   "outputs": [],
   "source": [
    "def featurize_unigram(tokens:list):\n",
    "    feat_dic = {}\n",
    "    for i, token in enumerate(tokens):\n",
    "        ## add unigram\n",
    "        feat_dic[token] = 1\n",
    "        ## add text length\n",
    "        feat_dic['LENGTH'] = len(tokens)\n",
    "    return feat_dic\n",
    "\n",
    "def featurize_bigram(tokens:list):\n",
    "    feat_dic = {}\n",
    "    for i, token in enumerate(tokens):\n",
    "        ## add unigram\n",
    "        feat_dic[token] = 1\n",
    "        ## add bigram\n",
    "        if i < len(tokens) - 1:\n",
    "            bigram = '|'.join(tokens[i:i+2]) # e.g. ฉัน|ไป\n",
    "            feat_dic[bigram] = 1\n",
    "        ## add text length\n",
    "        feat_dic['text_length'] = len(tokens)\n",
    "    return feat_dic"
   ]
  },
  {
   "cell_type": "code",
   "execution_count": null,
   "id": "c5d249fa",
   "metadata": {},
   "outputs": [],
   "source": [
    "from dis import dis\n",
    "from matplotlib.pyplot import cla\n",
    "\n",
    "\n",
    "def train_predict(X_column_name, featurize_function_name, show_confusion_matrix=False, return_model=False):\n",
    "    ## make X : featurize each record as dictionary\n",
    "    X_train = train[X_column_name].apply(featurize_function_name)\n",
    "    X_test = test[X_column_name].apply(featurize_function_name)\n",
    "\n",
    "    ## make y\n",
    "    y_train = train['is_nfl']\n",
    "    y_test = test['is_nfl']\n",
    "\n",
    "    ## Instantiate DictVectorizer, LogisticRegression\n",
    "    pipe = Pipeline([\n",
    "        ('dv', DictVectorizer(sparse=True)),  ## feature dictionary -> vector\n",
    "        ('logreg', LogisticRegression(max_iter=200))\n",
    "    ])\n",
    "\n",
    "    pipe.fit(X_train, y_train) # train\n",
    "    y_pred = pipe.predict(X_test) # predict\n",
    "    class_name = pipe.named_steps['logreg'].classes_ # name of labels\n",
    "\n",
    "    print(classification_report(y_test, y_pred))\n",
    "\n",
    "    # print confusion matrix\n",
    "    if show_confusion_matrix:\n",
    "        cm = confusion_matrix(y_test, y_pred, labels=class_name)\n",
    "        disp = ConfusionMatrixDisplay(confusion_matrix=cm, display_labels=class_name)\n",
    "        disp.plot(xticks_rotation=80)\n",
    "\n",
    "    # return model\n",
    "    if return_model:\n",
    "        return pipe"
   ]
  },
  {
   "cell_type": "code",
   "execution_count": null,
   "id": "5828b1a1",
   "metadata": {
    "scrolled": true
   },
   "outputs": [],
   "source": [
    "train_predict('title', featurize_unigram)"
   ]
  },
  {
   "cell_type": "markdown",
   "id": "f72d0959",
   "metadata": {},
   "source": [
    "## Building alternative models"
   ]
  },
  {
   "cell_type": "code",
   "execution_count": null,
   "id": "5a85b133",
   "metadata": {},
   "outputs": [],
   "source": [
    "# Set X and y\n",
    "X = df['title']\n",
    "y = df['is_nfl']\n",
    "# Train (80%) Test (20%) split \n",
    "X_train, X_test, y_train, y_test = train_test_split(X, y, test_size=0.2, \n",
    "                                                    random_state=42,\n",
    "                                                    stratify=y)\n",
    "\n",
    "X_train = X_train.str.lower().apply(lambda x: \" \".join(x for x in x.split() if x not in freq1))\n",
    "X_train = X_train.str.lower().apply(lambda x: \" \".join(x for x in x.split() if x not in freq2))\n"
   ]
  },
  {
   "cell_type": "code",
   "execution_count": null,
   "id": "8b465aea",
   "metadata": {},
   "outputs": [],
   "source": [
    "# CountVectorizer with NaiveBayes, and RandomForest\n",
    "pipe9 = Pipeline([('cv', CountVectorizer()),('mb', MultinomialNB())])\n",
    "\n",
    "pipe9_params = {'cv__max_features': [5,10,25,50,100],\n",
    "                'cv__stop_words':   [None,'english'],\n",
    "                'cv__ngram_range':  [(1,1),(1,2)],\n",
    "              } \n",
    "\n",
    "grid9 = GridSearchCV(pipe9,pipe9_params,cv=5)\n",
    "grid9.fit(X_train, y_train)\n",
    "print(f'CountVectorizer+NaieveBayes:        {grid9.best_score_}')\n",
    "print(f'Best params:{grid9.best_params_}')\n",
    "print('')\n",
    "# ==========================================================================\n",
    "pipe10 = Pipeline([('cv', CountVectorizer()),('rf', RandomForestClassifier())])\n",
    "\n",
    "pipe10_params = {'cv__max_features': [5,10,25,50,100],\n",
    "                'cv__stop_words':   [None,'english'],\n",
    "                'cv__ngram_range':  [(1,1),(1,2)],\n",
    "              } \n",
    "\n",
    "grid10 = GridSearchCV(pipe10,pipe10_params,cv=5)\n",
    "grid10.fit(X_train, y_train)\n",
    "print(f'CountVectorizer+RandomForest:        {grid10.best_score_}')\n",
    "print(f'Best params:{grid10.best_params_}')"
   ]
  },
  {
   "cell_type": "code",
   "execution_count": null,
   "id": "aa8aaf05",
   "metadata": {},
   "outputs": [],
   "source": [
    "y_preds_grid9 = grid9.predict(X_test)\n",
    "cm_grid9 = confusion_matrix(y_test, y_preds_grid9)\n",
    "ConfusionMatrixDisplay(confusion_matrix=cm_grid9).plot();"
   ]
  },
  {
   "cell_type": "code",
   "execution_count": null,
   "id": "364a89a6",
   "metadata": {},
   "outputs": [],
   "source": [
    "y_preds_grid10 = grid10.predict(X_test)\n",
    "cm_grid10 = confusion_matrix(y_test, y_preds_grid10)\n",
    "ConfusionMatrixDisplay(confusion_matrix=cm_grid10).plot();"
   ]
  },
  {
   "cell_type": "code",
   "execution_count": null,
   "id": "2976648c",
   "metadata": {},
   "outputs": [],
   "source": [
    "# TfidVectorizer with Logistic Regression, NaiveBayes, and RandomForest\n",
    "pipe11 = Pipeline([('tv', TfidfVectorizer()),('mb', MultinomialNB())])\n",
    "\n",
    "pipe11_params = {'tv__max_features': [5,10,25,50,100],\n",
    "                'tv__stop_words':   [None,'english'],\n",
    "                'tv__ngram_range':  [(1,1),(1,2)],\n",
    "              } \n",
    "\n",
    "grid11 = GridSearchCV(pipe11,pipe11_params,cv=5)\n",
    "grid11.fit(X_train, y_train)\n",
    "print(f'TfidVectorizer+NaieveBayes:         {grid11.best_score_}')\n",
    "print(f'Best params:{grid11.best_params_}')\n",
    "print('')\n",
    "# ==========================================================================\n",
    "pipe12 = Pipeline([('tv', TfidfVectorizer()),('rf', RandomForestClassifier())])\n",
    "\n",
    "pipe12_params = {'tv__max_features': [5,10,25,50,100],\n",
    "                'tv__stop_words':   [None,'english'],\n",
    "                'tv__ngram_range':  [(1,1),(1,2)],\n",
    "              } \n",
    "\n",
    "grid12 = GridSearchCV(pipe12,pipe12_params,cv=5)\n",
    "grid12.fit(X_train, y_train)\n",
    "print(f'TfidVectorizer+RandomForest:         {grid12.best_score_}')\n",
    "print(f'Best params:{grid12.best_params_}')\n",
    "print('')"
   ]
  },
  {
   "cell_type": "code",
   "execution_count": null,
   "id": "fe7c4bc3",
   "metadata": {},
   "outputs": [],
   "source": [
    "y_preds_grid11 = grid11.predict(X_test)\n",
    "cm_grid11 = confusion_matrix(y_test, y_preds_grid11)\n",
    "ConfusionMatrixDisplay(confusion_matrix=cm_grid11).plot();"
   ]
  },
  {
   "cell_type": "code",
   "execution_count": null,
   "id": "c87bcc67",
   "metadata": {},
   "outputs": [],
   "source": [
    "print(classification_report(y_test, y_preds_grid11))"
   ]
  },
  {
   "cell_type": "code",
   "execution_count": null,
   "id": "19906ae3",
   "metadata": {},
   "outputs": [],
   "source": [
    "y_preds_grid12 = grid12.predict(X_test)\n",
    "cm_grid12 = confusion_matrix(y_test, y_preds_grid12)\n",
    "ConfusionMatrixDisplay(confusion_matrix=cm_grid12).plot();"
   ]
  },
  {
   "cell_type": "code",
   "execution_count": null,
   "id": "d0a85fd6",
   "metadata": {},
   "outputs": [],
   "source": [
    "pred_df = pd.DataFrame({'is_nfl': y_test, 'predicted_values': y_preds_grid11,\n",
    "                        'predicted_probs':\n",
    "                        grid11.predict_proba(X_test).round(2)[:,1]})\n"
   ]
  },
  {
   "cell_type": "code",
   "execution_count": null,
   "id": "30fce394",
   "metadata": {},
   "outputs": [],
   "source": [
    "# Distplot\n",
    "plt.figure(figsize=(12,5))\n",
    "\n",
    "# Plot distributions of predicted probabilities by actual value \n",
    "for group in pred_df.groupby('is_nfl'):\n",
    "    sns.distplot(group[1], kde=False, bins=20, \n",
    "                 label=f'Is NFL= {group[0]}')\n",
    "\n",
    "plt.xlabel('Predicted Probability that Outcome = 1')\n",
    "plt.legend();"
   ]
  },
  {
   "cell_type": "code",
   "execution_count": null,
   "id": "0f03c820",
   "metadata": {},
   "outputs": [],
   "source": [
    "df_results = pd.merge(pred_df, df['title'], left_index=True, right_index=True)"
   ]
  },
  {
   "cell_type": "code",
   "execution_count": null,
   "id": "a07170ae",
   "metadata": {},
   "outputs": [],
   "source": [
    "df_results[(df_results['is_nfl']==0) & (df_results['predicted_probs'] > 0.7)]"
   ]
  },
  {
   "cell_type": "code",
   "execution_count": null,
   "id": "e8ff7f21",
   "metadata": {},
   "outputs": [],
   "source": [
    "df['title'].loc[1089]"
   ]
  },
  {
   "cell_type": "code",
   "execution_count": null,
   "id": "24ab16fa",
   "metadata": {},
   "outputs": [],
   "source": [
    "df['title'].loc[1304]"
   ]
  },
  {
   "cell_type": "code",
   "execution_count": null,
   "id": "4805461a",
   "metadata": {},
   "outputs": [],
   "source": [
    "df['title'].loc[1397]"
   ]
  },
  {
   "cell_type": "code",
   "execution_count": null,
   "id": "bc0edc3a",
   "metadata": {},
   "outputs": [],
   "source": [
    "df_results[(df_results['is_nfl']==1) & (df_results['predicted_probs'] < 0.2)]"
   ]
  },
  {
   "cell_type": "code",
   "execution_count": null,
   "id": "23e0716d",
   "metadata": {},
   "outputs": [],
   "source": [
    "df['title'].loc[746]"
   ]
  },
  {
   "cell_type": "code",
   "execution_count": null,
   "id": "17b8b783",
   "metadata": {},
   "outputs": [],
   "source": [
    "df['title'].loc[761]"
   ]
  },
  {
   "cell_type": "code",
   "execution_count": null,
   "id": "b830de51",
   "metadata": {},
   "outputs": [],
   "source": [
    "df['title'].loc[359]"
   ]
  },
  {
   "cell_type": "code",
   "execution_count": null,
   "id": "960bba46",
   "metadata": {},
   "outputs": [],
   "source": [
    "df['title'].loc[77]"
   ]
  },
  {
   "cell_type": "code",
   "execution_count": null,
   "id": "aee087fd",
   "metadata": {},
   "outputs": [],
   "source": []
  }
 ],
 "metadata": {
  "kernelspec": {
   "display_name": "Python 3 (ipykernel)",
   "language": "python",
   "name": "python3"
  },
  "language_info": {
   "codemirror_mode": {
    "name": "ipython",
    "version": 3
   },
   "file_extension": ".py",
   "mimetype": "text/x-python",
   "name": "python",
   "nbconvert_exporter": "python",
   "pygments_lexer": "ipython3",
   "version": "3.9.12"
  }
 },
 "nbformat": 4,
 "nbformat_minor": 5
}
