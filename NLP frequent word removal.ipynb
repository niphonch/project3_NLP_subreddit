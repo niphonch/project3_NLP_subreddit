{
 "cells": [
  {
   "cell_type": "code",
   "execution_count": 1,
   "id": "1f3efbcb",
   "metadata": {},
   "outputs": [],
   "source": [
    "# Import libraries\n",
    "import pandas as pd\n",
    "import numpy as np\n",
    "import seaborn as sns\n",
    "import matplotlib.pyplot as plt\n",
    "\n",
    "from nltk.tokenize import RegexpTokenizer\n",
    "\n",
    "# sklearn libraries\n",
    "from sklearn.pipeline                import Pipeline\n",
    "from sklearn.linear_model            import LogisticRegression\n",
    "from sklearn.naive_bayes             import MultinomialNB\n",
    "from sklearn.ensemble                import RandomForestClassifier\n",
    "from sklearn.model_selection         import train_test_split, GridSearchCV\n",
    "from sklearn.feature_extraction.text import CountVectorizer, TfidfVectorizer"
   ]
  },
  {
   "cell_type": "code",
   "execution_count": 2,
   "id": "9aefef7b",
   "metadata": {},
   "outputs": [],
   "source": [
    "df1 =pd.read_csv('data/nfl.csv')\n",
    "df2 =pd.read_csv('data/ncaa.csv')"
   ]
  },
  {
   "cell_type": "code",
   "execution_count": 3,
   "id": "f27723d5",
   "metadata": {},
   "outputs": [
    {
     "data": {
      "text/html": [
       "<div>\n",
       "<style scoped>\n",
       "    .dataframe tbody tr th:only-of-type {\n",
       "        vertical-align: middle;\n",
       "    }\n",
       "\n",
       "    .dataframe tbody tr th {\n",
       "        vertical-align: top;\n",
       "    }\n",
       "\n",
       "    .dataframe thead th {\n",
       "        text-align: right;\n",
       "    }\n",
       "</style>\n",
       "<table border=\"1\" class=\"dataframe\">\n",
       "  <thead>\n",
       "    <tr style=\"text-align: right;\">\n",
       "      <th></th>\n",
       "      <th>approved_at_utc</th>\n",
       "      <th>subreddit</th>\n",
       "      <th>selftext</th>\n",
       "      <th>author_fullname</th>\n",
       "      <th>saved</th>\n",
       "      <th>mod_reason_title</th>\n",
       "      <th>gilded</th>\n",
       "      <th>clicked</th>\n",
       "      <th>title</th>\n",
       "      <th>link_flair_richtext</th>\n",
       "      <th>...</th>\n",
       "      <th>subreddit_subscribers</th>\n",
       "      <th>created_utc</th>\n",
       "      <th>num_crossposts</th>\n",
       "      <th>media</th>\n",
       "      <th>is_video</th>\n",
       "      <th>url_overridden_by_dest</th>\n",
       "      <th>call_to_action</th>\n",
       "      <th>author_cakeday</th>\n",
       "      <th>link_flair_template_id</th>\n",
       "      <th>media_metadata</th>\n",
       "    </tr>\n",
       "  </thead>\n",
       "  <tbody>\n",
       "    <tr>\n",
       "      <th>0</th>\n",
       "      <td>NaN</td>\n",
       "      <td>nfl</td>\n",
       "      <td>[Cincinnati Bengals](/r/bengals#away) [at](#at...</td>\n",
       "      <td>t2_plq2w</td>\n",
       "      <td>False</td>\n",
       "      <td>NaN</td>\n",
       "      <td>0</td>\n",
       "      <td>False</td>\n",
       "      <td>Post Game Thread: Cincinnati Bengals (2-3) at ...</td>\n",
       "      <td>[{'e': 'text', 't': 'Post Game Thread'}]</td>\n",
       "      <td>...</td>\n",
       "      <td>3015663</td>\n",
       "      <td>1.665372e+09</td>\n",
       "      <td>0</td>\n",
       "      <td>NaN</td>\n",
       "      <td>False</td>\n",
       "      <td>NaN</td>\n",
       "      <td>NaN</td>\n",
       "      <td>NaN</td>\n",
       "      <td>NaN</td>\n",
       "      <td>NaN</td>\n",
       "    </tr>\n",
       "    <tr>\n",
       "      <th>1</th>\n",
       "      <td>NaN</td>\n",
       "      <td>nfl</td>\n",
       "      <td>[Cincinnati Bengals](/r/bengals#away) [at](#at...</td>\n",
       "      <td>t2_plq2w</td>\n",
       "      <td>False</td>\n",
       "      <td>NaN</td>\n",
       "      <td>0</td>\n",
       "      <td>False</td>\n",
       "      <td>Game Thread: Cincinnati Bengals (2-2) at Balti...</td>\n",
       "      <td>[{'e': 'text', 't': 'Game Thread'}]</td>\n",
       "      <td>...</td>\n",
       "      <td>3015663</td>\n",
       "      <td>1.665359e+09</td>\n",
       "      <td>0</td>\n",
       "      <td>NaN</td>\n",
       "      <td>False</td>\n",
       "      <td>NaN</td>\n",
       "      <td>NaN</td>\n",
       "      <td>NaN</td>\n",
       "      <td>NaN</td>\n",
       "      <td>NaN</td>\n",
       "    </tr>\n",
       "    <tr>\n",
       "      <th>2</th>\n",
       "      <td>NaN</td>\n",
       "      <td>nfl</td>\n",
       "      <td>NaN</td>\n",
       "      <td>t2_gbzf7q</td>\n",
       "      <td>False</td>\n",
       "      <td>NaN</td>\n",
       "      <td>0</td>\n",
       "      <td>False</td>\n",
       "      <td>[Highlight] Cardinals miss the field goal and ...</td>\n",
       "      <td>[{'e': 'text', 't': 'Highlight'}]</td>\n",
       "      <td>...</td>\n",
       "      <td>3015663</td>\n",
       "      <td>1.665358e+09</td>\n",
       "      <td>0</td>\n",
       "      <td>{'oembed': {'provider_url': 'https://twitter.c...</td>\n",
       "      <td>False</td>\n",
       "      <td>https://twitter.com/lowlightheaven/status/1579...</td>\n",
       "      <td>NaN</td>\n",
       "      <td>NaN</td>\n",
       "      <td>NaN</td>\n",
       "      <td>NaN</td>\n",
       "    </tr>\n",
       "    <tr>\n",
       "      <th>3</th>\n",
       "      <td>NaN</td>\n",
       "      <td>nfl</td>\n",
       "      <td>NaN</td>\n",
       "      <td>t2_s82n19zx</td>\n",
       "      <td>False</td>\n",
       "      <td>NaN</td>\n",
       "      <td>0</td>\n",
       "      <td>False</td>\n",
       "      <td>[Highlight] Roughing the passer called. Stunning.</td>\n",
       "      <td>[]</td>\n",
       "      <td>...</td>\n",
       "      <td>3015663</td>\n",
       "      <td>1.665346e+09</td>\n",
       "      <td>1</td>\n",
       "      <td>{'oembed': {'provider_url': 'https://twitter.c...</td>\n",
       "      <td>False</td>\n",
       "      <td>https://twitter.com/MentionPod/status/15792005...</td>\n",
       "      <td>NaN</td>\n",
       "      <td>NaN</td>\n",
       "      <td>NaN</td>\n",
       "      <td>NaN</td>\n",
       "    </tr>\n",
       "    <tr>\n",
       "      <th>4</th>\n",
       "      <td>NaN</td>\n",
       "      <td>nfl</td>\n",
       "      <td>NaN</td>\n",
       "      <td>t2_gbzf7q</td>\n",
       "      <td>False</td>\n",
       "      <td>NaN</td>\n",
       "      <td>0</td>\n",
       "      <td>False</td>\n",
       "      <td>[Stat Muse] Cooper Rush is 5-0 as a starter. O...</td>\n",
       "      <td>[]</td>\n",
       "      <td>...</td>\n",
       "      <td>3015663</td>\n",
       "      <td>1.665358e+09</td>\n",
       "      <td>0</td>\n",
       "      <td>{'oembed': {'provider_url': 'https://twitter.c...</td>\n",
       "      <td>False</td>\n",
       "      <td>https://twitter.com/statmuse/status/1579250511...</td>\n",
       "      <td>NaN</td>\n",
       "      <td>NaN</td>\n",
       "      <td>NaN</td>\n",
       "      <td>NaN</td>\n",
       "    </tr>\n",
       "  </tbody>\n",
       "</table>\n",
       "<p>5 rows × 109 columns</p>\n",
       "</div>"
      ],
      "text/plain": [
       "   approved_at_utc subreddit  \\\n",
       "0              NaN       nfl   \n",
       "1              NaN       nfl   \n",
       "2              NaN       nfl   \n",
       "3              NaN       nfl   \n",
       "4              NaN       nfl   \n",
       "\n",
       "                                            selftext author_fullname  saved  \\\n",
       "0  [Cincinnati Bengals](/r/bengals#away) [at](#at...        t2_plq2w  False   \n",
       "1  [Cincinnati Bengals](/r/bengals#away) [at](#at...        t2_plq2w  False   \n",
       "2                                                NaN       t2_gbzf7q  False   \n",
       "3                                                NaN     t2_s82n19zx  False   \n",
       "4                                                NaN       t2_gbzf7q  False   \n",
       "\n",
       "   mod_reason_title  gilded  clicked  \\\n",
       "0               NaN       0    False   \n",
       "1               NaN       0    False   \n",
       "2               NaN       0    False   \n",
       "3               NaN       0    False   \n",
       "4               NaN       0    False   \n",
       "\n",
       "                                               title  \\\n",
       "0  Post Game Thread: Cincinnati Bengals (2-3) at ...   \n",
       "1  Game Thread: Cincinnati Bengals (2-2) at Balti...   \n",
       "2  [Highlight] Cardinals miss the field goal and ...   \n",
       "3  [Highlight] Roughing the passer called. Stunning.   \n",
       "4  [Stat Muse] Cooper Rush is 5-0 as a starter. O...   \n",
       "\n",
       "                        link_flair_richtext  ... subreddit_subscribers  \\\n",
       "0  [{'e': 'text', 't': 'Post Game Thread'}]  ...               3015663   \n",
       "1       [{'e': 'text', 't': 'Game Thread'}]  ...               3015663   \n",
       "2         [{'e': 'text', 't': 'Highlight'}]  ...               3015663   \n",
       "3                                        []  ...               3015663   \n",
       "4                                        []  ...               3015663   \n",
       "\n",
       "    created_utc  num_crossposts  \\\n",
       "0  1.665372e+09               0   \n",
       "1  1.665359e+09               0   \n",
       "2  1.665358e+09               0   \n",
       "3  1.665346e+09               1   \n",
       "4  1.665358e+09               0   \n",
       "\n",
       "                                               media  is_video  \\\n",
       "0                                                NaN     False   \n",
       "1                                                NaN     False   \n",
       "2  {'oembed': {'provider_url': 'https://twitter.c...     False   \n",
       "3  {'oembed': {'provider_url': 'https://twitter.c...     False   \n",
       "4  {'oembed': {'provider_url': 'https://twitter.c...     False   \n",
       "\n",
       "                              url_overridden_by_dest  call_to_action  \\\n",
       "0                                                NaN             NaN   \n",
       "1                                                NaN             NaN   \n",
       "2  https://twitter.com/lowlightheaven/status/1579...             NaN   \n",
       "3  https://twitter.com/MentionPod/status/15792005...             NaN   \n",
       "4  https://twitter.com/statmuse/status/1579250511...             NaN   \n",
       "\n",
       "  author_cakeday  link_flair_template_id media_metadata  \n",
       "0            NaN                     NaN            NaN  \n",
       "1            NaN                     NaN            NaN  \n",
       "2            NaN                     NaN            NaN  \n",
       "3            NaN                     NaN            NaN  \n",
       "4            NaN                     NaN            NaN  \n",
       "\n",
       "[5 rows x 109 columns]"
      ]
     },
     "execution_count": 3,
     "metadata": {},
     "output_type": "execute_result"
    }
   ],
   "source": [
    "df1.head()"
   ]
  },
  {
   "cell_type": "code",
   "execution_count": 4,
   "id": "8ee23294",
   "metadata": {},
   "outputs": [
    {
     "data": {
      "text/html": [
       "<div>\n",
       "<style scoped>\n",
       "    .dataframe tbody tr th:only-of-type {\n",
       "        vertical-align: middle;\n",
       "    }\n",
       "\n",
       "    .dataframe tbody tr th {\n",
       "        vertical-align: top;\n",
       "    }\n",
       "\n",
       "    .dataframe thead th {\n",
       "        text-align: right;\n",
       "    }\n",
       "</style>\n",
       "<table border=\"1\" class=\"dataframe\">\n",
       "  <thead>\n",
       "    <tr style=\"text-align: right;\">\n",
       "      <th></th>\n",
       "      <th>approved_at_utc</th>\n",
       "      <th>subreddit</th>\n",
       "      <th>selftext</th>\n",
       "      <th>author_fullname</th>\n",
       "      <th>saved</th>\n",
       "      <th>mod_reason_title</th>\n",
       "      <th>gilded</th>\n",
       "      <th>clicked</th>\n",
       "      <th>title</th>\n",
       "      <th>link_flair_richtext</th>\n",
       "      <th>...</th>\n",
       "      <th>media</th>\n",
       "      <th>is_video</th>\n",
       "      <th>call_to_action</th>\n",
       "      <th>crosspost_parent_list</th>\n",
       "      <th>crosspost_parent</th>\n",
       "      <th>poll_data</th>\n",
       "      <th>author_cakeday</th>\n",
       "      <th>is_gallery</th>\n",
       "      <th>media_metadata</th>\n",
       "      <th>gallery_data</th>\n",
       "    </tr>\n",
       "  </thead>\n",
       "  <tbody>\n",
       "    <tr>\n",
       "      <th>0</th>\n",
       "      <td>NaN</td>\n",
       "      <td>NCAA</td>\n",
       "      <td>NaN</td>\n",
       "      <td>t2_dz9aci0e</td>\n",
       "      <td>False</td>\n",
       "      <td>NaN</td>\n",
       "      <td>0</td>\n",
       "      <td>False</td>\n",
       "      <td>Mental Health Advisory Group to meet for first...</td>\n",
       "      <td>[]</td>\n",
       "      <td>...</td>\n",
       "      <td>NaN</td>\n",
       "      <td>False</td>\n",
       "      <td>NaN</td>\n",
       "      <td>NaN</td>\n",
       "      <td>NaN</td>\n",
       "      <td>NaN</td>\n",
       "      <td>NaN</td>\n",
       "      <td>NaN</td>\n",
       "      <td>NaN</td>\n",
       "      <td>NaN</td>\n",
       "    </tr>\n",
       "    <tr>\n",
       "      <th>1</th>\n",
       "      <td>NaN</td>\n",
       "      <td>NCAA</td>\n",
       "      <td>NaN</td>\n",
       "      <td>t2_rnqvk</td>\n",
       "      <td>False</td>\n",
       "      <td>NaN</td>\n",
       "      <td>0</td>\n",
       "      <td>False</td>\n",
       "      <td>Early favorite emerges in Wisconsin Badgers He...</td>\n",
       "      <td>[]</td>\n",
       "      <td>...</td>\n",
       "      <td>NaN</td>\n",
       "      <td>False</td>\n",
       "      <td>NaN</td>\n",
       "      <td>NaN</td>\n",
       "      <td>NaN</td>\n",
       "      <td>NaN</td>\n",
       "      <td>NaN</td>\n",
       "      <td>NaN</td>\n",
       "      <td>NaN</td>\n",
       "      <td>NaN</td>\n",
       "    </tr>\n",
       "    <tr>\n",
       "      <th>2</th>\n",
       "      <td>NaN</td>\n",
       "      <td>NCAA</td>\n",
       "      <td>As promised, as i already did NCAA 2K's for ol...</td>\n",
       "      <td>t2_22akoaxt</td>\n",
       "      <td>False</td>\n",
       "      <td>NaN</td>\n",
       "      <td>0</td>\n",
       "      <td>False</td>\n",
       "      <td>NCAA 2K23 - how to download and install! ENJOY!</td>\n",
       "      <td>[]</td>\n",
       "      <td>...</td>\n",
       "      <td>NaN</td>\n",
       "      <td>False</td>\n",
       "      <td>NaN</td>\n",
       "      <td>NaN</td>\n",
       "      <td>NaN</td>\n",
       "      <td>NaN</td>\n",
       "      <td>NaN</td>\n",
       "      <td>NaN</td>\n",
       "      <td>NaN</td>\n",
       "      <td>NaN</td>\n",
       "    </tr>\n",
       "    <tr>\n",
       "      <th>3</th>\n",
       "      <td>NaN</td>\n",
       "      <td>NCAA</td>\n",
       "      <td>anthroscopic* \\n\\nI'm hoping to hear from athl...</td>\n",
       "      <td>t2_9ku39crx</td>\n",
       "      <td>False</td>\n",
       "      <td>NaN</td>\n",
       "      <td>0</td>\n",
       "      <td>False</td>\n",
       "      <td>Does arthroscopic surgery for a shoulder injur...</td>\n",
       "      <td>[]</td>\n",
       "      <td>...</td>\n",
       "      <td>NaN</td>\n",
       "      <td>False</td>\n",
       "      <td>NaN</td>\n",
       "      <td>NaN</td>\n",
       "      <td>NaN</td>\n",
       "      <td>NaN</td>\n",
       "      <td>NaN</td>\n",
       "      <td>NaN</td>\n",
       "      <td>NaN</td>\n",
       "      <td>NaN</td>\n",
       "    </tr>\n",
       "    <tr>\n",
       "      <th>4</th>\n",
       "      <td>NaN</td>\n",
       "      <td>NCAA</td>\n",
       "      <td>NaN</td>\n",
       "      <td>t2_gohw27kc</td>\n",
       "      <td>False</td>\n",
       "      <td>NaN</td>\n",
       "      <td>0</td>\n",
       "      <td>False</td>\n",
       "      <td>Air Force football program put on probation by...</td>\n",
       "      <td>[]</td>\n",
       "      <td>...</td>\n",
       "      <td>NaN</td>\n",
       "      <td>False</td>\n",
       "      <td>NaN</td>\n",
       "      <td>NaN</td>\n",
       "      <td>NaN</td>\n",
       "      <td>NaN</td>\n",
       "      <td>NaN</td>\n",
       "      <td>NaN</td>\n",
       "      <td>NaN</td>\n",
       "      <td>NaN</td>\n",
       "    </tr>\n",
       "  </tbody>\n",
       "</table>\n",
       "<p>5 rows × 113 columns</p>\n",
       "</div>"
      ],
      "text/plain": [
       "   approved_at_utc subreddit  \\\n",
       "0              NaN      NCAA   \n",
       "1              NaN      NCAA   \n",
       "2              NaN      NCAA   \n",
       "3              NaN      NCAA   \n",
       "4              NaN      NCAA   \n",
       "\n",
       "                                            selftext author_fullname  saved  \\\n",
       "0                                                NaN     t2_dz9aci0e  False   \n",
       "1                                                NaN        t2_rnqvk  False   \n",
       "2  As promised, as i already did NCAA 2K's for ol...     t2_22akoaxt  False   \n",
       "3  anthroscopic* \\n\\nI'm hoping to hear from athl...     t2_9ku39crx  False   \n",
       "4                                                NaN     t2_gohw27kc  False   \n",
       "\n",
       "   mod_reason_title  gilded  clicked  \\\n",
       "0               NaN       0    False   \n",
       "1               NaN       0    False   \n",
       "2               NaN       0    False   \n",
       "3               NaN       0    False   \n",
       "4               NaN       0    False   \n",
       "\n",
       "                                               title link_flair_richtext  ...  \\\n",
       "0  Mental Health Advisory Group to meet for first...                  []  ...   \n",
       "1  Early favorite emerges in Wisconsin Badgers He...                  []  ...   \n",
       "2    NCAA 2K23 - how to download and install! ENJOY!                  []  ...   \n",
       "3  Does arthroscopic surgery for a shoulder injur...                  []  ...   \n",
       "4  Air Force football program put on probation by...                  []  ...   \n",
       "\n",
       "  media  is_video  call_to_action  crosspost_parent_list  crosspost_parent  \\\n",
       "0   NaN     False             NaN                    NaN               NaN   \n",
       "1   NaN     False             NaN                    NaN               NaN   \n",
       "2   NaN     False             NaN                    NaN               NaN   \n",
       "3   NaN     False             NaN                    NaN               NaN   \n",
       "4   NaN     False             NaN                    NaN               NaN   \n",
       "\n",
       "   poll_data  author_cakeday is_gallery  media_metadata gallery_data  \n",
       "0        NaN             NaN        NaN             NaN          NaN  \n",
       "1        NaN             NaN        NaN             NaN          NaN  \n",
       "2        NaN             NaN        NaN             NaN          NaN  \n",
       "3        NaN             NaN        NaN             NaN          NaN  \n",
       "4        NaN             NaN        NaN             NaN          NaN  \n",
       "\n",
       "[5 rows x 113 columns]"
      ]
     },
     "execution_count": 4,
     "metadata": {},
     "output_type": "execute_result"
    }
   ],
   "source": [
    "df2.head()"
   ]
  },
  {
   "cell_type": "code",
   "execution_count": 5,
   "id": "1a0467a1",
   "metadata": {},
   "outputs": [
    {
     "data": {
      "text/plain": [
       "(976, 113)"
      ]
     },
     "execution_count": 5,
     "metadata": {},
     "output_type": "execute_result"
    }
   ],
   "source": [
    "df2.shape"
   ]
  },
  {
   "cell_type": "code",
   "execution_count": 6,
   "id": "22f62a6b",
   "metadata": {},
   "outputs": [
    {
     "data": {
      "text/plain": [
       "(1977, 114)"
      ]
     },
     "execution_count": 6,
     "metadata": {},
     "output_type": "execute_result"
    }
   ],
   "source": [
    "# append two dataframe into one for data training\n",
    "df = pd.concat([df1, df2], axis=0)\n",
    "df = df.reset_index(drop=True)\n",
    "df.shape"
   ]
  },
  {
   "cell_type": "code",
   "execution_count": 7,
   "id": "79013c9f",
   "metadata": {},
   "outputs": [
    {
     "name": "stdout",
     "output_type": "stream",
     "text": [
      "<class 'pandas.core.frame.DataFrame'>\n",
      "RangeIndex: 1977 entries, 0 to 1976\n",
      "Columns: 114 entries, approved_at_utc to gallery_data\n",
      "dtypes: bool(28), float64(24), int64(10), object(52)\n",
      "memory usage: 1.4+ MB\n"
     ]
    }
   ],
   "source": [
    "df.info()"
   ]
  },
  {
   "cell_type": "code",
   "execution_count": 8,
   "id": "70be518f",
   "metadata": {},
   "outputs": [
    {
     "data": {
      "text/plain": [
       "nfl     1001\n",
       "NCAA     976\n",
       "Name: subreddit, dtype: int64"
      ]
     },
     "execution_count": 8,
     "metadata": {},
     "output_type": "execute_result"
    }
   ],
   "source": [
    "df.subreddit.value_counts()"
   ]
  },
  {
   "cell_type": "code",
   "execution_count": 9,
   "id": "37811a18",
   "metadata": {},
   "outputs": [],
   "source": [
    "#rename column\n",
    "df.rename(columns = {'subreddit':'is_nfl'}, inplace = True)\n",
    "# Create label column\n",
    "df['is_nfl'] = df['is_nfl'].map({'NCAA':0, 'nfl':1})"
   ]
  },
  {
   "cell_type": "code",
   "execution_count": 10,
   "id": "775e1a47",
   "metadata": {},
   "outputs": [
    {
     "data": {
      "text/plain": [
       "1    1001\n",
       "0     976\n",
       "Name: is_nfl, dtype: int64"
      ]
     },
     "execution_count": 10,
     "metadata": {},
     "output_type": "execute_result"
    }
   ],
   "source": [
    "df.is_nfl.value_counts()"
   ]
  },
  {
   "cell_type": "code",
   "execution_count": 11,
   "id": "0b3cc8f5",
   "metadata": {},
   "outputs": [],
   "source": [
    "df = df[['is_nfl','author_fullname','title']].copy()"
   ]
  },
  {
   "cell_type": "code",
   "execution_count": 12,
   "id": "e979118a",
   "metadata": {},
   "outputs": [
    {
     "data": {
      "text/plain": [
       "(1977, 3)"
      ]
     },
     "execution_count": 12,
     "metadata": {},
     "output_type": "execute_result"
    }
   ],
   "source": [
    "df.shape"
   ]
  },
  {
   "cell_type": "code",
   "execution_count": 13,
   "id": "3437009c",
   "metadata": {},
   "outputs": [
    {
     "data": {
      "text/plain": [
       "is_nfl              0\n",
       "author_fullname    32\n",
       "title               0\n",
       "dtype: int64"
      ]
     },
     "execution_count": 13,
     "metadata": {},
     "output_type": "execute_result"
    }
   ],
   "source": [
    "df.isnull().sum()"
   ]
  },
  {
   "cell_type": "code",
   "execution_count": 14,
   "id": "ac6b15e4",
   "metadata": {},
   "outputs": [
    {
     "data": {
      "text/plain": [
       "0"
      ]
     },
     "execution_count": 14,
     "metadata": {},
     "output_type": "execute_result"
    }
   ],
   "source": [
    "df.dropna(axis =0, inplace=True)\n",
    "df.isnull().sum().sum()"
   ]
  },
  {
   "cell_type": "code",
   "execution_count": 15,
   "id": "1040ccdf",
   "metadata": {},
   "outputs": [
    {
     "data": {
      "text/plain": [
       "(1945, 3)"
      ]
     },
     "execution_count": 15,
     "metadata": {},
     "output_type": "execute_result"
    }
   ],
   "source": [
    "df.shape"
   ]
  },
  {
   "cell_type": "code",
   "execution_count": 16,
   "id": "fa4130d4",
   "metadata": {},
   "outputs": [],
   "source": [
    "df.drop_duplicates(subset='title', keep='first', inplace=True, ignore_index=True)"
   ]
  },
  {
   "cell_type": "code",
   "execution_count": 17,
   "id": "cee70089",
   "metadata": {},
   "outputs": [
    {
     "data": {
      "text/plain": [
       "(1582, 3)"
      ]
     },
     "execution_count": 17,
     "metadata": {},
     "output_type": "execute_result"
    }
   ],
   "source": [
    "df.shape"
   ]
  },
  {
   "cell_type": "markdown",
   "id": "b04a3fe6",
   "metadata": {},
   "source": [
    "#### Lower casing"
   ]
  },
  {
   "cell_type": "code",
   "execution_count": 35,
   "id": "166ac08a",
   "metadata": {},
   "outputs": [],
   "source": [
    "def lower_case(df):\n",
    "    df['title'] = df['title'].apply(lambda x: \" \".join(x.lower() for x in x.split()))\n",
    "    print(df['title'].head())"
   ]
  },
  {
   "cell_type": "code",
   "execution_count": 36,
   "id": "22f9da84",
   "metadata": {},
   "outputs": [
    {
     "name": "stdout",
     "output_type": "stream",
     "text": [
      "0    post thread: cincinnati bengals (2-3) at balti...\n",
      "1    thread: cincinnati bengals (2-2) at baltimore ...\n",
      "2    [highlight] cardinals miss the field goal and ...\n",
      "3    [highlight] roughing the passer called. stunning.\n",
      "4    [stat muse] cooper rush is 5-0 as a starter. o...\n",
      "Name: title, dtype: object\n"
     ]
    }
   ],
   "source": [
    "lower_case(df)"
   ]
  },
  {
   "cell_type": "code",
   "execution_count": 49,
   "id": "98aa0e07",
   "metadata": {},
   "outputs": [],
   "source": [
    "def punctuation_removal(df):\n",
    "    df['title'] = df['title'].str.replace('[^\\w\\s]','')\n",
    "    print(df['title'].head())"
   ]
  },
  {
   "cell_type": "code",
   "execution_count": 50,
   "id": "f5d091d1",
   "metadata": {},
   "outputs": [
    {
     "name": "stdout",
     "output_type": "stream",
     "text": [
      "0    post thread cincinnati bengals 23 at baltimore...\n",
      "1    thread cincinnati bengals 22 at baltimore rave...\n",
      "2    highlight cardinals miss the field goal and ea...\n",
      "3        highlight roughing the passer called stunning\n",
      "4    stat muse cooper rush is 50 as a starter only ...\n",
      "Name: title, dtype: object\n"
     ]
    },
    {
     "name": "stderr",
     "output_type": "stream",
     "text": [
      "C:\\Users\\science01\\AppData\\Local\\Temp\\ipykernel_26648\\827688525.py:2: FutureWarning: The default value of regex will change from True to False in a future version.\n",
      "  df['title'] = df['title'].str.replace('[^\\w\\s]','')\n"
     ]
    }
   ],
   "source": [
    "punctuation_removal(df)"
   ]
  },
  {
   "cell_type": "markdown",
   "id": "349d96dd",
   "metadata": {},
   "source": [
    "### Exploring most common words"
   ]
  },
  {
   "cell_type": "code",
   "execution_count": 51,
   "id": "85419b07",
   "metadata": {},
   "outputs": [],
   "source": [
    "# Instantiate a CountVectorizer.\n",
    "cvec = CountVectorizer(stop_words='english')\n",
    "# Fit and transform the vectorizer on our corpus.\n",
    "df_cvec= cvec.fit_transform(df['title'])\n",
    "#putting results into dataframe\n",
    "df_cvec = pd.DataFrame(df_cvec.todense(), columns=cvec.get_feature_names_out())"
   ]
  },
  {
   "cell_type": "code",
   "execution_count": 52,
   "id": "62b5c263",
   "metadata": {},
   "outputs": [
    {
     "data": {
      "text/html": [
       "<div>\n",
       "<style scoped>\n",
       "    .dataframe tbody tr th:only-of-type {\n",
       "        vertical-align: middle;\n",
       "    }\n",
       "\n",
       "    .dataframe tbody tr th {\n",
       "        vertical-align: top;\n",
       "    }\n",
       "\n",
       "    .dataframe thead th {\n",
       "        text-align: right;\n",
       "    }\n",
       "</style>\n",
       "<table border=\"1\" class=\"dataframe\">\n",
       "  <thead>\n",
       "    <tr style=\"text-align: right;\">\n",
       "      <th></th>\n",
       "      <th>00</th>\n",
       "      <th>02</th>\n",
       "      <th>0200</th>\n",
       "      <th>021</th>\n",
       "      <th>031</th>\n",
       "      <th>04</th>\n",
       "      <th>07</th>\n",
       "      <th>0for4</th>\n",
       "      <th>0for6</th>\n",
       "      <th>10</th>\n",
       "      <th>...</th>\n",
       "      <th>zadarius</th>\n",
       "      <th>zaga</th>\n",
       "      <th>zaire</th>\n",
       "      <th>zappe</th>\n",
       "      <th>zero</th>\n",
       "      <th>zhao</th>\n",
       "      <th>zone</th>\n",
       "      <th>zoo</th>\n",
       "      <th>zoom</th>\n",
       "      <th>zrebiec</th>\n",
       "    </tr>\n",
       "  </thead>\n",
       "  <tbody>\n",
       "    <tr>\n",
       "      <th>0</th>\n",
       "      <td>0</td>\n",
       "      <td>0</td>\n",
       "      <td>0</td>\n",
       "      <td>0</td>\n",
       "      <td>0</td>\n",
       "      <td>0</td>\n",
       "      <td>0</td>\n",
       "      <td>0</td>\n",
       "      <td>0</td>\n",
       "      <td>0</td>\n",
       "      <td>...</td>\n",
       "      <td>0</td>\n",
       "      <td>0</td>\n",
       "      <td>0</td>\n",
       "      <td>0</td>\n",
       "      <td>0</td>\n",
       "      <td>0</td>\n",
       "      <td>0</td>\n",
       "      <td>0</td>\n",
       "      <td>0</td>\n",
       "      <td>0</td>\n",
       "    </tr>\n",
       "    <tr>\n",
       "      <th>1</th>\n",
       "      <td>0</td>\n",
       "      <td>0</td>\n",
       "      <td>0</td>\n",
       "      <td>0</td>\n",
       "      <td>0</td>\n",
       "      <td>0</td>\n",
       "      <td>0</td>\n",
       "      <td>0</td>\n",
       "      <td>0</td>\n",
       "      <td>0</td>\n",
       "      <td>...</td>\n",
       "      <td>0</td>\n",
       "      <td>0</td>\n",
       "      <td>0</td>\n",
       "      <td>0</td>\n",
       "      <td>0</td>\n",
       "      <td>0</td>\n",
       "      <td>0</td>\n",
       "      <td>0</td>\n",
       "      <td>0</td>\n",
       "      <td>0</td>\n",
       "    </tr>\n",
       "    <tr>\n",
       "      <th>2</th>\n",
       "      <td>0</td>\n",
       "      <td>0</td>\n",
       "      <td>0</td>\n",
       "      <td>0</td>\n",
       "      <td>0</td>\n",
       "      <td>0</td>\n",
       "      <td>0</td>\n",
       "      <td>0</td>\n",
       "      <td>0</td>\n",
       "      <td>0</td>\n",
       "      <td>...</td>\n",
       "      <td>0</td>\n",
       "      <td>0</td>\n",
       "      <td>0</td>\n",
       "      <td>0</td>\n",
       "      <td>0</td>\n",
       "      <td>0</td>\n",
       "      <td>0</td>\n",
       "      <td>0</td>\n",
       "      <td>0</td>\n",
       "      <td>0</td>\n",
       "    </tr>\n",
       "    <tr>\n",
       "      <th>3</th>\n",
       "      <td>0</td>\n",
       "      <td>0</td>\n",
       "      <td>0</td>\n",
       "      <td>0</td>\n",
       "      <td>0</td>\n",
       "      <td>0</td>\n",
       "      <td>0</td>\n",
       "      <td>0</td>\n",
       "      <td>0</td>\n",
       "      <td>0</td>\n",
       "      <td>...</td>\n",
       "      <td>0</td>\n",
       "      <td>0</td>\n",
       "      <td>0</td>\n",
       "      <td>0</td>\n",
       "      <td>0</td>\n",
       "      <td>0</td>\n",
       "      <td>0</td>\n",
       "      <td>0</td>\n",
       "      <td>0</td>\n",
       "      <td>0</td>\n",
       "    </tr>\n",
       "    <tr>\n",
       "      <th>4</th>\n",
       "      <td>0</td>\n",
       "      <td>0</td>\n",
       "      <td>0</td>\n",
       "      <td>0</td>\n",
       "      <td>0</td>\n",
       "      <td>0</td>\n",
       "      <td>0</td>\n",
       "      <td>0</td>\n",
       "      <td>0</td>\n",
       "      <td>0</td>\n",
       "      <td>...</td>\n",
       "      <td>0</td>\n",
       "      <td>0</td>\n",
       "      <td>0</td>\n",
       "      <td>0</td>\n",
       "      <td>0</td>\n",
       "      <td>0</td>\n",
       "      <td>0</td>\n",
       "      <td>0</td>\n",
       "      <td>0</td>\n",
       "      <td>0</td>\n",
       "    </tr>\n",
       "    <tr>\n",
       "      <th>...</th>\n",
       "      <td>...</td>\n",
       "      <td>...</td>\n",
       "      <td>...</td>\n",
       "      <td>...</td>\n",
       "      <td>...</td>\n",
       "      <td>...</td>\n",
       "      <td>...</td>\n",
       "      <td>...</td>\n",
       "      <td>...</td>\n",
       "      <td>...</td>\n",
       "      <td>...</td>\n",
       "      <td>...</td>\n",
       "      <td>...</td>\n",
       "      <td>...</td>\n",
       "      <td>...</td>\n",
       "      <td>...</td>\n",
       "      <td>...</td>\n",
       "      <td>...</td>\n",
       "      <td>...</td>\n",
       "      <td>...</td>\n",
       "      <td>...</td>\n",
       "    </tr>\n",
       "    <tr>\n",
       "      <th>1577</th>\n",
       "      <td>0</td>\n",
       "      <td>0</td>\n",
       "      <td>0</td>\n",
       "      <td>0</td>\n",
       "      <td>0</td>\n",
       "      <td>0</td>\n",
       "      <td>0</td>\n",
       "      <td>0</td>\n",
       "      <td>0</td>\n",
       "      <td>0</td>\n",
       "      <td>...</td>\n",
       "      <td>0</td>\n",
       "      <td>0</td>\n",
       "      <td>0</td>\n",
       "      <td>0</td>\n",
       "      <td>0</td>\n",
       "      <td>0</td>\n",
       "      <td>0</td>\n",
       "      <td>0</td>\n",
       "      <td>0</td>\n",
       "      <td>0</td>\n",
       "    </tr>\n",
       "    <tr>\n",
       "      <th>1578</th>\n",
       "      <td>0</td>\n",
       "      <td>0</td>\n",
       "      <td>0</td>\n",
       "      <td>0</td>\n",
       "      <td>0</td>\n",
       "      <td>0</td>\n",
       "      <td>0</td>\n",
       "      <td>0</td>\n",
       "      <td>0</td>\n",
       "      <td>0</td>\n",
       "      <td>...</td>\n",
       "      <td>0</td>\n",
       "      <td>0</td>\n",
       "      <td>0</td>\n",
       "      <td>0</td>\n",
       "      <td>0</td>\n",
       "      <td>0</td>\n",
       "      <td>0</td>\n",
       "      <td>0</td>\n",
       "      <td>0</td>\n",
       "      <td>0</td>\n",
       "    </tr>\n",
       "    <tr>\n",
       "      <th>1579</th>\n",
       "      <td>0</td>\n",
       "      <td>0</td>\n",
       "      <td>0</td>\n",
       "      <td>0</td>\n",
       "      <td>0</td>\n",
       "      <td>0</td>\n",
       "      <td>0</td>\n",
       "      <td>0</td>\n",
       "      <td>0</td>\n",
       "      <td>0</td>\n",
       "      <td>...</td>\n",
       "      <td>0</td>\n",
       "      <td>0</td>\n",
       "      <td>0</td>\n",
       "      <td>0</td>\n",
       "      <td>0</td>\n",
       "      <td>0</td>\n",
       "      <td>0</td>\n",
       "      <td>0</td>\n",
       "      <td>0</td>\n",
       "      <td>0</td>\n",
       "    </tr>\n",
       "    <tr>\n",
       "      <th>1580</th>\n",
       "      <td>0</td>\n",
       "      <td>0</td>\n",
       "      <td>0</td>\n",
       "      <td>0</td>\n",
       "      <td>0</td>\n",
       "      <td>0</td>\n",
       "      <td>0</td>\n",
       "      <td>0</td>\n",
       "      <td>0</td>\n",
       "      <td>0</td>\n",
       "      <td>...</td>\n",
       "      <td>0</td>\n",
       "      <td>0</td>\n",
       "      <td>0</td>\n",
       "      <td>0</td>\n",
       "      <td>0</td>\n",
       "      <td>0</td>\n",
       "      <td>0</td>\n",
       "      <td>0</td>\n",
       "      <td>0</td>\n",
       "      <td>0</td>\n",
       "    </tr>\n",
       "    <tr>\n",
       "      <th>1581</th>\n",
       "      <td>0</td>\n",
       "      <td>0</td>\n",
       "      <td>0</td>\n",
       "      <td>0</td>\n",
       "      <td>0</td>\n",
       "      <td>0</td>\n",
       "      <td>0</td>\n",
       "      <td>0</td>\n",
       "      <td>0</td>\n",
       "      <td>0</td>\n",
       "      <td>...</td>\n",
       "      <td>0</td>\n",
       "      <td>0</td>\n",
       "      <td>0</td>\n",
       "      <td>0</td>\n",
       "      <td>0</td>\n",
       "      <td>0</td>\n",
       "      <td>0</td>\n",
       "      <td>0</td>\n",
       "      <td>0</td>\n",
       "      <td>0</td>\n",
       "    </tr>\n",
       "  </tbody>\n",
       "</table>\n",
       "<p>1582 rows × 4677 columns</p>\n",
       "</div>"
      ],
      "text/plain": [
       "      00  02  0200  021  031  04  07  0for4  0for6  10  ...  zadarius  zaga  \\\n",
       "0      0   0     0    0    0   0   0      0      0   0  ...         0     0   \n",
       "1      0   0     0    0    0   0   0      0      0   0  ...         0     0   \n",
       "2      0   0     0    0    0   0   0      0      0   0  ...         0     0   \n",
       "3      0   0     0    0    0   0   0      0      0   0  ...         0     0   \n",
       "4      0   0     0    0    0   0   0      0      0   0  ...         0     0   \n",
       "...   ..  ..   ...  ...  ...  ..  ..    ...    ...  ..  ...       ...   ...   \n",
       "1577   0   0     0    0    0   0   0      0      0   0  ...         0     0   \n",
       "1578   0   0     0    0    0   0   0      0      0   0  ...         0     0   \n",
       "1579   0   0     0    0    0   0   0      0      0   0  ...         0     0   \n",
       "1580   0   0     0    0    0   0   0      0      0   0  ...         0     0   \n",
       "1581   0   0     0    0    0   0   0      0      0   0  ...         0     0   \n",
       "\n",
       "      zaire  zappe  zero  zhao  zone  zoo  zoom  zrebiec  \n",
       "0         0      0     0     0     0    0     0        0  \n",
       "1         0      0     0     0     0    0     0        0  \n",
       "2         0      0     0     0     0    0     0        0  \n",
       "3         0      0     0     0     0    0     0        0  \n",
       "4         0      0     0     0     0    0     0        0  \n",
       "...     ...    ...   ...   ...   ...  ...   ...      ...  \n",
       "1577      0      0     0     0     0    0     0        0  \n",
       "1578      0      0     0     0     0    0     0        0  \n",
       "1579      0      0     0     0     0    0     0        0  \n",
       "1580      0      0     0     0     0    0     0        0  \n",
       "1581      0      0     0     0     0    0     0        0  \n",
       "\n",
       "[1582 rows x 4677 columns]"
      ]
     },
     "execution_count": 52,
     "metadata": {},
     "output_type": "execute_result"
    }
   ],
   "source": [
    "df_cvec"
   ]
  },
  {
   "cell_type": "code",
   "execution_count": 53,
   "id": "4ee79ee0",
   "metadata": {},
   "outputs": [
    {
     "data": {
      "text/plain": [
       "00          2\n",
       "02          1\n",
       "0200        1\n",
       "021         1\n",
       "031         1\n",
       "           ..\n",
       "zhao        1\n",
       "zone       10\n",
       "zoo         1\n",
       "zoom        1\n",
       "zrebiec     2\n",
       "Length: 4677, dtype: int64"
      ]
     },
     "execution_count": 53,
     "metadata": {},
     "output_type": "execute_result"
    }
   ],
   "source": [
    "df_cvec_series = pd.Series(df_cvec.sum())\n",
    "df_cvec_series "
   ]
  },
  {
   "cell_type": "code",
   "execution_count": 54,
   "id": "dee84478",
   "metadata": {},
   "outputs": [],
   "source": [
    "df1_cvec= cvec.fit_transform(df1['title'])\n",
    "df1_cvec = pd.DataFrame(df1_cvec.todense(), columns=cvec.get_feature_names_out())"
   ]
  },
  {
   "cell_type": "code",
   "execution_count": 55,
   "id": "df7aaf42",
   "metadata": {},
   "outputs": [],
   "source": [
    "df2_cvec= cvec.fit_transform(df2['title'])\n",
    "df2_cvec = pd.DataFrame(df2_cvec.todense(), columns=cvec.get_feature_names_out())"
   ]
  },
  {
   "cell_type": "code",
   "execution_count": 56,
   "id": "2770b556",
   "metadata": {},
   "outputs": [
    {
     "data": {
      "image/png": "[encoded data removed]",
      "text/plain": [
       "<Figure size 432x288 with 1 Axes>"
      ]
     },
     "metadata": {
      "needs_background": "light"
     },
     "output_type": "display_data"
    }
   ],
   "source": [
    "#Most common words\n",
    "df_cvec.sum().sort_values(ascending =False).head(15).plot.barh();"
   ]
  },
  {
   "cell_type": "code",
   "execution_count": 57,
   "id": "93ec0772",
   "metadata": {},
   "outputs": [
    {
     "data": {
      "image/png": "[encoded data removed]",
      "text/plain": [
       "<Figure size 432x288 with 1 Axes>"
      ]
     },
     "metadata": {
      "needs_background": "light"
     },
     "output_type": "display_data"
    }
   ],
   "source": [
    "#Most common words in nfl subreddit\n",
    "df1_cvec.sum().sort_values(ascending =False).head(15).plot.barh();"
   ]
  },
  {
   "cell_type": "code",
   "execution_count": 58,
   "id": "5fb0ba39",
   "metadata": {},
   "outputs": [],
   "source": [
    "freq1 = pd.Series(df1_cvec.sum().sort_values(ascending =False)[:10])"
   ]
  },
  {
   "cell_type": "code",
   "execution_count": 59,
   "id": "fda84375",
   "metadata": {},
   "outputs": [
    {
     "data": {
      "text/plain": [
       "highlight    239\n",
       "game         184\n",
       "nfl          108\n",
       "yards         96\n",
       "td            93\n",
       "week          90\n",
       "play          78\n",
       "today         71\n",
       "broncos       66\n",
       "team          63\n",
       "dtype: int64"
      ]
     },
     "execution_count": 59,
     "metadata": {},
     "output_type": "execute_result"
    }
   ],
   "source": [
    "freq1"
   ]
  },
  {
   "cell_type": "code",
   "execution_count": 60,
   "id": "3e50e019",
   "metadata": {},
   "outputs": [
    {
     "data": {
      "text/plain": [
       "['highlight',\n",
       " 'game',\n",
       " 'nfl',\n",
       " 'yards',\n",
       " 'td',\n",
       " 'week',\n",
       " 'play',\n",
       " 'today',\n",
       " 'broncos',\n",
       " 'team']"
      ]
     },
     "execution_count": 60,
     "metadata": {},
     "output_type": "execute_result"
    }
   ],
   "source": [
    "freq1 = list(freq1.index)\n",
    "freq1 "
   ]
  },
  {
   "cell_type": "code",
   "execution_count": 61,
   "id": "ee29b676",
   "metadata": {},
   "outputs": [],
   "source": [
    "def frequent_words_removal(df):    \n",
    "    df['title'] = df['title'].str.lower().apply(lambda x: \" \".join(x for x in x.split() if x not in freq1))\n",
    "    print(df['title'].head())"
   ]
  },
  {
   "cell_type": "code",
   "execution_count": 62,
   "id": "cf20272b",
   "metadata": {},
   "outputs": [
    {
     "name": "stdout",
     "output_type": "stream",
     "text": [
      "0    post thread cincinnati bengals 23 at baltimore...\n",
      "1    thread cincinnati bengals 22 at baltimore rave...\n",
      "2    cardinals miss the field goal and eagles stay ...\n",
      "3                  roughing the passer called stunning\n",
      "4    stat muse cooper rush is 50 as a starter only ...\n",
      "Name: title, dtype: object\n"
     ]
    }
   ],
   "source": [
    "frequent_words_removal(df)"
   ]
  },
  {
   "cell_type": "code",
   "execution_count": 63,
   "id": "453526c3",
   "metadata": {},
   "outputs": [
    {
     "data": {
      "text/plain": [
       "0     post thread cincinnati bengals 23 at baltimore...\n",
       "1     thread cincinnati bengals 22 at baltimore rave...\n",
       "2     cardinals miss the field goal and eagles stay ...\n",
       "3                   roughing the passer called stunning\n",
       "4     stat muse cooper rush is 50 as a starter only ...\n",
       "5     tucker kicks the winner for the ravens and the...\n",
       "6     tucker just called himself a system kicker and...\n",
       "7     mosher nfc east through 5 eagles 50 cowboys 41...\n",
       "8     michael lopez using nextgenstats ball tracking...\n",
       "9        justin tucker lets the world know whos the man\n",
       "10    mayfield makes a big mistake and the 49ers pic...\n",
       "11    shannon sharpe i trust tuckers foot more than ...\n",
       "12    brett kollman on twitter reminder that the lea...\n",
       "13                          mooney with a 1 handed snag\n",
       "14    benjamin solak the nfc east is a collective 14...\n",
       "15    buffalo billspittsburgh your friendly neighbor...\n",
       "16    br gridiron the defender grabbed the quarterba...\n",
       "17    meirov mindblowing stat on the broadcast aaron...\n",
       "18    meirov josh allen in the first half 1423 370 t...\n",
       "19    parsons forces stafford to fumble and thats ba...\n",
       "20                dantzler with the rip to seal the win\n",
       "21                       uk commentary of the bellinger\n",
       "22    brady becomes the first player to surpass 1000...\n",
       "23    geno hits yet another gorgeous deep ball right...\n",
       "24                       wentz throws a pick titans win\n",
       "25      brain daboll fired up after win against packers\n",
       "26    jackson bridgewater out because of new concuss...\n",
       "27    the giants have beaten both 1 playoff seeds fr...\n",
       "28    stat muse justin tucker has made 60 straight f...\n",
       "29    andrewcallahan with 302 to the patriots defens...\n",
       "Name: title, dtype: object"
      ]
     },
     "execution_count": 63,
     "metadata": {},
     "output_type": "execute_result"
    }
   ],
   "source": [
    "df.title.head(30)"
   ]
  },
  {
   "cell_type": "code",
   "execution_count": 64,
   "id": "85cf4105",
   "metadata": {},
   "outputs": [
    {
     "data": {
      "image/png": "[encoded data removed]",
      "text/plain": [
       "<Figure size 432x288 with 1 Axes>"
      ]
     },
     "metadata": {
      "needs_background": "light"
     },
     "output_type": "display_data"
    }
   ],
   "source": [
    "#Most common words in ncaa subreddit\n",
    "df2_cvec.sum().sort_values(ascending =False).head(15).plot.barh();"
   ]
  },
  {
   "cell_type": "code",
   "execution_count": 65,
   "id": "6ba1587f",
   "metadata": {},
   "outputs": [
    {
     "data": {
      "text/plain": [
       "ncaa           246\n",
       "college        135\n",
       "athletes        78\n",
       "football        68\n",
       "state           65\n",
       "vs              63\n",
       "basketball      63\n",
       "team            51\n",
       "game            48\n",
       "eligibility     45\n",
       "dtype: int64"
      ]
     },
     "execution_count": 65,
     "metadata": {},
     "output_type": "execute_result"
    }
   ],
   "source": [
    "freq2 = pd.Series(df2_cvec.sum().sort_values(ascending =False)[:10])\n",
    "freq2 "
   ]
  },
  {
   "cell_type": "code",
   "execution_count": 66,
   "id": "9b62fb1a",
   "metadata": {},
   "outputs": [
    {
     "data": {
      "text/plain": [
       "['ncaa',\n",
       " 'college',\n",
       " 'athletes',\n",
       " 'football',\n",
       " 'state',\n",
       " 'vs',\n",
       " 'basketball',\n",
       " 'team',\n",
       " 'game',\n",
       " 'eligibility']"
      ]
     },
     "execution_count": 66,
     "metadata": {},
     "output_type": "execute_result"
    }
   ],
   "source": [
    "freq2 = list(freq2.index)\n",
    "freq2 "
   ]
  },
  {
   "cell_type": "code",
   "execution_count": 67,
   "id": "4b098230",
   "metadata": {},
   "outputs": [],
   "source": [
    "def frequent_words_removal2(df):    \n",
    "    df['title'] = df['title'].str.lower().apply(lambda x: \" \".join(x for x in x.split() if x not in freq2))\n",
    "    print(df['title'].head())"
   ]
  },
  {
   "cell_type": "code",
   "execution_count": 68,
   "id": "676b4d43",
   "metadata": {},
   "outputs": [
    {
     "name": "stdout",
     "output_type": "stream",
     "text": [
      "0    post thread cincinnati bengals 23 at baltimore...\n",
      "1    thread cincinnati bengals 22 at baltimore rave...\n",
      "2    cardinals miss the field goal and eagles stay ...\n",
      "3                  roughing the passer called stunning\n",
      "4    stat muse cooper rush is 50 as a starter only ...\n",
      "Name: title, dtype: object\n"
     ]
    }
   ],
   "source": [
    "frequent_words_removal2(df)"
   ]
  },
  {
   "cell_type": "code",
   "execution_count": 69,
   "id": "c81af108",
   "metadata": {},
   "outputs": [
    {
     "data": {
      "text/html": [
       "<div>\n",
       "<style scoped>\n",
       "    .dataframe tbody tr th:only-of-type {\n",
       "        vertical-align: middle;\n",
       "    }\n",
       "\n",
       "    .dataframe tbody tr th {\n",
       "        vertical-align: top;\n",
       "    }\n",
       "\n",
       "    .dataframe thead th {\n",
       "        text-align: right;\n",
       "    }\n",
       "</style>\n",
       "<table border=\"1\" class=\"dataframe\">\n",
       "  <thead>\n",
       "    <tr style=\"text-align: right;\">\n",
       "      <th></th>\n",
       "      <th>is_nfl</th>\n",
       "      <th>author_fullname</th>\n",
       "      <th>title</th>\n",
       "    </tr>\n",
       "  </thead>\n",
       "  <tbody>\n",
       "    <tr>\n",
       "      <th>0</th>\n",
       "      <td>1</td>\n",
       "      <td>t2_plq2w</td>\n",
       "      <td>post thread cincinnati bengals 23 at baltimore...</td>\n",
       "    </tr>\n",
       "    <tr>\n",
       "      <th>1</th>\n",
       "      <td>1</td>\n",
       "      <td>t2_plq2w</td>\n",
       "      <td>thread cincinnati bengals 22 at baltimore rave...</td>\n",
       "    </tr>\n",
       "    <tr>\n",
       "      <th>2</th>\n",
       "      <td>1</td>\n",
       "      <td>t2_gbzf7q</td>\n",
       "      <td>cardinals miss the field goal and eagles stay ...</td>\n",
       "    </tr>\n",
       "    <tr>\n",
       "      <th>3</th>\n",
       "      <td>1</td>\n",
       "      <td>t2_s82n19zx</td>\n",
       "      <td>roughing the passer called stunning</td>\n",
       "    </tr>\n",
       "    <tr>\n",
       "      <th>4</th>\n",
       "      <td>1</td>\n",
       "      <td>t2_gbzf7q</td>\n",
       "      <td>stat muse cooper rush is 50 as a starter only ...</td>\n",
       "    </tr>\n",
       "  </tbody>\n",
       "</table>\n",
       "</div>"
      ],
      "text/plain": [
       "   is_nfl author_fullname                                              title\n",
       "0       1        t2_plq2w  post thread cincinnati bengals 23 at baltimore...\n",
       "1       1        t2_plq2w  thread cincinnati bengals 22 at baltimore rave...\n",
       "2       1       t2_gbzf7q  cardinals miss the field goal and eagles stay ...\n",
       "3       1     t2_s82n19zx                roughing the passer called stunning\n",
       "4       1       t2_gbzf7q  stat muse cooper rush is 50 as a starter only ..."
      ]
     },
     "execution_count": 69,
     "metadata": {},
     "output_type": "execute_result"
    }
   ],
   "source": [
    "df.head()"
   ]
  },
  {
   "cell_type": "code",
   "execution_count": 70,
   "id": "f3c2cad8",
   "metadata": {},
   "outputs": [],
   "source": [
    "# Instantiate a CountVectorizer.\n",
    "cvec = CountVectorizer(stop_words='english')\n",
    "# Fit and transform the vectorizer on our corpus.\n",
    "df_cvec= cvec.fit_transform(df['title'])\n",
    "#putting results into dataframe\n",
    "df_cvec = pd.DataFrame(df_cvec.todense(), columns=cvec.get_feature_names_out())"
   ]
  },
  {
   "cell_type": "code",
   "execution_count": 71,
   "id": "59201786",
   "metadata": {},
   "outputs": [
    {
     "data": {
      "image/png": "[encoded data removed]",
      "text/plain": [
       "<Figure size 432x288 with 1 Axes>"
      ]
     },
     "metadata": {
      "needs_background": "light"
     },
     "output_type": "display_data"
    }
   ],
   "source": [
    "#Most common words\n",
    "df_cvec.sum().sort_values(ascending =False).head(15).plot.barh();"
   ]
  },
  {
   "cell_type": "code",
   "execution_count": 73,
   "id": "891272eb",
   "metadata": {},
   "outputs": [
    {
     "data": {
      "text/html": [
       "<div>\n",
       "<style scoped>\n",
       "    .dataframe tbody tr th:only-of-type {\n",
       "        vertical-align: middle;\n",
       "    }\n",
       "\n",
       "    .dataframe tbody tr th {\n",
       "        vertical-align: top;\n",
       "    }\n",
       "\n",
       "    .dataframe thead th {\n",
       "        text-align: right;\n",
       "    }\n",
       "</style>\n",
       "<table border=\"1\" class=\"dataframe\">\n",
       "  <thead>\n",
       "    <tr style=\"text-align: right;\">\n",
       "      <th></th>\n",
       "      <th>is_nfl</th>\n",
       "      <th>author_fullname</th>\n",
       "      <th>title</th>\n",
       "    </tr>\n",
       "  </thead>\n",
       "  <tbody>\n",
       "    <tr>\n",
       "      <th>0</th>\n",
       "      <td>1</td>\n",
       "      <td>t2_plq2w</td>\n",
       "      <td>post thread cincinnati bengals 23 at baltimore...</td>\n",
       "    </tr>\n",
       "    <tr>\n",
       "      <th>1</th>\n",
       "      <td>1</td>\n",
       "      <td>t2_plq2w</td>\n",
       "      <td>thread cincinnati bengals 22 at baltimore rave...</td>\n",
       "    </tr>\n",
       "    <tr>\n",
       "      <th>2</th>\n",
       "      <td>1</td>\n",
       "      <td>t2_gbzf7q</td>\n",
       "      <td>cardinals miss the field goal and eagles stay ...</td>\n",
       "    </tr>\n",
       "    <tr>\n",
       "      <th>3</th>\n",
       "      <td>1</td>\n",
       "      <td>t2_s82n19zx</td>\n",
       "      <td>roughing the passer called stunning</td>\n",
       "    </tr>\n",
       "    <tr>\n",
       "      <th>4</th>\n",
       "      <td>1</td>\n",
       "      <td>t2_gbzf7q</td>\n",
       "      <td>stat muse cooper rush is 50 as a starter only ...</td>\n",
       "    </tr>\n",
       "    <tr>\n",
       "      <th>5</th>\n",
       "      <td>1</td>\n",
       "      <td>t2_gbzf7q</td>\n",
       "      <td>tucker kicks the winner for the ravens and the...</td>\n",
       "    </tr>\n",
       "    <tr>\n",
       "      <th>6</th>\n",
       "      <td>1</td>\n",
       "      <td>t2_1upx8mh</td>\n",
       "      <td>tucker just called himself a system kicker and...</td>\n",
       "    </tr>\n",
       "    <tr>\n",
       "      <th>7</th>\n",
       "      <td>1</td>\n",
       "      <td>t2_5jmky52c</td>\n",
       "      <td>mosher nfc east through 5 eagles 50 cowboys 41...</td>\n",
       "    </tr>\n",
       "    <tr>\n",
       "      <th>8</th>\n",
       "      <td>1</td>\n",
       "      <td>t2_gbzf7q</td>\n",
       "      <td>michael lopez using nextgenstats ball tracking...</td>\n",
       "    </tr>\n",
       "    <tr>\n",
       "      <th>9</th>\n",
       "      <td>1</td>\n",
       "      <td>t2_slvwr6cu</td>\n",
       "      <td>justin tucker lets the world know whos the man</td>\n",
       "    </tr>\n",
       "  </tbody>\n",
       "</table>\n",
       "</div>"
      ],
      "text/plain": [
       "   is_nfl author_fullname                                              title\n",
       "0       1        t2_plq2w  post thread cincinnati bengals 23 at baltimore...\n",
       "1       1        t2_plq2w  thread cincinnati bengals 22 at baltimore rave...\n",
       "2       1       t2_gbzf7q  cardinals miss the field goal and eagles stay ...\n",
       "3       1     t2_s82n19zx                roughing the passer called stunning\n",
       "4       1       t2_gbzf7q  stat muse cooper rush is 50 as a starter only ...\n",
       "5       1       t2_gbzf7q  tucker kicks the winner for the ravens and the...\n",
       "6       1      t2_1upx8mh  tucker just called himself a system kicker and...\n",
       "7       1     t2_5jmky52c  mosher nfc east through 5 eagles 50 cowboys 41...\n",
       "8       1       t2_gbzf7q  michael lopez using nextgenstats ball tracking...\n",
       "9       1     t2_slvwr6cu     justin tucker lets the world know whos the man"
      ]
     },
     "execution_count": 73,
     "metadata": {},
     "output_type": "execute_result"
    }
   ],
   "source": [
    "df.head(10)"
   ]
  },
  {
   "cell_type": "markdown",
   "id": "fce34571",
   "metadata": {},
   "source": [
    "### Explore title length"
   ]
  },
  {
   "cell_type": "code",
   "execution_count": 74,
   "id": "23976128",
   "metadata": {},
   "outputs": [],
   "source": [
    "#a new column called title_length that contains the length of each status\n",
    "df['title_length'] = df['title'].str.len()"
   ]
  },
  {
   "cell_type": "code",
   "execution_count": 75,
   "id": "d0f80d2c",
   "metadata": {},
   "outputs": [],
   "source": [
    "#a new column called title_word_count that contains the number of words in each status\n",
    "# Instantiate RegExp Tokenizer\n",
    "tokenizer = RegexpTokenizer(r'\\w+')\n",
    "df['title_word_count'] = df['title'].str.lower().apply(lambda x: len(tokenizer.tokenize(x)))"
   ]
  },
  {
   "cell_type": "code",
   "execution_count": 76,
   "id": "f7c54d6c",
   "metadata": {},
   "outputs": [
    {
     "data": {
      "text/html": [
       "<div>\n",
       "<style scoped>\n",
       "    .dataframe tbody tr th:only-of-type {\n",
       "        vertical-align: middle;\n",
       "    }\n",
       "\n",
       "    .dataframe tbody tr th {\n",
       "        vertical-align: top;\n",
       "    }\n",
       "\n",
       "    .dataframe thead th {\n",
       "        text-align: right;\n",
       "    }\n",
       "</style>\n",
       "<table border=\"1\" class=\"dataframe\">\n",
       "  <thead>\n",
       "    <tr style=\"text-align: right;\">\n",
       "      <th></th>\n",
       "      <th>is_nfl</th>\n",
       "      <th>title_length</th>\n",
       "      <th>title_word_count</th>\n",
       "      <th>title_ave_length</th>\n",
       "    </tr>\n",
       "  </thead>\n",
       "  <tbody>\n",
       "    <tr>\n",
       "      <th>count</th>\n",
       "      <td>1582.00</td>\n",
       "      <td>1582.00</td>\n",
       "      <td>1582.00</td>\n",
       "      <td>1576.00</td>\n",
       "    </tr>\n",
       "    <tr>\n",
       "      <th>mean</th>\n",
       "      <td>0.52</td>\n",
       "      <td>77.41</td>\n",
       "      <td>13.88</td>\n",
       "      <td>0.18</td>\n",
       "    </tr>\n",
       "    <tr>\n",
       "      <th>std</th>\n",
       "      <td>0.50</td>\n",
       "      <td>62.49</td>\n",
       "      <td>11.55</td>\n",
       "      <td>0.03</td>\n",
       "    </tr>\n",
       "    <tr>\n",
       "      <th>min</th>\n",
       "      <td>0.00</td>\n",
       "      <td>0.00</td>\n",
       "      <td>0.00</td>\n",
       "      <td>0.02</td>\n",
       "    </tr>\n",
       "    <tr>\n",
       "      <th>25%</th>\n",
       "      <td>0.00</td>\n",
       "      <td>33.00</td>\n",
       "      <td>6.00</td>\n",
       "      <td>0.16</td>\n",
       "    </tr>\n",
       "    <tr>\n",
       "      <th>50%</th>\n",
       "      <td>1.00</td>\n",
       "      <td>58.00</td>\n",
       "      <td>10.00</td>\n",
       "      <td>0.18</td>\n",
       "    </tr>\n",
       "    <tr>\n",
       "      <th>75%</th>\n",
       "      <td>1.00</td>\n",
       "      <td>98.00</td>\n",
       "      <td>18.00</td>\n",
       "      <td>0.20</td>\n",
       "    </tr>\n",
       "    <tr>\n",
       "      <th>max</th>\n",
       "      <td>1.00</td>\n",
       "      <td>287.00</td>\n",
       "      <td>57.00</td>\n",
       "      <td>0.33</td>\n",
       "    </tr>\n",
       "  </tbody>\n",
       "</table>\n",
       "</div>"
      ],
      "text/plain": [
       "        is_nfl  title_length  title_word_count  title_ave_length\n",
       "count  1582.00       1582.00           1582.00           1576.00\n",
       "mean      0.52         77.41             13.88              0.18\n",
       "std       0.50         62.49             11.55              0.03\n",
       "min       0.00          0.00              0.00              0.02\n",
       "25%       0.00         33.00              6.00              0.16\n",
       "50%       1.00         58.00             10.00              0.18\n",
       "75%       1.00         98.00             18.00              0.20\n",
       "max       1.00        287.00             57.00              0.33"
      ]
     },
     "execution_count": 76,
     "metadata": {},
     "output_type": "execute_result"
    }
   ],
   "source": [
    "#  a new column called title_ave_length that contains the sum of the length of all the words and divide it by the total length of the status\n",
    "df['title_ave_length'] = df['title_word_count']/df['title_length']\n",
    "df.describe().round(2)"
   ]
  },
  {
   "cell_type": "code",
   "execution_count": 77,
   "id": "d03769d5",
   "metadata": {},
   "outputs": [
    {
     "data": {
      "image/png": "[encoded data removed]",
      "text/plain": [
       "<Figure size 432x288 with 2 Axes>"
      ]
     },
     "metadata": {
      "needs_background": "light"
     },
     "output_type": "display_data"
    }
   ],
   "source": [
    "#correlation matrix of 'title_ave_length' 'title_word_count' 'title_length'\n",
    "df_word = df[['title_ave_length','title_word_count','title_length']].copy()\n",
    "corr = df_word.corr()\n",
    "sns.heatmap(corr, cmap=\"Blues\", annot=True);"
   ]
  },
  {
   "cell_type": "code",
   "execution_count": 78,
   "id": "017e5ae4",
   "metadata": {},
   "outputs": [
    {
     "data": {
      "image/png": "[encoded data removed]",
      "text/plain": [
       "<Figure size 1224x360 with 3 Axes>"
      ]
     },
     "metadata": {
      "needs_background": "light"
     },
     "output_type": "display_data"
    },
    {
     "data": {
      "image/png": "[encoded data removed]",
      "text/plain": [
       "<Figure size 432x432 with 3 Axes>"
      ]
     },
     "metadata": {
      "needs_background": "light"
     },
     "output_type": "display_data"
    },
    {
     "data": {
      "image/png": "[encoded data removed]",
      "text/plain": [
       "<Figure size 432x432 with 3 Axes>"
      ]
     },
     "metadata": {
      "needs_background": "light"
     },
     "output_type": "display_data"
    },
    {
     "data": {
      "image/png": "[encoded data removed]",
      "text/plain": [
       "<Figure size 432x432 with 3 Axes>"
      ]
     },
     "metadata": {
      "needs_background": "light"
     },
     "output_type": "display_data"
    }
   ],
   "source": [
    "fig, ax = plt.subplots(nrows=1, ncols=3, figsize=(17,5))\n",
    "ax = ax.ravel() \n",
    "\n",
    "fig.suptitle(\"Jointplot\", fontsize=16)\n",
    "ax[0].set_title('title_ave_length VS title_word_count', fontsize =14)\n",
    "sns.jointplot(ax=ax[0], data=df, x='title_ave_length', y='title_word_count', hue='is_nfl')\n",
    "\n",
    "ax[1].set_title('title_ave_length VS title_length', fontsize =14)\n",
    "sns.jointplot(ax=ax[1], data=df, x='title_ave_length', y='title_length', hue='is_nfl')\n",
    "\n",
    "ax[2].set_title('title_word_count VS title_length', fontsize =14)\n",
    "sns.jointplot(ax=ax[2], data=df, x='title_word_count', y='title_length', hue='is_nfl')\n",
    "\n",
    "plt.show()\n",
    "\n"
   ]
  },
  {
   "cell_type": "code",
   "execution_count": 79,
   "id": "7ca0a4ba",
   "metadata": {},
   "outputs": [
    {
     "name": "stderr",
     "output_type": "stream",
     "text": [
      "C:\\Users\\science01\\AppData\\Local\\Temp\\ipykernel_26648\\3634890726.py:2: FutureWarning: ['author_fullname', 'title'] did not aggregate successfully. If any error is raised this will raise in a future version of pandas. Drop these columns/ops to avoid this warning.\n",
      "  df.groupby(['is_nfl']).agg(['mean']).round(2)\n"
     ]
    },
    {
     "data": {
      "text/html": [
       "<div>\n",
       "<style scoped>\n",
       "    .dataframe tbody tr th:only-of-type {\n",
       "        vertical-align: middle;\n",
       "    }\n",
       "\n",
       "    .dataframe tbody tr th {\n",
       "        vertical-align: top;\n",
       "    }\n",
       "\n",
       "    .dataframe thead tr th {\n",
       "        text-align: left;\n",
       "    }\n",
       "\n",
       "    .dataframe thead tr:last-of-type th {\n",
       "        text-align: right;\n",
       "    }\n",
       "</style>\n",
       "<table border=\"1\" class=\"dataframe\">\n",
       "  <thead>\n",
       "    <tr>\n",
       "      <th></th>\n",
       "      <th>title_length</th>\n",
       "      <th>title_word_count</th>\n",
       "      <th>title_ave_length</th>\n",
       "    </tr>\n",
       "    <tr>\n",
       "      <th></th>\n",
       "      <th>mean</th>\n",
       "      <th>mean</th>\n",
       "      <th>mean</th>\n",
       "    </tr>\n",
       "    <tr>\n",
       "      <th>is_nfl</th>\n",
       "      <th></th>\n",
       "      <th></th>\n",
       "      <th></th>\n",
       "    </tr>\n",
       "  </thead>\n",
       "  <tbody>\n",
       "    <tr>\n",
       "      <th>0</th>\n",
       "      <td>48.88</td>\n",
       "      <td>8.55</td>\n",
       "      <td>0.18</td>\n",
       "    </tr>\n",
       "    <tr>\n",
       "      <th>1</th>\n",
       "      <td>103.91</td>\n",
       "      <td>18.85</td>\n",
       "      <td>0.18</td>\n",
       "    </tr>\n",
       "  </tbody>\n",
       "</table>\n",
       "</div>"
      ],
      "text/plain": [
       "       title_length title_word_count title_ave_length\n",
       "               mean             mean             mean\n",
       "is_nfl                                               \n",
       "0             48.88             8.55             0.18\n",
       "1            103.91            18.85             0.18"
      ]
     },
     "execution_count": 79,
     "metadata": {},
     "output_type": "execute_result"
    }
   ],
   "source": [
    "#df.groupby(['is_nfl'])['title_length','title_word_count','title_ave_length'].agg(['mean']).round(2)\n",
    "df.groupby(['is_nfl']).agg(['mean']).round(2)"
   ]
  },
  {
   "cell_type": "markdown",
   "id": "e610d7e3",
   "metadata": {},
   "source": [
    "### Exploring authors\n"
   ]
  },
  {
   "cell_type": "code",
   "execution_count": 80,
   "id": "0593c5a3",
   "metadata": {},
   "outputs": [
    {
     "data": {
      "text/plain": [
       "966"
      ]
     },
     "execution_count": 80,
     "metadata": {},
     "output_type": "execute_result"
    }
   ],
   "source": [
    "df['author_fullname'].nunique()"
   ]
  },
  {
   "cell_type": "code",
   "execution_count": 81,
   "id": "b70a1225",
   "metadata": {},
   "outputs": [
    {
     "data": {
      "text/plain": [
       "(1582, 6)"
      ]
     },
     "execution_count": 81,
     "metadata": {},
     "output_type": "execute_result"
    }
   ],
   "source": [
    "df.shape"
   ]
  },
  {
   "cell_type": "code",
   "execution_count": 82,
   "id": "37bc02e8",
   "metadata": {},
   "outputs": [
    {
     "data": {
      "text/plain": [
       "(1001, 109)"
      ]
     },
     "execution_count": 82,
     "metadata": {},
     "output_type": "execute_result"
    }
   ],
   "source": [
    "df1.shape"
   ]
  },
  {
   "cell_type": "code",
   "execution_count": 83,
   "id": "437b4d00",
   "metadata": {},
   "outputs": [
    {
     "data": {
      "text/plain": [
       "(976, 113)"
      ]
     },
     "execution_count": 83,
     "metadata": {},
     "output_type": "execute_result"
    }
   ],
   "source": [
    "df2.shape"
   ]
  },
  {
   "cell_type": "markdown",
   "id": "c197e78e",
   "metadata": {},
   "source": [
    "## Developing baseline model (Using Logistic Regression)"
   ]
  },
  {
   "cell_type": "markdown",
   "id": "c9ff3fe5",
   "metadata": {},
   "source": [
    "#### Classification numbers of word count using Logistic Regression"
   ]
  },
  {
   "cell_type": "code",
   "execution_count": 84,
   "id": "81734cac",
   "metadata": {},
   "outputs": [],
   "source": [
    "# Set X and y\n",
    "X = df[['title_word_count']]\n",
    "y = df['is_nfl']\n",
    "# Train (80%) Test (20%) split \n",
    "X_train, X_test, y_train, y_test = train_test_split(X, y, test_size=0.2, \n",
    "                                                    random_state=42,\n",
    "                                                    stratify=y)"
   ]
  },
  {
   "cell_type": "code",
   "execution_count": 85,
   "id": "3b0c3e76",
   "metadata": {},
   "outputs": [
    {
     "name": "stdout",
     "output_type": "stream",
     "text": [
      "Logistic Regression Intercept: [-1.52417001]\n",
      "Logistic Regression Coefficient(s): [[0.13038471]]\n",
      "Testing accuracry: 0.668769716088328\n"
     ]
    }
   ],
   "source": [
    "logreg =LogisticRegression()\n",
    "logreg.fit(X_train, y_train)\n",
    "logreg.predict(X_test)\n",
    "\n",
    "print(f'Logistic Regression Intercept: {logreg.intercept_}')\n",
    "print(f'Logistic Regression Coefficient(s): {logreg.coef_}')\n",
    "print(f'Testing accuracry: {logreg.score(X_test, y_test)}')"
   ]
  },
  {
   "cell_type": "markdown",
   "id": "84fd2d93",
   "metadata": {},
   "source": [
    "### Classification title post from text using Logistic Regression"
   ]
  },
  {
   "cell_type": "code",
   "execution_count": 86,
   "id": "789a0521",
   "metadata": {},
   "outputs": [],
   "source": [
    "# Set X and y\n",
    "X = df['title']\n",
    "y = df['is_nfl']\n",
    "# Train (80%) Test (20%) split \n",
    "X_train, X_test, y_train, y_test = train_test_split(X, y, test_size=0.2, \n",
    "                                                    random_state=42,\n",
    "                                                    stratify=y)"
   ]
  },
  {
   "cell_type": "code",
   "execution_count": 87,
   "id": "39529295",
   "metadata": {
    "scrolled": true
   },
   "outputs": [
    {
     "name": "stdout",
     "output_type": "stream",
     "text": [
      "CountVectorizer+LogisticRegression: 0.800790513833992\n",
      "Best params:{'cv__max_features': 100, 'cv__ngram_range': (1, 1), 'cv__stop_words': 'english'}\n",
      "\n",
      "TfidVectorizer+LogisticRegression:  0.7976284584980238\n",
      "Best params:{'tv__max_features': 100, 'tv__ngram_range': (1, 1), 'tv__stop_words': 'english'}\n",
      "\n"
     ]
    }
   ],
   "source": [
    "# Gridsearch Vectorizer with Logistic Regression\n",
    "pipe1 = Pipeline([('cv', CountVectorizer()),('lr', LogisticRegression())])\n",
    "\n",
    "pipe1_params = {'cv__max_features': [5,10,25,50,100],\n",
    "                'cv__stop_words':   [None,'english'],\n",
    "                'cv__ngram_range':  [(1,1),(1,2)],\n",
    "              } \n",
    "\n",
    "grid1 = GridSearchCV(pipe1,pipe1_params,cv=5)\n",
    "grid1.fit(X_train, y_train)\n",
    "print(f'CountVectorizer+LogisticRegression: {grid1.best_score_}')\n",
    "print(f'Best params:{grid1.best_params_}')\n",
    "print('')                                       \n",
    "# ==========================================================================\n",
    "pipe2 = Pipeline([('tv', TfidfVectorizer()),('lr', LogisticRegression())])\n",
    "\n",
    "pipe2_params = {'tv__max_features': [5,10,25,50,100],\n",
    "                'tv__stop_words':   [None,'english'],\n",
    "                'tv__ngram_range':  [(1,1),(1,2)],\n",
    "              } \n",
    "\n",
    "grid2 = GridSearchCV(pipe2,pipe2_params,cv=5)\n",
    "grid2.fit(X_train, y_train)\n",
    "print(f'TfidVectorizer+LogisticRegression:  {grid2.best_score_}')\n",
    "print(f'Best params:{grid2.best_params_}')\n",
    "print('')"
   ]
  },
  {
   "cell_type": "markdown",
   "id": "32fe6447",
   "metadata": {},
   "source": [
    "### Stemmatization before vectorization"
   ]
  },
  {
   "cell_type": "code",
   "execution_count": 88,
   "id": "3bd23b57",
   "metadata": {},
   "outputs": [],
   "source": [
    "df_stem= df.copy()\n",
    "df_lemm= df.copy()"
   ]
  },
  {
   "cell_type": "code",
   "execution_count": 89,
   "id": "b6671d80",
   "metadata": {},
   "outputs": [],
   "source": [
    "from nltk.stem import PorterStemmer\n",
    "st = PorterStemmer()\n",
    "def stemming(df):\n",
    "    return df['title'].apply(lambda x: \" \".join([st.stem(word) for word in x.split()]))"
   ]
  },
  {
   "cell_type": "code",
   "execution_count": 90,
   "id": "a6f592bf",
   "metadata": {},
   "outputs": [
    {
     "data": {
      "text/plain": [
       "0       post thread cincinnati bengal 23 at baltimor r...\n",
       "1        thread cincinnati bengal 22 at baltimor raven 22\n",
       "2       cardin miss the field goal and eagl stay unbeaten\n",
       "3                              rough the passer call stun\n",
       "4       stat muse cooper rush is 50 as a starter onli ...\n",
       "                              ...                        \n",
       "1577        opportun for foreign student to compet in the\n",
       "1578    march mad who will win in the websit final fou...\n",
       "1579               is the 2014 nba draft class now underr\n",
       "1580                              of cours should be paid\n",
       "1581                                   can union say nlrb\n",
       "Name: title, Length: 1582, dtype: object"
      ]
     },
     "execution_count": 90,
     "metadata": {},
     "output_type": "execute_result"
    }
   ],
   "source": [
    "stemming(df_stem)"
   ]
  },
  {
   "cell_type": "code",
   "execution_count": 91,
   "id": "8b062c3d",
   "metadata": {},
   "outputs": [
    {
     "data": {
      "text/html": [
       "<div>\n",
       "<style scoped>\n",
       "    .dataframe tbody tr th:only-of-type {\n",
       "        vertical-align: middle;\n",
       "    }\n",
       "\n",
       "    .dataframe tbody tr th {\n",
       "        vertical-align: top;\n",
       "    }\n",
       "\n",
       "    .dataframe thead th {\n",
       "        text-align: right;\n",
       "    }\n",
       "</style>\n",
       "<table border=\"1\" class=\"dataframe\">\n",
       "  <thead>\n",
       "    <tr style=\"text-align: right;\">\n",
       "      <th></th>\n",
       "      <th>is_nfl</th>\n",
       "      <th>author_fullname</th>\n",
       "      <th>title</th>\n",
       "      <th>title_length</th>\n",
       "      <th>title_word_count</th>\n",
       "      <th>title_ave_length</th>\n",
       "    </tr>\n",
       "  </thead>\n",
       "  <tbody>\n",
       "    <tr>\n",
       "      <th>0</th>\n",
       "      <td>1</td>\n",
       "      <td>t2_plq2w</td>\n",
       "      <td>post thread cincinnati bengals 23 at baltimore...</td>\n",
       "      <td>56</td>\n",
       "      <td>9</td>\n",
       "      <td>0.160714</td>\n",
       "    </tr>\n",
       "    <tr>\n",
       "      <th>1</th>\n",
       "      <td>1</td>\n",
       "      <td>t2_plq2w</td>\n",
       "      <td>thread cincinnati bengals 22 at baltimore rave...</td>\n",
       "      <td>51</td>\n",
       "      <td>8</td>\n",
       "      <td>0.156863</td>\n",
       "    </tr>\n",
       "    <tr>\n",
       "      <th>2</th>\n",
       "      <td>1</td>\n",
       "      <td>t2_gbzf7q</td>\n",
       "      <td>cardinals miss the field goal and eagles stay ...</td>\n",
       "      <td>54</td>\n",
       "      <td>9</td>\n",
       "      <td>0.166667</td>\n",
       "    </tr>\n",
       "    <tr>\n",
       "      <th>3</th>\n",
       "      <td>1</td>\n",
       "      <td>t2_s82n19zx</td>\n",
       "      <td>roughing the passer called stunning</td>\n",
       "      <td>35</td>\n",
       "      <td>5</td>\n",
       "      <td>0.142857</td>\n",
       "    </tr>\n",
       "    <tr>\n",
       "      <th>4</th>\n",
       "      <td>1</td>\n",
       "      <td>t2_gbzf7q</td>\n",
       "      <td>stat muse cooper rush is 50 as a starter only ...</td>\n",
       "      <td>95</td>\n",
       "      <td>21</td>\n",
       "      <td>0.221053</td>\n",
       "    </tr>\n",
       "  </tbody>\n",
       "</table>\n",
       "</div>"
      ],
      "text/plain": [
       "   is_nfl author_fullname                                              title  \\\n",
       "0       1        t2_plq2w  post thread cincinnati bengals 23 at baltimore...   \n",
       "1       1        t2_plq2w  thread cincinnati bengals 22 at baltimore rave...   \n",
       "2       1       t2_gbzf7q  cardinals miss the field goal and eagles stay ...   \n",
       "3       1     t2_s82n19zx                roughing the passer called stunning   \n",
       "4       1       t2_gbzf7q  stat muse cooper rush is 50 as a starter only ...   \n",
       "\n",
       "   title_length  title_word_count  title_ave_length  \n",
       "0            56                 9          0.160714  \n",
       "1            51                 8          0.156863  \n",
       "2            54                 9          0.166667  \n",
       "3            35                 5          0.142857  \n",
       "4            95                21          0.221053  "
      ]
     },
     "execution_count": 91,
     "metadata": {},
     "output_type": "execute_result"
    }
   ],
   "source": [
    "df_stem.head()"
   ]
  },
  {
   "cell_type": "code",
   "execution_count": 92,
   "id": "0b07b919",
   "metadata": {},
   "outputs": [],
   "source": [
    "# Set X and y\n",
    "X = df_stem['title']\n",
    "y = df_stem['is_nfl']\n",
    "# Train (80%) Test (20%) split \n",
    "X_train, X_test, y_train, y_test = train_test_split(X, y, test_size=0.2, \n",
    "                                                    random_state=42,\n",
    "                                                    stratify=y)"
   ]
  },
  {
   "cell_type": "code",
   "execution_count": 93,
   "id": "e1fb0754",
   "metadata": {},
   "outputs": [
    {
     "name": "stdout",
     "output_type": "stream",
     "text": [
      "CountVectorizer+LogisticRegression: 0.800790513833992\n",
      "Best params:{'cv__max_features': 100, 'cv__ngram_range': (1, 1), 'cv__stop_words': 'english'}\n",
      "\n",
      "TfidVectorizer+LogisticRegression:  0.7976284584980238\n",
      "Best params:{'tv__max_features': 100, 'tv__ngram_range': (1, 1), 'tv__stop_words': 'english'}\n",
      "\n"
     ]
    }
   ],
   "source": [
    "# Gridsearch Vectorizer with Logistic Regression\n",
    "pipe3 = Pipeline([('cv', CountVectorizer()),('lr', LogisticRegression())])\n",
    "\n",
    "pipe3_params = {'cv__max_features': [5,10,25,50,100],\n",
    "                'cv__stop_words':   [None,'english'],\n",
    "                'cv__ngram_range':  [(1,1),(1,2)],\n",
    "              } \n",
    "\n",
    "grid3 = GridSearchCV(pipe3,pipe3_params,cv=5)\n",
    "grid3.fit(X_train, y_train)\n",
    "print(f'CountVectorizer+LogisticRegression: {grid3.best_score_}')\n",
    "print(f'Best params:{grid3.best_params_}')\n",
    "print('')                                       \n",
    "# ==========================================================================\n",
    "pipe4 = Pipeline([('tv', TfidfVectorizer()),('lr', LogisticRegression())])\n",
    "\n",
    "pipe4_params = {'tv__max_features': [5,10,25,50,100],\n",
    "                'tv__stop_words':   [None,'english'],\n",
    "                'tv__ngram_range':  [(1,1),(1,2)],\n",
    "              } \n",
    "\n",
    "grid4 = GridSearchCV(pipe4,pipe4_params,cv=5)\n",
    "grid4.fit(X_train, y_train)\n",
    "print(f'TfidVectorizer+LogisticRegression:  {grid4.best_score_}')\n",
    "print(f'Best params:{grid4.best_params_}')\n",
    "print('')"
   ]
  },
  {
   "cell_type": "markdown",
   "id": "d8c9b8f9",
   "metadata": {},
   "source": [
    "### Lemmatization "
   ]
  },
  {
   "cell_type": "code",
   "execution_count": 94,
   "id": "5a8e545a",
   "metadata": {},
   "outputs": [],
   "source": [
    "from textblob import Word\n",
    "def lemmatization(df):\n",
    "     return df['title'].apply(lambda x: \" \".join([Word(word).lemmatize() for word in x.split()]))"
   ]
  },
  {
   "cell_type": "code",
   "execution_count": 95,
   "id": "eae190f3",
   "metadata": {},
   "outputs": [
    {
     "data": {
      "text/plain": [
       "0       post thread cincinnati bengal 23 at baltimore ...\n",
       "1       thread cincinnati bengal 22 at baltimore raven 22\n",
       "2       cardinal miss the field goal and eagle stay un...\n",
       "3                     roughing the passer called stunning\n",
       "4       stat muse cooper rush is 50 a a starter only t...\n",
       "                              ...                        \n",
       "1577    opportunity for foreign student to compete in the\n",
       "1578    march madness who will win in the website fina...\n",
       "1579           is the 2014 nba draft class now underrated\n",
       "1580                             of course should be paid\n",
       "1581                                can unionize say nlrb\n",
       "Name: title, Length: 1582, dtype: object"
      ]
     },
     "execution_count": 95,
     "metadata": {},
     "output_type": "execute_result"
    }
   ],
   "source": [
    "lemmatization(df_lemm)"
   ]
  },
  {
   "cell_type": "code",
   "execution_count": 96,
   "id": "3c38d517",
   "metadata": {},
   "outputs": [
    {
     "data": {
      "text/html": [
       "<div>\n",
       "<style scoped>\n",
       "    .dataframe tbody tr th:only-of-type {\n",
       "        vertical-align: middle;\n",
       "    }\n",
       "\n",
       "    .dataframe tbody tr th {\n",
       "        vertical-align: top;\n",
       "    }\n",
       "\n",
       "    .dataframe thead th {\n",
       "        text-align: right;\n",
       "    }\n",
       "</style>\n",
       "<table border=\"1\" class=\"dataframe\">\n",
       "  <thead>\n",
       "    <tr style=\"text-align: right;\">\n",
       "      <th></th>\n",
       "      <th>is_nfl</th>\n",
       "      <th>author_fullname</th>\n",
       "      <th>title</th>\n",
       "      <th>title_length</th>\n",
       "      <th>title_word_count</th>\n",
       "      <th>title_ave_length</th>\n",
       "    </tr>\n",
       "  </thead>\n",
       "  <tbody>\n",
       "    <tr>\n",
       "      <th>0</th>\n",
       "      <td>1</td>\n",
       "      <td>t2_plq2w</td>\n",
       "      <td>post thread cincinnati bengals 23 at baltimore...</td>\n",
       "      <td>56</td>\n",
       "      <td>9</td>\n",
       "      <td>0.160714</td>\n",
       "    </tr>\n",
       "    <tr>\n",
       "      <th>1</th>\n",
       "      <td>1</td>\n",
       "      <td>t2_plq2w</td>\n",
       "      <td>thread cincinnati bengals 22 at baltimore rave...</td>\n",
       "      <td>51</td>\n",
       "      <td>8</td>\n",
       "      <td>0.156863</td>\n",
       "    </tr>\n",
       "    <tr>\n",
       "      <th>2</th>\n",
       "      <td>1</td>\n",
       "      <td>t2_gbzf7q</td>\n",
       "      <td>cardinals miss the field goal and eagles stay ...</td>\n",
       "      <td>54</td>\n",
       "      <td>9</td>\n",
       "      <td>0.166667</td>\n",
       "    </tr>\n",
       "    <tr>\n",
       "      <th>3</th>\n",
       "      <td>1</td>\n",
       "      <td>t2_s82n19zx</td>\n",
       "      <td>roughing the passer called stunning</td>\n",
       "      <td>35</td>\n",
       "      <td>5</td>\n",
       "      <td>0.142857</td>\n",
       "    </tr>\n",
       "    <tr>\n",
       "      <th>4</th>\n",
       "      <td>1</td>\n",
       "      <td>t2_gbzf7q</td>\n",
       "      <td>stat muse cooper rush is 50 as a starter only ...</td>\n",
       "      <td>95</td>\n",
       "      <td>21</td>\n",
       "      <td>0.221053</td>\n",
       "    </tr>\n",
       "  </tbody>\n",
       "</table>\n",
       "</div>"
      ],
      "text/plain": [
       "   is_nfl author_fullname                                              title  \\\n",
       "0       1        t2_plq2w  post thread cincinnati bengals 23 at baltimore...   \n",
       "1       1        t2_plq2w  thread cincinnati bengals 22 at baltimore rave...   \n",
       "2       1       t2_gbzf7q  cardinals miss the field goal and eagles stay ...   \n",
       "3       1     t2_s82n19zx                roughing the passer called stunning   \n",
       "4       1       t2_gbzf7q  stat muse cooper rush is 50 as a starter only ...   \n",
       "\n",
       "   title_length  title_word_count  title_ave_length  \n",
       "0            56                 9          0.160714  \n",
       "1            51                 8          0.156863  \n",
       "2            54                 9          0.166667  \n",
       "3            35                 5          0.142857  \n",
       "4            95                21          0.221053  "
      ]
     },
     "execution_count": 96,
     "metadata": {},
     "output_type": "execute_result"
    }
   ],
   "source": [
    "df_lemm.head()"
   ]
  },
  {
   "cell_type": "code",
   "execution_count": 97,
   "id": "8d94baf8",
   "metadata": {},
   "outputs": [],
   "source": [
    "# Set X and y\n",
    "X = df_lemm['title']\n",
    "y = df_lemm['is_nfl']\n",
    "# Train (80%) Test (20%) split \n",
    "X_train, X_test, y_train, y_test = train_test_split(X, y, test_size=0.2, \n",
    "                                                    random_state=42,\n",
    "                                                    stratify=y)"
   ]
  },
  {
   "cell_type": "code",
   "execution_count": 98,
   "id": "939b4f52",
   "metadata": {},
   "outputs": [
    {
     "name": "stdout",
     "output_type": "stream",
     "text": [
      "CountVectorizer+LogisticRegression: 0.800790513833992\n",
      "Best params:{'cv__max_features': 100, 'cv__ngram_range': (1, 1), 'cv__stop_words': 'english'}\n",
      "\n",
      "TfidVectorizer+LogisticRegression:  0.7976284584980238\n",
      "Best params:{'tv__max_features': 100, 'tv__ngram_range': (1, 1), 'tv__stop_words': 'english'}\n",
      "\n"
     ]
    }
   ],
   "source": [
    "#Gridsearch Vectorizer with Logistic Regression\n",
    "pipe5 = Pipeline([('cv', CountVectorizer()),('lr', LogisticRegression())])\n",
    "\n",
    "pipe5_params = {'cv__max_features': [5,10,25,50,100],\n",
    "                'cv__stop_words':   [None,'english'],\n",
    "                'cv__ngram_range':  [(1,1),(1,2)],\n",
    "              } \n",
    "\n",
    "grid5 = GridSearchCV(pipe5,pipe5_params,cv=5)\n",
    "grid5.fit(X_train, y_train)\n",
    "print(f'CountVectorizer+LogisticRegression: {grid5.best_score_}')\n",
    "print(f'Best params:{grid5.best_params_}')\n",
    "print('')                                       \n",
    "# ==========================================================================\n",
    "pipe6 = Pipeline([('tv', TfidfVectorizer()),('lr', LogisticRegression())])\n",
    "\n",
    "pipe6_params = {'tv__max_features': [5,10,25,50,100],\n",
    "                'tv__stop_words':   [None,'english'],\n",
    "                'tv__ngram_range':  [(1,1),(1,2)],\n",
    "              } \n",
    "\n",
    "grid6 = GridSearchCV(pipe6,pipe6_params,cv=5)\n",
    "grid6.fit(X_train, y_train)\n",
    "print(f'TfidVectorizer+LogisticRegression:  {grid6.best_score_}')\n",
    "print(f'Best params:{grid6.best_params_}')\n",
    "print('')"
   ]
  },
  {
   "cell_type": "markdown",
   "id": "ecc59f74",
   "metadata": {},
   "source": [
    "### Stem and Lemmatize"
   ]
  },
  {
   "cell_type": "code",
   "execution_count": 99,
   "id": "a4c80921",
   "metadata": {},
   "outputs": [
    {
     "data": {
      "text/plain": [
       "0       post thread cincinnati bengal 23 at baltimor r...\n",
       "1        thread cincinnati bengal 22 at baltimor raven 22\n",
       "2       cardin miss the field goal and eagl stay unbeaten\n",
       "3                              rough the passer call stun\n",
       "4       stat muse cooper rush is 50 as a starter onli ...\n",
       "                              ...                        \n",
       "1577        opportun for foreign student to compet in the\n",
       "1578    march mad who will win in the websit final fou...\n",
       "1579               is the 2014 nba draft class now underr\n",
       "1580                              of cours should be paid\n",
       "1581                                   can union say nlrb\n",
       "Name: title, Length: 1582, dtype: object"
      ]
     },
     "execution_count": 99,
     "metadata": {},
     "output_type": "execute_result"
    }
   ],
   "source": [
    "lemmatization(df_lemm)\n",
    "stemming(df_lemm)"
   ]
  },
  {
   "cell_type": "code",
   "execution_count": 100,
   "id": "44fd8e3e",
   "metadata": {},
   "outputs": [
    {
     "data": {
      "text/html": [
       "<div>\n",
       "<style scoped>\n",
       "    .dataframe tbody tr th:only-of-type {\n",
       "        vertical-align: middle;\n",
       "    }\n",
       "\n",
       "    .dataframe tbody tr th {\n",
       "        vertical-align: top;\n",
       "    }\n",
       "\n",
       "    .dataframe thead th {\n",
       "        text-align: right;\n",
       "    }\n",
       "</style>\n",
       "<table border=\"1\" class=\"dataframe\">\n",
       "  <thead>\n",
       "    <tr style=\"text-align: right;\">\n",
       "      <th></th>\n",
       "      <th>is_nfl</th>\n",
       "      <th>author_fullname</th>\n",
       "      <th>title</th>\n",
       "      <th>title_length</th>\n",
       "      <th>title_word_count</th>\n",
       "      <th>title_ave_length</th>\n",
       "    </tr>\n",
       "  </thead>\n",
       "  <tbody>\n",
       "    <tr>\n",
       "      <th>0</th>\n",
       "      <td>1</td>\n",
       "      <td>t2_plq2w</td>\n",
       "      <td>post thread cincinnati bengals 23 at baltimore...</td>\n",
       "      <td>56</td>\n",
       "      <td>9</td>\n",
       "      <td>0.160714</td>\n",
       "    </tr>\n",
       "    <tr>\n",
       "      <th>1</th>\n",
       "      <td>1</td>\n",
       "      <td>t2_plq2w</td>\n",
       "      <td>thread cincinnati bengals 22 at baltimore rave...</td>\n",
       "      <td>51</td>\n",
       "      <td>8</td>\n",
       "      <td>0.156863</td>\n",
       "    </tr>\n",
       "    <tr>\n",
       "      <th>2</th>\n",
       "      <td>1</td>\n",
       "      <td>t2_gbzf7q</td>\n",
       "      <td>cardinals miss the field goal and eagles stay ...</td>\n",
       "      <td>54</td>\n",
       "      <td>9</td>\n",
       "      <td>0.166667</td>\n",
       "    </tr>\n",
       "    <tr>\n",
       "      <th>3</th>\n",
       "      <td>1</td>\n",
       "      <td>t2_s82n19zx</td>\n",
       "      <td>roughing the passer called stunning</td>\n",
       "      <td>35</td>\n",
       "      <td>5</td>\n",
       "      <td>0.142857</td>\n",
       "    </tr>\n",
       "    <tr>\n",
       "      <th>4</th>\n",
       "      <td>1</td>\n",
       "      <td>t2_gbzf7q</td>\n",
       "      <td>stat muse cooper rush is 50 as a starter only ...</td>\n",
       "      <td>95</td>\n",
       "      <td>21</td>\n",
       "      <td>0.221053</td>\n",
       "    </tr>\n",
       "  </tbody>\n",
       "</table>\n",
       "</div>"
      ],
      "text/plain": [
       "   is_nfl author_fullname                                              title  \\\n",
       "0       1        t2_plq2w  post thread cincinnati bengals 23 at baltimore...   \n",
       "1       1        t2_plq2w  thread cincinnati bengals 22 at baltimore rave...   \n",
       "2       1       t2_gbzf7q  cardinals miss the field goal and eagles stay ...   \n",
       "3       1     t2_s82n19zx                roughing the passer called stunning   \n",
       "4       1       t2_gbzf7q  stat muse cooper rush is 50 as a starter only ...   \n",
       "\n",
       "   title_length  title_word_count  title_ave_length  \n",
       "0            56                 9          0.160714  \n",
       "1            51                 8          0.156863  \n",
       "2            54                 9          0.166667  \n",
       "3            35                 5          0.142857  \n",
       "4            95                21          0.221053  "
      ]
     },
     "execution_count": 100,
     "metadata": {},
     "output_type": "execute_result"
    }
   ],
   "source": [
    "df_lemm.head()"
   ]
  },
  {
   "cell_type": "code",
   "execution_count": 101,
   "id": "a83cb1ab",
   "metadata": {},
   "outputs": [],
   "source": [
    "# Set X and y\n",
    "X = df_lemm['title']\n",
    "y = df_lemm['is_nfl']\n",
    "# Train (80%) Test (20%) split \n",
    "X_train, X_test, y_train, y_test = train_test_split(X, y, test_size=0.2, \n",
    "                                                    random_state=42,\n",
    "                                                    stratify=y)"
   ]
  },
  {
   "cell_type": "code",
   "execution_count": 102,
   "id": "97a0601c",
   "metadata": {},
   "outputs": [
    {
     "name": "stdout",
     "output_type": "stream",
     "text": [
      "CountVectorizer+LogisticRegression: 0.800790513833992\n",
      "Best params:{'cv__max_features': 100, 'cv__ngram_range': (1, 1), 'cv__stop_words': 'english'}\n",
      "\n",
      "TfidVectorizer+LogisticRegression:  0.7976284584980238\n",
      "Best params:{'tv__max_features': 100, 'tv__ngram_range': (1, 1), 'tv__stop_words': 'english'}\n",
      "\n"
     ]
    }
   ],
   "source": [
    "#Gridsearch Vectorizer with Logistic Regression\n",
    "pipe7 = Pipeline([('cv', CountVectorizer()),('lr', LogisticRegression())])\n",
    "\n",
    "pipe7_params = {'cv__max_features': [5,10,25,50,100],\n",
    "                'cv__stop_words':   [None,'english'],\n",
    "                'cv__ngram_range':  [(1,1),(1,2)],\n",
    "              } \n",
    "\n",
    "grid7 = GridSearchCV(pipe5,pipe5_params,cv=5)\n",
    "grid7.fit(X_train, y_train)\n",
    "print(f'CountVectorizer+LogisticRegression: {grid7.best_score_}')\n",
    "print(f'Best params:{grid7.best_params_}')\n",
    "print('')                                       \n",
    "# ==========================================================================\n",
    "pipe8 = Pipeline([('tv', TfidfVectorizer()),('lr', LogisticRegression())])\n",
    "\n",
    "pipe8_params = {'tv__max_features': [5,10,25,50,100],\n",
    "                'tv__stop_words':   [None,'english'],\n",
    "                'tv__ngram_range':  [(1,1),(1,2)],\n",
    "              } \n",
    "\n",
    "grid8 = GridSearchCV(pipe8,pipe8_params,cv=5)\n",
    "grid8.fit(X_train, y_train)\n",
    "print(f'TfidVectorizer+LogisticRegression:  {grid8.best_score_}')\n",
    "print(f'Best params:{grid8.best_params_}')\n",
    "print('')"
   ]
  },
  {
   "cell_type": "markdown",
   "id": "eb103a72",
   "metadata": {},
   "source": [
    "### number of word and bag of word"
   ]
  },
  {
   "cell_type": "code",
   "execution_count": 103,
   "id": "b3fe201a",
   "metadata": {},
   "outputs": [],
   "source": [
    "from nltk.tokenize import sent_tokenize, word_tokenize, RegexpTokenizer\n",
    "from sklearn.feature_extraction import DictVectorizer\n",
    "import pandas as pd\n",
    "import re\n",
    "\n",
    "from sklearn.linear_model import LogisticRegression\n",
    "from sklearn.feature_extraction import DictVectorizer\n",
    "from sklearn.pipeline import Pipeline\n",
    "from sklearn.metrics import classification_report, confusion_matrix, ConfusionMatrixDisplay\n",
    "from sklearn.model_selection import train_test_split\n",
    "\n",
    "\n",
    "df['title_tokens'] = df.title.apply(word_tokenize)"
   ]
  },
  {
   "cell_type": "code",
   "execution_count": 104,
   "id": "24cfbc45",
   "metadata": {},
   "outputs": [
    {
     "name": "stdout",
     "output_type": "stream",
     "text": [
      "(1344, 7)\n",
      "(238, 7)\n"
     ]
    }
   ],
   "source": [
    "train, test = train_test_split(df, test_size=0.15, random_state=42)\n",
    "\n",
    "print(train.shape)\n",
    "print(test.shape)"
   ]
  },
  {
   "cell_type": "code",
   "execution_count": 105,
   "id": "0aac070f",
   "metadata": {},
   "outputs": [],
   "source": [
    "def featurize_unigram(tokens:list):\n",
    "    feat_dic = {}\n",
    "    for i, token in enumerate(tokens):\n",
    "        ## add unigram\n",
    "        feat_dic[token] = 1\n",
    "        ## add text length\n",
    "        feat_dic['LENGTH'] = len(tokens)\n",
    "    return feat_dic\n",
    "\n",
    "def featurize_bigram(tokens:list):\n",
    "    feat_dic = {}\n",
    "    for i, token in enumerate(tokens):\n",
    "        ## add unigram\n",
    "        feat_dic[token] = 1\n",
    "        ## add bigram\n",
    "        if i < len(tokens) - 1:\n",
    "            bigram = '|'.join(tokens[i:i+2]) # e.g. ฉัน|ไป\n",
    "            feat_dic[bigram] = 1\n",
    "        ## add text length\n",
    "        feat_dic['text_length'] = len(tokens)\n",
    "    return feat_dic"
   ]
  },
  {
   "cell_type": "code",
   "execution_count": 106,
   "id": "c5d249fa",
   "metadata": {},
   "outputs": [],
   "source": [
    "from dis import dis\n",
    "from matplotlib.pyplot import cla\n",
    "\n",
    "\n",
    "def train_predict(X_column_name, featurize_function_name, show_confusion_matrix=False, return_model=False):\n",
    "    ## make X : featurize each record as dictionary\n",
    "    X_train = train[X_column_name].apply(featurize_function_name)\n",
    "    X_test = test[X_column_name].apply(featurize_function_name)\n",
    "\n",
    "    ## make y\n",
    "    y_train = train['is_nfl']\n",
    "    y_test = test['is_nfl']\n",
    "\n",
    "    ## Instantiate DictVectorizer, LogisticRegression\n",
    "    pipe = Pipeline([\n",
    "        ('dv', DictVectorizer(sparse=True)),  ## feature dictionary -> vector\n",
    "        ('logreg', LogisticRegression(max_iter=200))\n",
    "    ])\n",
    "\n",
    "    pipe.fit(X_train, y_train) # train\n",
    "    y_pred = pipe.predict(X_test) # predict\n",
    "    class_name = pipe.named_steps['logreg'].classes_ # name of labels\n",
    "\n",
    "    print(classification_report(y_test, y_pred))\n",
    "\n",
    "    # print confusion matrix\n",
    "    if show_confusion_matrix:\n",
    "        cm = confusion_matrix(y_test, y_pred, labels=class_name)\n",
    "        disp = ConfusionMatrixDisplay(confusion_matrix=cm, display_labels=class_name)\n",
    "        disp.plot(xticks_rotation=80)\n",
    "\n",
    "    # return model\n",
    "    if return_model:\n",
    "        return pipe"
   ]
  },
  {
   "cell_type": "code",
   "execution_count": 107,
   "id": "5828b1a1",
   "metadata": {
    "scrolled": true
   },
   "outputs": [
    {
     "name": "stdout",
     "output_type": "stream",
     "text": [
      "              precision    recall  f1-score   support\n",
      "\n",
      "           0       0.64      0.74      0.69        96\n",
      "           1       0.80      0.72      0.76       142\n",
      "\n",
      "    accuracy                           0.73       238\n",
      "   macro avg       0.72      0.73      0.72       238\n",
      "weighted avg       0.74      0.73      0.73       238\n",
      "\n"
     ]
    },
    {
     "name": "stderr",
     "output_type": "stream",
     "text": [
      "C:\\Users\\science01\\Anaconda3\\lib\\site-packages\\sklearn\\linear_model\\_logistic.py:444: ConvergenceWarning: lbfgs failed to converge (status=1):\n",
      "STOP: TOTAL NO. of ITERATIONS REACHED LIMIT.\n",
      "\n",
      "Increase the number of iterations (max_iter) or scale the data as shown in:\n",
      "    https://scikit-learn.org/stable/modules/preprocessing.html\n",
      "Please also refer to the documentation for alternative solver options:\n",
      "    https://scikit-learn.org/stable/modules/linear_model.html#logistic-regression\n",
      "  n_iter_i = _check_optimize_result(\n"
     ]
    }
   ],
   "source": [
    "train_predict('title', featurize_unigram)"
   ]
  },
  {
   "cell_type": "markdown",
   "id": "f72d0959",
   "metadata": {},
   "source": [
    "## Building alternative models"
   ]
  },
  {
   "cell_type": "code",
   "execution_count": 108,
   "id": "5a85b133",
   "metadata": {},
   "outputs": [],
   "source": [
    "# Set X and y\n",
    "X = df['title']\n",
    "y = df['is_nfl']\n",
    "# Train (80%) Test (20%) split \n",
    "X_train, X_test, y_train, y_test = train_test_split(X, y, test_size=0.2, \n",
    "                                                    random_state=42,\n",
    "                                                    stratify=y)"
   ]
  },
  {
   "cell_type": "code",
   "execution_count": 109,
   "id": "8b465aea",
   "metadata": {},
   "outputs": [
    {
     "name": "stdout",
     "output_type": "stream",
     "text": [
      "CountVectorizer+NaieveBayes:        0.6774703557312252\n",
      "Best params:{'cv__max_features': 100, 'cv__ngram_range': (1, 1), 'cv__stop_words': None}\n",
      "\n",
      "CountVectorizer+RandomForest:        0.7944664031620553\n",
      "Best params:{'cv__max_features': 100, 'cv__ngram_range': (1, 1), 'cv__stop_words': 'english'}\n"
     ]
    }
   ],
   "source": [
    "# CountVectorizer with NaiveBayes, and RandomForest\n",
    "pipe9 = Pipeline([('cv', CountVectorizer()),('mb', MultinomialNB())])\n",
    "\n",
    "pipe9_params = {'cv__max_features': [5,10,25,50,100],\n",
    "                'cv__stop_words':   [None,'english'],\n",
    "                'cv__ngram_range':  [(1,1),(1,2)],\n",
    "              } \n",
    "\n",
    "grid9 = GridSearchCV(pipe9,pipe9_params,cv=5)\n",
    "grid9.fit(X_train, y_train)\n",
    "print(f'CountVectorizer+NaieveBayes:        {grid9.best_score_}')\n",
    "print(f'Best params:{grid9.best_params_}')\n",
    "print('')\n",
    "# ==========================================================================\n",
    "pipe10 = Pipeline([('cv', CountVectorizer()),('rf', RandomForestClassifier())])\n",
    "\n",
    "pipe10_params = {'cv__max_features': [5,10,25,50,100],\n",
    "                'cv__stop_words':   [None,'english'],\n",
    "                'cv__ngram_range':  [(1,1),(1,2)],\n",
    "              } \n",
    "\n",
    "grid10 = GridSearchCV(pipe10,pipe10_params,cv=5)\n",
    "grid10.fit(X_train, y_train)\n",
    "print(f'CountVectorizer+RandomForest:        {grid10.best_score_}')\n",
    "print(f'Best params:{grid10.best_params_}')"
   ]
  },
  {
   "cell_type": "code",
   "execution_count": 111,
   "id": "2976648c",
   "metadata": {},
   "outputs": [
    {
     "name": "stdout",
     "output_type": "stream",
     "text": [
      "TfidVectorizer+NaieveBayes:         0.6774703557312253\n",
      "Best params:{'tv__max_features': 100, 'tv__ngram_range': (1, 1), 'tv__stop_words': None}\n",
      "\n",
      "TfidVectorizer+RandomForest:         0.7952569169960475\n",
      "Best params:{'tv__max_features': 100, 'tv__ngram_range': (1, 2), 'tv__stop_words': 'english'}\n",
      "\n"
     ]
    }
   ],
   "source": [
    "# TfidVectorizer with Logistic Regression, NaiveBayes, and RandomForest\n",
    "pipe11 = Pipeline([('tv', TfidfVectorizer()),('mb', MultinomialNB())])\n",
    "\n",
    "pipe11_params = {'tv__max_features': [5,10,25,50,100],\n",
    "                'tv__stop_words':   [None,'english'],\n",
    "                'tv__ngram_range':  [(1,1),(1,2)],\n",
    "              } \n",
    "\n",
    "grid11 = GridSearchCV(pipe11,pipe11_params,cv=5)\n",
    "grid11.fit(X_train, y_train)\n",
    "print(f'TfidVectorizer+NaieveBayes:         {grid11.best_score_}')\n",
    "print(f'Best params:{grid11.best_params_}')\n",
    "print('')\n",
    "# ==========================================================================\n",
    "pipe11 = Pipeline([('tv', TfidfVectorizer()),('rf', RandomForestClassifier())])\n",
    "\n",
    "pipe11_params = {'tv__max_features': [5,10,25,50,100],\n",
    "                'tv__stop_words':   [None,'english'],\n",
    "                'tv__ngram_range':  [(1,1),(1,2)],\n",
    "              } \n",
    "\n",
    "grid11 = GridSearchCV(pipe11,pipe11_params,cv=5)\n",
    "grid11.fit(X_train, y_train)\n",
    "print(f'TfidVectorizer+RandomForest:         {grid11.best_score_}')\n",
    "print(f'Best params:{grid11.best_params_}')\n",
    "print('')"
   ]
  },
  {
   "cell_type": "code",
   "execution_count": null,
   "id": "fe7c4bc3",
   "metadata": {},
   "outputs": [],
   "source": []
  },
  {
   "cell_type": "code",
   "execution_count": null,
   "id": "19906ae3",
   "metadata": {},
   "outputs": [],
   "source": []
  },
  {
   "cell_type": "code",
   "execution_count": null,
   "id": "3376a29f",
   "metadata": {},
   "outputs": [],
   "source": []
  },
  {
   "cell_type": "code",
   "execution_count": null,
   "id": "ab67ddf1",
   "metadata": {},
   "outputs": [],
   "source": []
  },
  {
   "cell_type": "code",
   "execution_count": null,
   "id": "671413b1",
   "metadata": {},
   "outputs": [],
   "source": []
  },
  {
   "cell_type": "code",
   "execution_count": null,
   "id": "dde5a2b7",
   "metadata": {},
   "outputs": [],
   "source": []
  },
  {
   "cell_type": "code",
   "execution_count": null,
   "id": "f6412f72",
   "metadata": {},
   "outputs": [],
   "source": []
  },
  {
   "cell_type": "code",
   "execution_count": null,
   "id": "4b7f4495",
   "metadata": {},
   "outputs": [],
   "source": []
  },
  {
   "cell_type": "code",
   "execution_count": 112,
   "id": "637f31c3",
   "metadata": {},
   "outputs": [],
   "source": [
    "from sklearn import svm\n",
    "from sklearn.ensemble import RandomForestClassifier\n",
    "from sklearn.linear_model import LogisticRegression\n",
    "from sklearn.naive_bayes import GaussianNB\n",
    "from sklearn.naive_bayes import MultinomialNB\n",
    "from sklearn.tree import DecisionTreeClassifier\n",
    "\n",
    "import warnings\n",
    "warnings.filterwarnings('ignore')"
   ]
  },
  {
   "cell_type": "code",
   "execution_count": 113,
   "id": "0e48a9cc",
   "metadata": {},
   "outputs": [],
   "source": [
    "cvec = CountVectorizer()\n",
    "X_train = cvec.fit_transform(X_train)"
   ]
  },
  {
   "cell_type": "code",
   "execution_count": 114,
   "id": "4a4377b8",
   "metadata": {},
   "outputs": [
    {
     "data": {
      "text/plain": [
       "((1265, 4319), (317,), (1265,), (317,))"
      ]
     },
     "execution_count": 114,
     "metadata": {},
     "output_type": "execute_result"
    }
   ],
   "source": [
    "X_train.shape, X_test.shape, y_train.shape, y_test.shape"
   ]
  },
  {
   "cell_type": "code",
   "execution_count": 115,
   "id": "53efaab1",
   "metadata": {},
   "outputs": [
    {
     "data": {
      "text/plain": [
       "<1265x4319 sparse matrix of type '<class 'numpy.int64'>'\n",
       "\twith 15697 stored elements in Compressed Sparse Row format>"
      ]
     },
     "execution_count": 115,
     "metadata": {},
     "output_type": "execute_result"
    }
   ],
   "source": [
    "X_train"
   ]
  },
  {
   "cell_type": "code",
   "execution_count": 117,
   "id": "96d0bade",
   "metadata": {},
   "outputs": [],
   "source": [
    "X_train = X_train.todense()"
   ]
  },
  {
   "cell_type": "code",
   "execution_count": 118,
   "id": "2f01d034",
   "metadata": {},
   "outputs": [
    {
     "data": {
      "text/plain": [
       "matrix([[0, 0, 0, ..., 0, 0, 0],\n",
       "        [0, 0, 0, ..., 0, 0, 0],\n",
       "        [0, 0, 0, ..., 0, 0, 0],\n",
       "        ...,\n",
       "        [0, 0, 0, ..., 0, 0, 0],\n",
       "        [0, 0, 0, ..., 0, 0, 0],\n",
       "        [0, 0, 0, ..., 0, 0, 0]], dtype=int64)"
      ]
     },
     "execution_count": 118,
     "metadata": {},
     "output_type": "execute_result"
    }
   ],
   "source": [
    "X_train"
   ]
  },
  {
   "cell_type": "code",
   "execution_count": 119,
   "id": "a4b9bdaa",
   "metadata": {},
   "outputs": [],
   "source": [
    "model_params = {\n",
    "    'svm': {\n",
    "        'model': svm.SVC(gamma='auto'),\n",
    "        'params' : {\n",
    "            'C': [1,10,20],\n",
    "            'kernel': ['rbf','linear']\n",
    "        }  \n",
    "    },\n",
    "    'random_forest': {\n",
    "        'model': RandomForestClassifier(),\n",
    "        'params' : {\n",
    "            'n_estimators': [1,5,10]\n",
    "        }\n",
    "    },\n",
    "    'logistic_regression' : {\n",
    "        'model': LogisticRegression(solver='liblinear',multi_class='auto'),\n",
    "        'params': {\n",
    "            'C': [1,5,10]\n",
    "        }\n",
    "    },\n",
    "    'naive_bayes_gaussian': {\n",
    "        'model': GaussianNB(),\n",
    "        'params': {}\n",
    "    },\n",
    "    'naive_bayes_multinomial': {\n",
    "        'model': MultinomialNB(),\n",
    "        'params': {}\n",
    "    },\n",
    "    'decision_tree': {\n",
    "        'model': DecisionTreeClassifier(),\n",
    "        'params': {\n",
    "            'criterion': ['gini','entropy'],\n",
    "            \n",
    "        }\n",
    "    }     \n",
    "}"
   ]
  },
  {
   "cell_type": "code",
   "execution_count": 120,
   "id": "5240b982",
   "metadata": {},
   "outputs": [
    {
     "data": {
      "text/html": [
       "<div>\n",
       "<style scoped>\n",
       "    .dataframe tbody tr th:only-of-type {\n",
       "        vertical-align: middle;\n",
       "    }\n",
       "\n",
       "    .dataframe tbody tr th {\n",
       "        vertical-align: top;\n",
       "    }\n",
       "\n",
       "    .dataframe thead th {\n",
       "        text-align: right;\n",
       "    }\n",
       "</style>\n",
       "<table border=\"1\" class=\"dataframe\">\n",
       "  <thead>\n",
       "    <tr style=\"text-align: right;\">\n",
       "      <th></th>\n",
       "      <th>model</th>\n",
       "      <th>best_score</th>\n",
       "      <th>best_params</th>\n",
       "    </tr>\n",
       "  </thead>\n",
       "  <tbody>\n",
       "    <tr>\n",
       "      <th>0</th>\n",
       "      <td>svm</td>\n",
       "      <td>0.886166</td>\n",
       "      <td>{'C': 1, 'kernel': 'linear'}</td>\n",
       "    </tr>\n",
       "    <tr>\n",
       "      <th>1</th>\n",
       "      <td>random_forest</td>\n",
       "      <td>0.812648</td>\n",
       "      <td>{'n_estimators': 5}</td>\n",
       "    </tr>\n",
       "    <tr>\n",
       "      <th>2</th>\n",
       "      <td>logistic_regression</td>\n",
       "      <td>0.888538</td>\n",
       "      <td>{'C': 10}</td>\n",
       "    </tr>\n",
       "    <tr>\n",
       "      <th>3</th>\n",
       "      <td>naive_bayes_gaussian</td>\n",
       "      <td>0.883004</td>\n",
       "      <td>{}</td>\n",
       "    </tr>\n",
       "    <tr>\n",
       "      <th>4</th>\n",
       "      <td>naive_bayes_multinomial</td>\n",
       "      <td>0.901976</td>\n",
       "      <td>{}</td>\n",
       "    </tr>\n",
       "    <tr>\n",
       "      <th>5</th>\n",
       "      <td>decision_tree</td>\n",
       "      <td>0.773123</td>\n",
       "      <td>{'criterion': 'entropy'}</td>\n",
       "    </tr>\n",
       "  </tbody>\n",
       "</table>\n",
       "</div>"
      ],
      "text/plain": [
       "                     model  best_score                   best_params\n",
       "0                      svm    0.886166  {'C': 1, 'kernel': 'linear'}\n",
       "1            random_forest    0.812648           {'n_estimators': 5}\n",
       "2      logistic_regression    0.888538                     {'C': 10}\n",
       "3     naive_bayes_gaussian    0.883004                            {}\n",
       "4  naive_bayes_multinomial    0.901976                            {}\n",
       "5            decision_tree    0.773123      {'criterion': 'entropy'}"
      ]
     },
     "execution_count": 120,
     "metadata": {},
     "output_type": "execute_result"
    }
   ],
   "source": [
    "from sklearn.model_selection import GridSearchCV\n",
    "import pandas as pd\n",
    "scores = []\n",
    "\n",
    "for model_name, mp in model_params.items():\n",
    "    clf =  GridSearchCV(mp['model'], mp['params'], cv=5, return_train_score=False)\n",
    "    clf.fit(X_train, y_train)\n",
    "    scores.append({\n",
    "        'model': model_name,\n",
    "        'best_score': clf.best_score_,\n",
    "        'best_params': clf.best_params_\n",
    "    })\n",
    "df_scores = pd.DataFrame(scores,columns=['model','best_score','best_params'])\n",
    "df_scores"
   ]
  },
  {
   "cell_type": "code",
   "execution_count": null,
   "id": "d0a85fd6",
   "metadata": {},
   "outputs": [],
   "source": []
  }
 ],
 "metadata": {
  "kernelspec": {
   "display_name": "Python 3 (ipykernel)",
   "language": "python",
   "name": "python3"
  },
  "language_info": {
   "codemirror_mode": {
    "name": "ipython",
    "version": 3
   },
   "file_extension": ".py",
   "mimetype": "text/x-python",
   "name": "python",
   "nbconvert_exporter": "python",
   "pygments_lexer": "ipython3",
   "version": "3.9.12"
  }
 },
 "nbformat": 4,
 "nbformat_minor": 5
}
